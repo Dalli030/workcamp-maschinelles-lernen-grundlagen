{
 "cells": [
  {
   "cell_type": "markdown",
   "metadata": {},
   "source": [
    "# Aufgabe - Plotting mit Matplotlib\n",
    "\n",
    "**Author list:** Alexander Fred Ojala & Ramon Rank\n",
    "\n",
    "**Source:** AY250, UC Berkeley\n",
    "\n",
    "**License Agreement:** Feel free to do whatever you want with this code"
   ]
  },
  {
   "cell_type": "markdown",
   "metadata": {},
   "source": [
    "Die Daten liegen im Ordner /data und heißen: \n",
    "\n",
    "`google_data.txt, ny_temps.txt & yahoo_data.txt`"
   ]
  },
  {
   "cell_type": "code",
   "execution_count": 5,
   "metadata": {},
   "outputs": [
    {
     "name": "stdout",
     "output_type": "stream",
     "text": [
      "google_data.txt  ny_temps.txt  stocks.png  us_baby_name.csv  yahoo_data.txt\n"
     ]
    }
   ],
   "source": [
    "# Im Ordner /data sollten folgende Dateien liegen:\n",
    "# google_data.txt  ny_temps.txt     stocks.png       yahoo_data.txt\n",
    "# Mit folgendem Befehl kann man sich den Ordner Inhalt anzeigen lassen:\n",
    "%ls ./data"
   ]
  },
  {
   "cell_type": "markdown",
   "metadata": {},
   "source": [
    "# Aufgabenstellung\n",
    "\n",
    "Erstellen Sie unter Verwendung von `Python, NumPy, pandas und matplotlib` folgenden Plot:\n",
    "\n",
    "![](answer.png)"
   ]
  },
  {
   "cell_type": "code",
   "execution_count": 6,
   "metadata": {
    "collapsed": true
   },
   "outputs": [],
   "source": [
    "# Laden der Daten und der Bibliotheken\n",
    "import pandas as pd\n",
    "import numpy as np\n",
    "import matplotlib.pyplot as plt\n",
    "#zum Einlesen der Daten in einen Dataframe wird pd.read_csv() verwendet\n",
    "google_data = pd.read_csv('data/google_data.txt',sep=\"\\t\") # Seperator in den Daten ist das tab Zeichen (\\t)\n",
    "yahoo_data = pd.read_csv('data/yahoo_data.txt',sep=\"\\t\")\n",
    "ny_temps = pd.read_csv('data/ny_temps.txt',sep='\\t')\n",
    "%matplotlib inline"
   ]
  },
  {
   "cell_type": "code",
   "execution_count": null,
   "metadata": {
    "collapsed": true
   },
   "outputs": [],
   "source": []
  }
 ],
 "metadata": {
  "anaconda-cloud": {},
  "kernelspec": {
   "display_name": "Python 3",
   "language": "python",
   "name": "python3"
  },
  "language_info": {
   "codemirror_mode": {
    "name": "ipython",
    "version": 3
   },
   "file_extension": ".py",
   "mimetype": "text/x-python",
   "name": "python",
   "nbconvert_exporter": "python",
   "pygments_lexer": "ipython3",
   "version": "3.6.8"
  }
 },
 "nbformat": 4,
 "nbformat_minor": 2
}
