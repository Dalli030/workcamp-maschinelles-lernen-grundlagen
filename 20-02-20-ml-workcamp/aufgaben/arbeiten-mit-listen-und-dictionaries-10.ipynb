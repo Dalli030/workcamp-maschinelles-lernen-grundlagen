{
 "cells": [
  {
   "cell_type": "markdown",
   "metadata": {},
   "source": [
    "<h1>Listen</h1>\n",
    "<li>Listen sind eine sequentielle, geordnete Sammlung von Werten, Zahlen oder strg oder boolean oder hashes etc.\n",
    "['spass',[1,2,4], 3.14, [{1],[2],[3]] in eckigen Klammern\n"
   ]
  },
  {
   "cell_type": "markdown",
   "metadata": {},
   "source": [
    "<h2>Listen erzeugen</h2>"
   ]
  },
  {
   "cell_type": "code",
   "execution_count": 12,
   "metadata": {},
   "outputs": [
    {
     "name": "stdout",
     "output_type": "stream",
     "text": [
      "[4, 2, 6, 3]\n",
      "139970974321224\n",
      "[4, 2, 6, 3]\n",
      "139970974321096\n",
      "[1.0, 2.0, 3.0, 4.0]\n",
      "139970974320520\n",
      "[]\n",
      "139970974321288\n",
      "['11', '22', '33', 'a', 'b', 'c', 'd']\n",
      "139970974319752\n"
     ]
    }
   ],
   "source": [
    "#Haben Sie schon gemerkt dass # einen Kommentar einletet\n",
    "#Für diese einfache Berechnungen muss keine Bibliothek zugeladen werden\n",
    "\n",
    "x = [4,2,6,3] #Erzeugt eine Liste mit Integer Werten\n",
    "x1 = [4,2,6,3] #Erzeugt eine Liste mit den gleichen Werten\n",
    "x2 = [1.0,2.0,3.0,4.0] #Erzeugt eine Liste mit float Werten\n",
    "y = list() # Erzeugt eine leere Liste\n",
    "y = [] #Erzeugt eine leere Liste\n",
    "z = [\"11\",\"22\",\"33\",\"a\",\"b\",\"c\",\"d\"] #erzeugt eine Liste mit string Werten (Zeichen)\n",
    "print(x)\n",
    "print(id(x))\n",
    "print(x1)\n",
    "print(id(x1))\n",
    "print(x2)\n",
    "print(id(x2))\n",
    "print(y)\n",
    "print(id(y))\n",
    "print(z)\n",
    "print(id(z))"
   ]
  },
  {
   "cell_type": "markdown",
   "metadata": {},
   "source": [
    "<h3>Hinzufügen von Objekten in Listen</h3>"
   ]
  },
  {
   "cell_type": "code",
   "execution_count": 13,
   "metadata": {},
   "outputs": [
    {
     "name": "stdout",
     "output_type": "stream",
     "text": [
      "[]\n"
     ]
    }
   ],
   "source": [
    "#Erzeugen einer leeren Liste\n",
    "x=list()\n",
    "print(x)"
   ]
  },
  {
   "cell_type": "code",
   "execution_count": 14,
   "metadata": {},
   "outputs": [
    {
     "name": "stdout",
     "output_type": "stream",
     "text": [
      "['Eins']\n",
      "['Eins', 'Zwei']\n"
     ]
    }
   ],
   "source": [
    "x.append('Eins') #Fügt 'Eins' an das Ende der leeren Liste an\n",
    "print(x)\n",
    "x.append('Zwei') #Fügt 'Zwei' an das Ende der Liste ['Eins'] an\n",
    "print(x)"
   ]
  },
  {
   "cell_type": "code",
   "execution_count": 15,
   "metadata": {},
   "outputs": [
    {
     "name": "stdout",
     "output_type": "stream",
     "text": [
      "['Halbe', 'Eins', 'Zwei']\n"
     ]
    }
   ],
   "source": [
    "x.insert(0,'Halbe') #Fügt 'Halbe' an location 0 ein. Listenelemente werden verschoben\n",
    "print(x)\n",
    "#Achtung: der Index einer Liste beginnt immer mit 0\n",
    "#Hier hat die Liste drei Positionen: 0,1,2"
   ]
  },
  {
   "cell_type": "code",
   "execution_count": 16,
   "metadata": {},
   "outputs": [
    {
     "name": "stdout",
     "output_type": "stream",
     "text": [
      "[0]\n",
      "[0, 1, 2, 3, 4, 5, 6]\n"
     ]
    }
   ],
   "source": [
    "x=list()\n",
    "#Erzeugt wieder leere Liste\n",
    "x.append(0)\n",
    "print(x)\n",
    "x.extend([1,2,3,4,5,6]) #Entpackt die Liste [1,2,3,4,5,6] und fügt jedes Element am Ende der Liste x hinzu\n",
    "print(x)"
   ]
  },
  {
   "cell_type": "markdown",
   "metadata": {},
   "source": [
    "<h3>Index und Teilstücke</h3>"
   ]
  },
  {
   "cell_type": "code",
   "execution_count": 17,
   "metadata": {},
   "outputs": [
    {
     "name": "stdout",
     "output_type": "stream",
     "text": [
      "8\n",
      "32\n"
     ]
    }
   ],
   "source": [
    "x=[1,7,2,5,3,5,67,32]\n",
    "print(len(x))\n",
    "#Es wird die Länge der Liste mit print() ausgegeben\n",
    "#Achtung: Index läuft von 0 bis 7\n",
    "#x[0] = 1\n",
    "#x[7] = 32\n",
    "print(x[7])"
   ]
  },
  {
   "cell_type": "code",
   "execution_count": 18,
   "metadata": {},
   "outputs": [
    {
     "name": "stdout",
     "output_type": "stream",
     "text": [
      "5\n",
      "[2, 5, 3]\n"
     ]
    }
   ],
   "source": [
    "print(x[3])\n",
    "#gibt das Element an Position 3 aus\n",
    "print(x[2:5])\n",
    "#Achtung: gibt die Elemente 2,3,4 aus, das 5. Element x[5] ist in der Ausgabe nicht enthalten."
   ]
  },
  {
   "cell_type": "code",
   "execution_count": 20,
   "metadata": {},
   "outputs": [
    {
     "name": "stdout",
     "output_type": "stream",
     "text": [
      "32\n"
     ]
    }
   ],
   "source": [
    "print(x[-1])\n",
    "#Ausgabe des letzten Elements mit x[-1]"
   ]
  },
  {
   "cell_type": "code",
   "execution_count": 25,
   "metadata": {},
   "outputs": [],
   "source": [
    "#Was gibt print(x[-2]) aus ?\n"
   ]
  },
  {
   "cell_type": "code",
   "execution_count": 26,
   "metadata": {},
   "outputs": [
    {
     "name": "stdout",
     "output_type": "stream",
     "text": [
      "[1, 7, 2, 5, 3, 5, 67]\n"
     ]
    }
   ],
   "source": [
    "print(x[:-1])\n",
    "#Ausgabe ohne das letzte Element"
   ]
  },
  {
   "cell_type": "code",
   "execution_count": 27,
   "metadata": {},
   "outputs": [
    {
     "name": "stdout",
     "output_type": "stream",
     "text": [
      "[32, 67, 5, 3, 5, 2, 7, 1]\n"
     ]
    }
   ],
   "source": [
    "print(x[::-1])\n",
    "#Ausgabe in umgekehrter Reihenfolge"
   ]
  },
  {
   "cell_type": "markdown",
   "metadata": {},
   "source": [
    "<h3>Entfernen von Objekten aus Listen</h3>"
   ]
  },
  {
   "cell_type": "code",
   "execution_count": 28,
   "metadata": {},
   "outputs": [
    {
     "name": "stdout",
     "output_type": "stream",
     "text": [
      "[1, 7, 2, 5, 3, 5, 67]\n",
      "[1, 7, 2, 3, 5, 67]\n"
     ]
    }
   ],
   "source": [
    "x=[1,7,2,5,3,5,67,32]\n",
    "x.pop() #Entfernt das letzte Element aus der Liste\n",
    "print(x)\n",
    "x.pop(3) #Entfernt das Element an Position 3 aus einer Liste\n",
    "print(x)"
   ]
  },
  {
   "cell_type": "code",
   "execution_count": 29,
   "metadata": {},
   "outputs": [
    {
     "name": "stdout",
     "output_type": "stream",
     "text": [
      "[1, 2, 3, 5, 67]\n"
     ]
    }
   ],
   "source": [
    "x.remove(7) #Entfernt die erstmals auftretende Zahl 7 aus der Liste\n",
    "print(x)"
   ]
  },
  {
   "cell_type": "markdown",
   "metadata": {},
   "source": [
    "<h3>Alles, was Sie entfernen möchten, muss sich in der Liste befinden oder der Speicherort muss sich in der Liste befinden</h3>"
   ]
  },
  {
   "cell_type": "code",
   "execution_count": 30,
   "metadata": {},
   "outputs": [
    {
     "ename": "ValueError",
     "evalue": "list.remove(x): x not in list",
     "output_type": "error",
     "traceback": [
      "\u001b[0;31m---------------------------------------------------------------------------\u001b[0m",
      "\u001b[0;31mValueError\u001b[0m                                Traceback (most recent call last)",
      "\u001b[0;32m<ipython-input-30-73bf650720e4>\u001b[0m in \u001b[0;36m<module>\u001b[0;34m\u001b[0m\n\u001b[0;32m----> 1\u001b[0;31m \u001b[0mx\u001b[0m\u001b[0;34m.\u001b[0m\u001b[0mremove\u001b[0m\u001b[0;34m(\u001b[0m\u001b[0;36m20\u001b[0m\u001b[0;34m)\u001b[0m\u001b[0;34m\u001b[0m\u001b[0;34m\u001b[0m\u001b[0m\n\u001b[0m",
      "\u001b[0;31mValueError\u001b[0m: list.remove(x): x not in list"
     ]
    }
   ],
   "source": [
    "x.remove(20)"
   ]
  },
  {
   "cell_type": "markdown",
   "metadata": {},
   "source": [
    "<h2>Listen sind veränderbar [mutable]</h2>"
   ]
  },
  {
   "cell_type": "code",
   "execution_count": 31,
   "metadata": {},
   "outputs": [
    {
     "name": "stdout",
     "output_type": "stream",
     "text": [
      "[1, ['a', 'b'], 3]\n",
      "['a', 'b']\n",
      "['a', 4]\n"
     ]
    }
   ],
   "source": [
    "y=['a','b']\n",
    "x = [1,y,3]\n",
    "print(x)\n",
    "print(y)\n",
    "y[1] = 4\n",
    "print(y)"
   ]
  },
  {
   "cell_type": "code",
   "execution_count": 37,
   "metadata": {},
   "outputs": [
    {
     "name": "stdout",
     "output_type": "stream",
     "text": [
      "[1, ['a', 4], 3]\n",
      "1\n",
      "['a', 4]\n",
      "3\n"
     ]
    }
   ],
   "source": [
    "#Listen können also selber wieder andere Listen enthalten\n",
    "print(x)\n",
    "print(x[0])\n",
    "print(x[1])\n",
    "print(x[2])"
   ]
  },
  {
   "cell_type": "code",
   "execution_count": 38,
   "metadata": {},
   "outputs": [
    {
     "name": "stdout",
     "output_type": "stream",
     "text": [
      "a\n",
      "4\n"
     ]
    }
   ],
   "source": [
    "#Können Sie sich vorstellen wie man an die Elemente der Liste ['a',4] an Position 1 der Liste x kommt ?\n",
    "#Hierzu muss ein zweiter Index eingesetzt werden\n",
    "print(x[1][0])\n",
    "print(x[1][1])"
   ]
  },
  {
   "cell_type": "code",
   "execution_count": 40,
   "metadata": {},
   "outputs": [
    {
     "name": "stdout",
     "output_type": "stream",
     "text": [
      "Hallo 139970973456568\n",
      "Hallo Du! 139970973473904\n",
      "['Hallo'] 139970991783304\n",
      "['Hallo', 'Du!'] 139970991783304\n"
     ]
    }
   ],
   "source": [
    "#Speichere in x ein String Objekt\n",
    "#gebe mit id(x) den Speicherort aus\n",
    "x=\"Hallo\"\n",
    "print(x,id(x))\n",
    "x+=\" Du!\"\n",
    "print(x,id(x)) #x ist nicht das gleiche Objekt wie es war\n",
    "#Speichere in y ein Listen Objekt\n",
    "y=[\"Hallo\"]\n",
    "print(y,id(y))\n",
    "#Füge ein weiteres Listen Element hinzu\n",
    "y+=[\"Du!\"] \n",
    "print(y,id(y)) #y ist immer noch das gleiche Objekt. Listen sind veränderlich. Strings sind unveränderlich (immutable)\n"
   ]
  },
  {
   "cell_type": "code",
   "execution_count": 41,
   "metadata": {},
   "outputs": [],
   "source": [
    "#Definiere die Funktion eggs\n",
    "def eggs(item,total=0):\n",
    "    total+=item\n",
    "    return total\n",
    "\n",
    "#Definiere die Funktion spam\n",
    "def spam(elem,some_list=[]):\n",
    "    some_list.append(elem)\n",
    "    return some_list\n"
   ]
  },
  {
   "cell_type": "code",
   "execution_count": 42,
   "metadata": {},
   "outputs": [
    {
     "name": "stdout",
     "output_type": "stream",
     "text": [
      "1\n",
      "2\n",
      "[1]\n",
      "[1, 2]\n"
     ]
    }
   ],
   "source": [
    "print(eggs(1))\n",
    "print(eggs(2))\n",
    "\n",
    "print(spam(1))\n",
    "print(spam(2))"
   ]
  },
  {
   "cell_type": "markdown",
   "metadata": {},
   "source": [
    "<h1>Iteration</h1>"
   ]
  },
  {
   "cell_type": "markdown",
   "metadata": {},
   "source": [
    "<h2>Range iteration</h2>"
   ]
  },
  {
   "cell_type": "code",
   "execution_count": 47,
   "metadata": {},
   "outputs": [
    {
     "name": "stdout",
     "output_type": "stream",
     "text": [
      "8\n",
      "-----------------------\n",
      "1\n",
      "7\n",
      "2\n",
      "5\n",
      "3\n",
      "5\n",
      "67\n",
      "32\n"
     ]
    }
   ],
   "source": [
    "#Die for-Schleife erstellt eine neue Variable (z. B. index unten).\n",
    "#range(len(x)) erzeugt Werte von 0 bis len (x)\n",
    "x=[1,7,2,5,3,5,67,32]\n",
    "print(len(x))\n",
    "print(\"-----------------------\")\n",
    "for index in range(len(x)):\n",
    "    print(x[index])"
   ]
  },
  {
   "cell_type": "code",
   "execution_count": 48,
   "metadata": {},
   "outputs": [
    {
     "name": "stdout",
     "output_type": "stream",
     "text": [
      "1\n",
      "7\n",
      "2\n",
      "5\n",
      "3\n",
      "5\n",
      "67\n",
      "32\n"
     ]
    }
   ],
   "source": [
    "#Dies lässt sich auch mit i als index formulieren\n",
    "for i in range(len(x)):\n",
    "    print(x[i])"
   ]
  },
  {
   "cell_type": "code",
   "execution_count": 50,
   "metadata": {},
   "outputs": [
    {
     "data": {
      "text/plain": [
       "[0, 1, 2, 3, 4, 5, 6, 7]"
      ]
     },
     "execution_count": 50,
     "metadata": {},
     "output_type": "execute_result"
    }
   ],
   "source": [
    "#Erzeuge eine Liste mit den Indexwerten der Liste x\n",
    "list(range(len(x)))"
   ]
  },
  {
   "cell_type": "markdown",
   "metadata": {},
   "source": [
    "<h3>List element iteration</h3>"
   ]
  },
  {
   "cell_type": "code",
   "execution_count": 51,
   "metadata": {},
   "outputs": [
    {
     "name": "stdout",
     "output_type": "stream",
     "text": [
      "1\n",
      "7\n",
      "2\n",
      "5\n",
      "3\n",
      "5\n",
      "67\n",
      "32\n"
     ]
    }
   ],
   "source": [
    "x=[1,7,2,5,3,5,67,32]\n",
    "for element in x: #Das for zieht Elemente - nacheinander - aus der Liste x und verwendet die Variable \"element\" zum Speichern von Werten\n",
    "    print(element)"
   ]
  },
  {
   "cell_type": "markdown",
   "metadata": {},
   "source": [
    "<h3>Hashes in Listen ablegen</h3>"
   ]
  },
  {
   "cell_type": "code",
   "execution_count": 8,
   "metadata": {},
   "outputs": [
    {
     "name": "stdout",
     "output_type": "stream",
     "text": [
      "6b86b273ff34fce19d6b804eff5a3f5747ada4eaa22f1d49c01e52ddb7875b4b\n",
      "----------------------------------\n",
      "7902699be42c8a8e46fbbb4501726517e86b22c56a189f7625a6da49081b2451\n",
      "----------------------------------\n",
      "d4735e3a265e16eee03f59718b9b5d03019c07d8b6c51f90da3a666eec13ab35\n",
      "----------------------------------\n",
      "ef2d127de37b942baad06145e54b0c619a1f22327b2ebbcfbec78f5564afe39d\n",
      "----------------------------------\n",
      "4e07408562bedb8b60ce05c1decfe3ad16b72230967de01f640b7e4729b49fce\n",
      "----------------------------------\n",
      "ef2d127de37b942baad06145e54b0c619a1f22327b2ebbcfbec78f5564afe39d\n",
      "----------------------------------\n",
      "49d180ecf56132819571bf39d9b7b342522a2ac6d23c1418d3338251bfe469c8\n",
      "----------------------------------\n",
      "e29c9c180c6279b0b02abd6a1801c7c04082cf486ec027aa13515e4f3884bb6b\n",
      "----------------------------------\n",
      "e29c9c180c6279b0b02abd6a1801c7c04082cf486ec027aa13515e4f3884bb6b\n",
      "----------------------------------\n",
      "6b86b273ff34fce19d6b804eff5a3f5747ada4eaa22f1d49c01e52ddb7875b4b\n",
      "----------------------------------\n",
      "4a44dc15364204a80fe80e9039455cc1608281820fe2b24f1e5233ade6af1dd5\n",
      "----------------------------------\n",
      "4fc82b26aecb47d2868c4efbe3581732a3e7cbcc6c2efb32062c08170a05eeb8\n",
      "----------------------------------\n",
      "6b51d431df5d7f141cbececcf79edf3dd861c3b4069f0b11661a3eefacbba918\n",
      "----------------------------------\n",
      "3fdba35f04dc8c462986c992bcf875546257113072a909c162f7e470e581e278\n",
      "----------------------------------\n",
      "8527a891e224136950ff32ca212b45bc93f69fbb801c3b1ebedac52775f99e61\n",
      "----------------------------------\n",
      "e629fa6598d732768f7c726b4b621285f9c3b85303900aa912017db7617d8bdb\n",
      "----------------------------------\n",
      "b17ef6d19c7a5b1ee83b907c595526dcb1eb06db8227d650d5dda0a9f4ce8cd9\n",
      "----------------------------------\n",
      "Wir haben die Daten in die  Liste m gelegt:\n",
      "-----------------------------------\n",
      "['6b86b273ff34fce19d6b804eff5a3f5747ada4eaa22f1d49c01e52ddb7875b4b', '7902699be42c8a8e46fbbb4501726517e86b22c56a189f7625a6da49081b2451', 'd4735e3a265e16eee03f59718b9b5d03019c07d8b6c51f90da3a666eec13ab35', 'ef2d127de37b942baad06145e54b0c619a1f22327b2ebbcfbec78f5564afe39d', '4e07408562bedb8b60ce05c1decfe3ad16b72230967de01f640b7e4729b49fce', 'ef2d127de37b942baad06145e54b0c619a1f22327b2ebbcfbec78f5564afe39d', '49d180ecf56132819571bf39d9b7b342522a2ac6d23c1418d3338251bfe469c8', 'e29c9c180c6279b0b02abd6a1801c7c04082cf486ec027aa13515e4f3884bb6b', 'e29c9c180c6279b0b02abd6a1801c7c04082cf486ec027aa13515e4f3884bb6b', '6b86b273ff34fce19d6b804eff5a3f5747ada4eaa22f1d49c01e52ddb7875b4b', '4a44dc15364204a80fe80e9039455cc1608281820fe2b24f1e5233ade6af1dd5', '4fc82b26aecb47d2868c4efbe3581732a3e7cbcc6c2efb32062c08170a05eeb8', '6b51d431df5d7f141cbececcf79edf3dd861c3b4069f0b11661a3eefacbba918', '3fdba35f04dc8c462986c992bcf875546257113072a909c162f7e470e581e278', '8527a891e224136950ff32ca212b45bc93f69fbb801c3b1ebedac52775f99e61', 'e629fa6598d732768f7c726b4b621285f9c3b85303900aa912017db7617d8bdb', 'b17ef6d19c7a5b1ee83b907c595526dcb1eb06db8227d650d5dda0a9f4ce8cd9']\n"
     ]
    }
   ],
   "source": [
    "#Bibliothek zum Erzeugen von Hash Werten laden\n",
    "import hashlib\n",
    "#Erzeugen einer leeren Liste\n",
    "m=list()\n",
    "x=[1,7,2,5,3,5,67,32,32,1,10,11,12,13,14,15,16] #Listen können gleiche Werte enthalten\n",
    "for element in x: \n",
    "    y=str(element) # der Variablen y wird der str Wert zugewiesen\n",
    "    y=y.encode('utf-8') # die Variable y wird encodes in utf-8\n",
    "    z=hashlib.sha256(y) # dauraus wird für z der sha256 Wert ermittelt\n",
    "    print(z.hexdigest()) # der Wert wird in hexadezimal gedruckt\n",
    "    print(\"----------------------------------\")\n",
    "    m.append(z.hexdigest()) # der Wert wird der liste m angefügt\n",
    "print(\"Wir haben die Daten in die  Liste m gelegt:\")\n",
    "print(\"-----------------------------------\")\n",
    "print(m) # die Liste wird gedruckt"
   ]
  },
  {
   "cell_type": "markdown",
   "metadata": {},
   "source": [
    "<h1>Dictionaries</h1>\n",
    "<li>d={}\n",
    "<li>d.values()\n",
    "<li>d.keys()\n",
    "<li>d.items()\n",
    "<li>d.clear()\n",
    "<li>d.copy()\n",
    "<li>d.get(k,x)\n",
    "<li>k in d\n",
    "<li>d.setdefault(k[ ,x])\n",
    "<li>d1.update(d2)"
   ]
  },
  {
   "cell_type": "code",
   "execution_count": 11,
   "metadata": {},
   "outputs": [
    {
     "name": "stdout",
     "output_type": "stream",
     "text": [
      "<class 'dict'>\n",
      "{'AAPL': 538.7, 'GOOG': 68.7, 'IONS': 4.6}\n",
      "dict_values([538.7, 68.7, 4.6])\n",
      "dict_keys(['AAPL', 'GOOG', 'IONS'])\n",
      "dict_items([('AAPL', 538.7), ('GOOG', 68.7), ('IONS', 4.6)])\n",
      "dict_items([('AAPL', 538.7), ('GOOG', 68.7), ('IONS', 4.6)])\n"
     ]
    }
   ],
   "source": [
    "#Erzeugen des Dictionaries mktcaps\n",
    "mktcaps = {'AAPL':538.7,'GOOG':68.7,'IONS':4.6}# Dictionary wird initialisiert\n",
    "print(type(mktcaps))\n",
    "print(mktcaps)\n",
    "print(mktcaps.values())\n",
    "print(mktcaps.keys())\n",
    "print(mktcaps.items())\n",
    "c=mktcaps.items()\n",
    "print(c)"
   ]
  },
  {
   "cell_type": "code",
   "execution_count": 12,
   "metadata": {},
   "outputs": [],
   "source": [
    "#Was ergibt print(c[0]) ?"
   ]
  },
  {
   "cell_type": "code",
   "execution_count": 13,
   "metadata": {},
   "outputs": [
    {
     "data": {
      "text/plain": [
       "538.7"
      ]
     },
     "execution_count": 13,
     "metadata": {},
     "output_type": "execute_result"
    }
   ],
   "source": [
    "mktcaps['AAPL'] #Gibt den Wert zurück der mit dem Schlüssel \"AAPL\" verknüpft ist"
   ]
  },
  {
   "cell_type": "code",
   "execution_count": 15,
   "metadata": {},
   "outputs": [
    {
     "ename": "KeyError",
     "evalue": "'GS'",
     "output_type": "error",
     "traceback": [
      "\u001b[0;31m---------------------------------------------------------------------------\u001b[0m",
      "\u001b[0;31mKeyError\u001b[0m                                  Traceback (most recent call last)",
      "\u001b[0;32m<ipython-input-15-497b5a786ffa>\u001b[0m in \u001b[0;36m<module>\u001b[0;34m\u001b[0m\n\u001b[0;32m----> 1\u001b[0;31m \u001b[0mmktcaps\u001b[0m\u001b[0;34m[\u001b[0m\u001b[0;34m'GS'\u001b[0m\u001b[0;34m]\u001b[0m \u001b[0;31m#Ergibt einen Fehler, da GS nicht in mktcaps ist\u001b[0m\u001b[0;34m\u001b[0m\u001b[0;34m\u001b[0m\u001b[0m\n\u001b[0m",
      "\u001b[0;31mKeyError\u001b[0m: 'GS'"
     ]
    }
   ],
   "source": [
    "mktcaps['GS'] #Ergibt einen Fehler, da GS nicht in mktcaps enthalten ist"
   ]
  },
  {
   "cell_type": "code",
   "execution_count": 17,
   "metadata": {},
   "outputs": [],
   "source": [
    "mktcaps.get('GS') #Gibt nichts zurück da GS nicht in mktcaps enthalten ist"
   ]
  },
  {
   "cell_type": "code",
   "execution_count": 18,
   "metadata": {},
   "outputs": [
    {
     "name": "stdout",
     "output_type": "stream",
     "text": [
      "{'AAPL': 538.7, 'GOOG': 68.7, 'IONS': 4.6, 'GS': 88.65}\n"
     ]
    }
   ],
   "source": [
    "mktcaps['GS'] = 88.65 #Fügt GS zum dictionary hinzu\n",
    "print(mktcaps) "
   ]
  },
  {
   "cell_type": "code",
   "execution_count": 19,
   "metadata": {},
   "outputs": [
    {
     "name": "stdout",
     "output_type": "stream",
     "text": [
      "{'AAPL': 538.7, 'IONS': 4.6, 'GS': 88.65}\n"
     ]
    }
   ],
   "source": [
    "del(mktcaps['GOOG']) #Entfernt GOOG aus mktcaps\n",
    "print(mktcaps)"
   ]
  },
  {
   "cell_type": "code",
   "execution_count": 20,
   "metadata": {},
   "outputs": [
    {
     "data": {
      "text/plain": [
       "dict_keys(['AAPL', 'IONS', 'GS'])"
      ]
     },
     "execution_count": 20,
     "metadata": {},
     "output_type": "execute_result"
    }
   ],
   "source": [
    "mktcaps.keys() #Gibt die Schlüssel des dicitionaries aus"
   ]
  },
  {
   "cell_type": "code",
   "execution_count": 21,
   "metadata": {},
   "outputs": [
    {
     "data": {
      "text/plain": [
       "dict_values([538.7, 4.6, 88.65])"
      ]
     },
     "execution_count": 21,
     "metadata": {},
     "output_type": "execute_result"
    }
   ],
   "source": [
    "mktcaps.values() #Gibt die Werte des dictionaries aus"
   ]
  },
  {
   "cell_type": "code",
   "execution_count": 27,
   "metadata": {},
   "outputs": [
    {
     "name": "stdout",
     "output_type": "stream",
     "text": [
      "('AAA', 'BBB', 'CCC', 'DDD', 'EEE')\n",
      "5\n",
      "<sha256 HASH object @ 0x7f64b40420f8>\n",
      "--------------------------\n",
      "cb1ad2119d8fafb69566510ee712661f9f14b83385006ef92aec47f523a38358\n"
     ]
    }
   ],
   "source": [
    "#Ablegen von Hash Werten in einem dictionary\n",
    "import hashlib\n",
    "#Erzeugen einer Liste\n",
    "l=('AAA','BBB','CCC','DDD','EEE')\n",
    "print(l)\n",
    "print(len(l))\n",
    "y = 'AAA'\n",
    "y = y.encode('utf-8')\n",
    "hshdict={'AAA':hashlib.sha256(y)}\n",
    "#print(hshdict.values())\n",
    "#print(hshdict['AAA'])\n",
    "#Umwandlung des gespeicherten Hash Werte mit hexdigest()\n",
    "v=hshdict['AAA']\n",
    "print(v)\n",
    "m=v.hexdigest()\n",
    "print(\"--------------------------\")\n",
    "print(m)\n"
   ]
  },
  {
   "cell_type": "markdown",
   "metadata": {},
   "source": [
    "<h3>Beispiel: Alter</h3>"
   ]
  },
  {
   "cell_type": "code",
   "execution_count": 28,
   "metadata": {},
   "outputs": [
    {
     "name": "stdout",
     "output_type": "stream",
     "text": [
      "{'Peter': 45, 'Julia': 23, 'Mathias': 36}\n"
     ]
    }
   ],
   "source": [
    "alter = {'Peter':45,'Julia':23,'Mathias':36} #Erzeugen eines Dictionaries\n",
    "print(alter)"
   ]
  },
  {
   "cell_type": "code",
   "execution_count": 29,
   "metadata": {},
   "outputs": [
    {
     "name": "stdout",
     "output_type": "stream",
     "text": [
      "{'Peter': 45, 'Julia': 27, 'Mathias': 36, 'Monika': 33}\n",
      "33\n"
     ]
    }
   ],
   "source": [
    "alter['Julia']=27 #Ändern des Alters\n",
    "alter['Monika']=33 #Hinzufügen von Monika - die Reihenfolge der Schlüssel spielt keine Rolle\n",
    "print(alter)\n",
    "if 'Monika' in alter:\n",
    "    print (alter['Monika'])\n"
   ]
  },
  {
   "cell_type": "markdown",
   "metadata": {},
   "source": [
    "<h3>Beispiel: Temperaturen in Staedten</h3>"
   ]
  },
  {
   "cell_type": "code",
   "execution_count": 30,
   "metadata": {},
   "outputs": [
    {
     "name": "stdout",
     "output_type": "stream",
     "text": [
      "{'stuttgart': 32.9, 'muenchen': 29.8, 'hamburg': 24.4, 'koeln': 29.7}\n"
     ]
    }
   ],
   "source": [
    "temperatur={'stuttgart':32.9,'muenchen':29.8,'hamburg':24.4}# Erzeugen eines dictionaries mit Temperaturen in verschiedenen Städten\n",
    "temperatur['koeln']=29.7 #hinzufuegen der temperatur in koeln\n",
    "print(temperatur) #ausgabe der temperaturen"
   ]
  },
  {
   "cell_type": "code",
   "execution_count": 31,
   "metadata": {},
   "outputs": [
    {
     "name": "stdout",
     "output_type": "stream",
     "text": [
      "Die Temperatur in stuttgart ist 32.9 °C\n",
      "Die Temperatur in muenchen ist 29.8 °C\n",
      "Die Temperatur in hamburg ist 24.4 °C\n",
      "Die Temperatur in koeln ist 29.7 °C\n"
     ]
    }
   ],
   "source": [
    "for stadt in temperatur:\n",
    "    print('Die Temperatur in %s ist %g °C' % (stadt,temperatur[stadt]))"
   ]
  },
  {
   "cell_type": "code",
   "execution_count": 32,
   "metadata": {},
   "outputs": [
    {
     "name": "stdout",
     "output_type": "stream",
     "text": [
      "Keine Daten für Berlin gefunden\n"
     ]
    }
   ],
   "source": [
    "if 'Berlin' in temperatur:\n",
    "    print ('Berlin:', temperatur['Berlin'])\n",
    "else:\n",
    "    print ('Keine Daten für Berlin gefunden')"
   ]
  },
  {
   "cell_type": "code",
   "execution_count": 33,
   "metadata": {},
   "outputs": [
    {
     "data": {
      "text/plain": [
       "True"
      ]
     },
     "execution_count": 33,
     "metadata": {},
     "output_type": "execute_result"
    }
   ],
   "source": [
    "'stuttgart' in temperatur #überprüfen ob Schlüssel in temperatur enthalten ist"
   ]
  },
  {
   "cell_type": "code",
   "execution_count": 34,
   "metadata": {},
   "outputs": [
    {
     "data": {
      "text/plain": [
       "dict_keys(['stuttgart', 'muenchen', 'hamburg', 'koeln'])"
      ]
     },
     "execution_count": 34,
     "metadata": {},
     "output_type": "execute_result"
    }
   ],
   "source": [
    "temperatur.keys() #Ausgabe der Schlüssel im Dictionary"
   ]
  },
  {
   "cell_type": "code",
   "execution_count": 35,
   "metadata": {},
   "outputs": [
    {
     "data": {
      "text/plain": [
       "dict_values([32.9, 29.8, 24.4, 29.7])"
      ]
     },
     "execution_count": 35,
     "metadata": {},
     "output_type": "execute_result"
    }
   ],
   "source": [
    "temperatur.values()#ausgabe der Werte im Dictionary"
   ]
  },
  {
   "cell_type": "code",
   "execution_count": 36,
   "metadata": {},
   "outputs": [
    {
     "name": "stdout",
     "output_type": "stream",
     "text": [
      "hamburg\n",
      "koeln\n",
      "muenchen\n",
      "stuttgart\n"
     ]
    }
   ],
   "source": [
    "for stadt in sorted(temperatur):\n",
    "    print(stadt)"
   ]
  },
  {
   "cell_type": "code",
   "execution_count": 37,
   "metadata": {},
   "outputs": [
    {
     "name": "stdout",
     "output_type": "stream",
     "text": [
      "{'stuttgart': 32.9, 'muenchen': 29.8, 'hamburg': 24.4, 'koeln': 29.7}\n"
     ]
    }
   ],
   "source": [
    "temperatur_kopie=temperatur.copy() #erstellt eine KOpie des dictonaries\n",
    "print (temperatur_kopie)"
   ]
  },
  {
   "cell_type": "code",
   "execution_count": 38,
   "metadata": {},
   "outputs": [
    {
     "name": "stdout",
     "output_type": "stream",
     "text": [
      "Die Temperatur in stuttgart ist 22.9 °C\n",
      "Die Temperatur in muenchen ist 23.8 °C\n",
      "Die Temperatur in hamburg ist 21.4 °C\n",
      "Die Temperatur in koeln ist 29.7 °C\n",
      "Anzahl enthaltene Staedte: 4\n"
     ]
    }
   ],
   "source": [
    "temperatur2={'stuttgart':22.9,'muenchen':23.8,'hamburg':21.4} #ein 2-tes dictionary\n",
    "temperatur.update(temperatur2)\n",
    "for stadt in temperatur:\n",
    "    print('Die Temperatur in %s ist %g °C' % (stadt,temperatur[stadt]))\n",
    "print('Anzahl enthaltene Staedte: %g'% len(temperatur))\n"
   ]
  },
  {
   "cell_type": "code",
   "execution_count": 39,
   "metadata": {
    "scrolled": true
   },
   "outputs": [
    {
     "name": "stdout",
     "output_type": "stream",
     "text": [
      "Die Temperatur in stuttgart ist 22.9 °C\n",
      "Die Temperatur in muenchen ist 23.8 °C\n",
      "Die Temperatur in hamburg ist 21.4 °C\n",
      "Die Temperatur in koeln ist 18.6 °C\n",
      "Die Temperatur in frankfurt ist 20.6 °C\n",
      "Die Temperatur in weimar ist 18.8 °C\n",
      "Anzahl enthaltene Staedte: 6\n"
     ]
    }
   ],
   "source": [
    "temperatur2={'stuttgart':22.9,'muenchen':23.8,'hamburg':21.4,'koeln':18.6,'frankfurt':20.6, 'weimar':18.8} #ein 2-tes dictionary\n",
    "temperatur.update(temperatur2)\n",
    "for stadt in temperatur:\n",
    "    print('Die Temperatur in %s ist %g °C' % (stadt,temperatur[stadt]))\n",
    "print('Anzahl enthaltene Staedte: %g'% len(temperatur))"
   ]
  },
  {
   "cell_type": "code",
   "execution_count": null,
   "metadata": {},
   "outputs": [],
   "source": []
  },
  {
   "cell_type": "markdown",
   "metadata": {},
   "source": [
    "<h2>Beispiel Studenten - mit dictionary</h2>"
   ]
  },
  {
   "cell_type": "code",
   "execution_count": 45,
   "metadata": {},
   "outputs": [
    {
     "name": "stdout",
     "output_type": "stream",
     "text": [
      "dict_items([('100100', {'Mathe': 1.0, 'Bwl': 2.5}), ('100200', {'Mathe': 2.3, 'Bwl': 1.8})])\n",
      "<class 'dict'>\n",
      "dict_values([{'Mathe': 1.0, 'Bwl': 2.5}, {'Mathe': 2.3, 'Bwl': 1.8}])\n",
      "dict_keys(['100100', '100200'])\n",
      "100100 {'Mathe': 1.0, 'Bwl': 2.5}\n",
      "100200 {'Mathe': 2.3, 'Bwl': 1.8}\n"
     ]
    }
   ],
   "source": [
    "st={}#Erzeugen des leeren dictionarys\n",
    "st['100100'] = {'Mathe':1.0, 'Bwl':2.5}\n",
    "st['100200'] = {'Mathe':2.3, 'Bwl':1.8}\n",
    "print(st.items())\n",
    "print(type(st))\n",
    "print(st.values())\n",
    "print(st.keys())\n",
    "for k in st.keys():\n",
    "    print(k, st[k])\n"
   ]
  },
  {
   "cell_type": "markdown",
   "metadata": {},
   "source": [
    "<h2>Ein Dictionary aus anderen zusammensetzen\n",
    "<li>d2.update(d1)"
   ]
  },
  {
   "cell_type": "code",
   "execution_count": 47,
   "metadata": {},
   "outputs": [
    {
     "name": "stdout",
     "output_type": "stream",
     "text": [
      "{'hans': 1.8, 'peter': 1.73, 'rainer': 1.78, 'petra': 1.8, 'hannes': 1.73}\n"
     ]
    }
   ],
   "source": [
    "d1={'hans':1.8,'peter':1.73,'rainer':1.74}\n",
    "d2={'petra':1.8,'hannes':1.73,'rainer':1.78}\n",
    "d1.update(d2)\n",
    "print(d1)"
   ]
  },
  {
   "cell_type": "code",
   "execution_count": null,
   "metadata": {
    "collapsed": true
   },
   "outputs": [],
   "source": []
  },
  {
   "cell_type": "code",
   "execution_count": null,
   "metadata": {
    "collapsed": true
   },
   "outputs": [],
   "source": []
  }
 ],
 "metadata": {
  "anaconda-cloud": {},
  "kernelspec": {
   "display_name": "Python 3",
   "language": "python",
   "name": "python3"
  },
  "language_info": {
   "codemirror_mode": {
    "name": "ipython",
    "version": 3
   },
   "file_extension": ".py",
   "mimetype": "text/x-python",
   "name": "python",
   "nbconvert_exporter": "python",
   "pygments_lexer": "ipython3",
   "version": "3.6.7"
  }
 },
 "nbformat": 4,
 "nbformat_minor": 2
}
