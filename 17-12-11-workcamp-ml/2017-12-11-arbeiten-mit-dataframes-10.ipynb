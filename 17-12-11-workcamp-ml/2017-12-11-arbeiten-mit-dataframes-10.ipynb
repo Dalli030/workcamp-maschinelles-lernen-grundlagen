{
 "cells": [
  {
   "cell_type": "markdown",
   "metadata": {},
   "source": [
    "<h1>Panda/h1>"
   ]
  },
  {
   "cell_type": "markdown",
   "metadata": {},
   "source": [
    "<h1>Arbeiten mit Series und Dataframes in Pandas</h1>"
   ]
  },
  {
   "cell_type": "markdown",
   "metadata": {},
   "source": [
    "<h1>Arbeiten mit Series in Pandas</h1>"
   ]
  },
  {
   "cell_type": "code",
   "execution_count": 6,
   "metadata": {
    "collapsed": true
   },
   "outputs": [],
   "source": [
    "import pandas as pd #Import der Bibliothek pandas\n",
    "from pandas import Series"
   ]
  },
  {
   "cell_type": "code",
   "execution_count": 7,
   "metadata": {
    "collapsed": false
   },
   "outputs": [
    {
     "name": "stdout",
     "output_type": "stream",
     "text": [
      "0    1200\n",
      "1    1500\n",
      "2    1600\n",
      "3    1400\n",
      "4    1800\n",
      "dtype: int64\n"
     ]
    }
   ],
   "source": [
    "objekt = Series([1200,1500,1600,1400,1800])\n",
    "print objekt"
   ]
  },
  {
   "cell_type": "code",
   "execution_count": 10,
   "metadata": {
    "collapsed": false
   },
   "outputs": [
    {
     "name": "stdout",
     "output_type": "stream",
     "text": [
      "[1200 1500 1600 1400 1800]\n",
      "RangeIndex(start=0, stop=5, step=1)\n"
     ]
    }
   ],
   "source": [
    "print objekt.values\n",
    "print objekt.index"
   ]
  },
  {
   "cell_type": "code",
   "execution_count": 11,
   "metadata": {
    "collapsed": false
   },
   "outputs": [
    {
     "name": "stdout",
     "output_type": "stream",
     "text": [
      "Montag        1200\n",
      "Dienstag      1500\n",
      "Mittwoch      1600\n",
      "Donnerstag    1400\n",
      "Freitag       1800\n",
      "dtype: int64\n"
     ]
    }
   ],
   "source": [
    "objekt2 = Series([1200,1500,1600,1400,1800],index=['Montag','Dienstag','Mittwoch','Donnerstag','Freitag'])\n",
    "print objekt2"
   ]
  },
  {
   "cell_type": "code",
   "execution_count": 12,
   "metadata": {
    "collapsed": false
   },
   "outputs": [
    {
     "data": {
      "text/plain": [
       "1200"
      ]
     },
     "execution_count": 12,
     "metadata": {},
     "output_type": "execute_result"
    }
   ],
   "source": [
    "objekt2['Montag']"
   ]
  },
  {
   "cell_type": "code",
   "execution_count": 13,
   "metadata": {
    "collapsed": false
   },
   "outputs": [
    {
     "data": {
      "text/plain": [
       "Montag        1200\n",
       "Dienstag      1500\n",
       "Mittwoch      1600\n",
       "Donnerstag    1600\n",
       "Freitag       1800\n",
       "dtype: int64"
      ]
     },
     "execution_count": 13,
     "metadata": {},
     "output_type": "execute_result"
    }
   ],
   "source": [
    "objekt2['Donnerstag']=1600\n",
    "objekt2"
   ]
  },
  {
   "cell_type": "code",
   "execution_count": 14,
   "metadata": {
    "collapsed": false
   },
   "outputs": [
    {
     "data": {
      "text/plain": [
       "Mittwoch      1600\n",
       "Donnerstag    1600\n",
       "Freitag       1800\n",
       "dtype: int64"
      ]
     },
     "execution_count": 14,
     "metadata": {},
     "output_type": "execute_result"
    }
   ],
   "source": [
    "objekt2[objekt2 >1500]"
   ]
  },
  {
   "cell_type": "code",
   "execution_count": 17,
   "metadata": {
    "collapsed": false
   },
   "outputs": [
    {
     "data": {
      "text/plain": [
       "Montag        3600\n",
       "Dienstag      4500\n",
       "Mittwoch      4800\n",
       "Donnerstag    4800\n",
       "Freitag       5400\n",
       "dtype: int64"
      ]
     },
     "execution_count": 17,
     "metadata": {},
     "output_type": "execute_result"
    }
   ],
   "source": [
    "objekt2 * 3"
   ]
  },
  {
   "cell_type": "code",
   "execution_count": 21,
   "metadata": {
    "collapsed": true
   },
   "outputs": [],
   "source": [
    "staedte = {'Stuttgart': 700000, 'Muenchen': 1000000, 'Hamburg': 800000, 'Koeln': 300000} #Dictionary der Einwohnerzahlen"
   ]
  },
  {
   "cell_type": "code",
   "execution_count": 22,
   "metadata": {
    "collapsed": false
   },
   "outputs": [
    {
     "data": {
      "text/plain": [
       "Hamburg       800000\n",
       "Koeln         300000\n",
       "Muenchen     1000000\n",
       "Stuttgart     700000\n",
       "dtype: int64"
      ]
     },
     "execution_count": 22,
     "metadata": {},
     "output_type": "execute_result"
    }
   ],
   "source": [
    "objekt3 = Series(staedte)\n",
    "objekt3"
   ]
  },
  {
   "cell_type": "code",
   "execution_count": 23,
   "metadata": {
    "collapsed": false
   },
   "outputs": [
    {
     "data": {
      "text/plain": [
       "Stadt\n",
       "Hamburg       800000\n",
       "Koeln         300000\n",
       "Muenchen     1000000\n",
       "Stuttgart     700000\n",
       "Name: Einwohnerzahl, dtype: int64"
      ]
     },
     "execution_count": 23,
     "metadata": {},
     "output_type": "execute_result"
    }
   ],
   "source": [
    "objekt3.name = 'Einwohnerzahl'\n",
    "objekt3.index.name = 'Stadt'\n",
    "objekt3"
   ]
  },
  {
   "cell_type": "code",
   "execution_count": 24,
   "metadata": {
    "collapsed": false
   },
   "outputs": [
    {
     "data": {
      "text/plain": [
       "Koeln         800000\n",
       "Hamburg       300000\n",
       "Muenchen     1000000\n",
       "Stuttgart     700000\n",
       "Name: Einwohnerzahl, dtype: int64"
      ]
     },
     "execution_count": 24,
     "metadata": {},
     "output_type": "execute_result"
    }
   ],
   "source": [
    "objekt3.index=['Koeln','Hamburg','Muenchen','Stuttgart'] #Austausch des Indexes durch Zuweisung\n",
    "objekt3"
   ]
  },
  {
   "cell_type": "code",
   "execution_count": 25,
   "metadata": {
    "collapsed": false
   },
   "outputs": [
    {
     "data": {
      "text/plain": [
       "700000.0"
      ]
     },
     "execution_count": 25,
     "metadata": {},
     "output_type": "execute_result"
    }
   ],
   "source": [
    "objekt3.mean()"
   ]
  },
  {
   "cell_type": "code",
   "execution_count": 1,
   "metadata": {
    "collapsed": false
   },
   "outputs": [
    {
     "data": {
      "text/plain": [
       "<matplotlib.axes._subplots.AxesSubplot at 0x86a2d68>"
      ]
     },
     "execution_count": 1,
     "metadata": {},
     "output_type": "execute_result"
    },
    {
     "data": {
      "image/png": "[encoded data removed]",
      "text/plain": [
       "<matplotlib.figure.Figure at 0x2b5f6a0>"
      ]
     },
     "metadata": {},
     "output_type": "display_data"
    }
   ],
   "source": [
    "%matplotlib inline\n",
    "import matplotlib.pyplot as plt\n",
    "import pandas as pd\n",
    "import numpy as np\n",
    "ts = pd.Series(np.random.randn(1000), index=pd.date_range('1/1/2014', periods=1000))\n",
    "ts = ts.cumsum()\n",
    "ts.plot()"
   ]
  },
  {
   "cell_type": "markdown",
   "metadata": {},
   "source": [
    "<h1>Arbeiten mit Dataframes in Pandas</h1>"
   ]
  },
  {
   "cell_type": "code",
   "execution_count": 33,
   "metadata": {
    "collapsed": false
   },
   "outputs": [
    {
     "name": "stdout",
     "output_type": "stream",
     "text": [
      "   jahr   pop      stadt\n",
      "0  2014  0.70  Stuttgart\n",
      "1  2015  0.80   Muenchen\n",
      "2  2016  0.90    Hamburg\n",
      "3  2017  0.85      Koeln\n",
      "4  2015  0.75  Stuttgart\n"
     ]
    }
   ],
   "source": [
    "import numpy as np\n",
    "import pandas as pd\n",
    "from pandas import DataFrame #aufpassen wie DataFrame geschrieben wird !\n",
    "#Erzeugen eines Dataframes aus gleichlangen Listen\n",
    "daten = {'stadt':['Stuttgart', 'Muenchen', 'Hamburg', 'Koeln','Stuttgart'],'jahr':[2014,2015,2016,2017,2015],'pop':[0.7,0.8,0.9,0.85,0.75]}\n",
    "frame = DataFrame(daten) #erzeugen des DataFrames\n",
    "print frame"
   ]
  },
  {
   "cell_type": "code",
   "execution_count": 34,
   "metadata": {
    "collapsed": false
   },
   "outputs": [
    {
     "name": "stdout",
     "output_type": "stream",
     "text": [
      "       stadt  jahr   pop\n",
      "0  Stuttgart  2014  0.70\n",
      "1   Muenchen  2015  0.80\n",
      "2    Hamburg  2016  0.90\n",
      "3      Koeln  2017  0.85\n",
      "4  Stuttgart  2015  0.75\n"
     ]
    }
   ],
   "source": [
    "frame = DataFrame(daten,columns=['stadt','jahr','pop'])\n",
    "print frame"
   ]
  },
  {
   "cell_type": "code",
   "execution_count": 38,
   "metadata": {
    "collapsed": false
   },
   "outputs": [
    {
     "name": "stdout",
     "output_type": "stream",
     "text": [
      "0    2014\n",
      "1    2015\n",
      "2    2016\n",
      "3    2017\n",
      "4    2015\n",
      "Name: jahr, dtype: int64\n",
      "################\n",
      "0    Stuttgart\n",
      "1     Muenchen\n",
      "2      Hamburg\n",
      "3        Koeln\n",
      "4    Stuttgart\n",
      "Name: stadt, dtype: object\n"
     ]
    }
   ],
   "source": [
    "#Ausgabe spezieller Spalten (Columns)\n",
    "print frame['jahr']\n",
    "print '################'\n",
    "print frame.stadt"
   ]
  },
  {
   "cell_type": "code",
   "execution_count": 40,
   "metadata": {
    "collapsed": false
   },
   "outputs": [
    {
     "data": {
      "text/plain": [
       "stadt    Hamburg\n",
       "jahr        2016\n",
       "pop          0.9\n",
       "Name: 2, dtype: object"
      ]
     },
     "execution_count": 40,
     "metadata": {},
     "output_type": "execute_result"
    }
   ],
   "source": [
    "#Ausgabe spezieller Zeilen (Rows)\n",
    "frame.ix[2] #Index als integer"
   ]
  },
  {
   "cell_type": "code",
   "execution_count": 41,
   "metadata": {
    "collapsed": false
   },
   "outputs": [
    {
     "data": {
      "text/html": [
       "<div>\n",
       "<table border=\"1\" class=\"dataframe\">\n",
       "  <thead>\n",
       "    <tr style=\"text-align: right;\">\n",
       "      <th></th>\n",
       "      <th>0</th>\n",
       "      <th>1</th>\n",
       "      <th>2</th>\n",
       "      <th>3</th>\n",
       "      <th>4</th>\n",
       "    </tr>\n",
       "  </thead>\n",
       "  <tbody>\n",
       "    <tr>\n",
       "      <th>stadt</th>\n",
       "      <td>Stuttgart</td>\n",
       "      <td>Muenchen</td>\n",
       "      <td>Hamburg</td>\n",
       "      <td>Koeln</td>\n",
       "      <td>Stuttgart</td>\n",
       "    </tr>\n",
       "    <tr>\n",
       "      <th>jahr</th>\n",
       "      <td>2014</td>\n",
       "      <td>2015</td>\n",
       "      <td>2016</td>\n",
       "      <td>2017</td>\n",
       "      <td>2015</td>\n",
       "    </tr>\n",
       "    <tr>\n",
       "      <th>pop</th>\n",
       "      <td>0.7</td>\n",
       "      <td>0.8</td>\n",
       "      <td>0.9</td>\n",
       "      <td>0.85</td>\n",
       "      <td>0.75</td>\n",
       "    </tr>\n",
       "  </tbody>\n",
       "</table>\n",
       "</div>"
      ],
      "text/plain": [
       "               0         1        2      3          4\n",
       "stadt  Stuttgart  Muenchen  Hamburg  Koeln  Stuttgart\n",
       "jahr        2014      2015     2016   2017       2015\n",
       "pop          0.7       0.8      0.9   0.85       0.75"
      ]
     },
     "execution_count": 41,
     "metadata": {},
     "output_type": "execute_result"
    }
   ],
   "source": [
    "frame.T"
   ]
  },
  {
   "cell_type": "code",
   "execution_count": 1,
   "metadata": {
    "collapsed": false
   },
   "outputs": [
    {
     "name": "stdout",
     "output_type": "stream",
     "text": [
      "   ﻿1  2  3  4  5  6  7  8  9\n",
      "0   6  0  0  5  0  0  0  0  0\n",
      "1   0  9  0  0  4  0  7  0  0\n",
      "2   0  8  0  0  0  3  0  0  0\n",
      "3   0  0  0  7  0  0  1  0  2\n",
      "4   9  0  2  0  8  0  3  0  6\n",
      "5   7  0  8  0  0  2  0  0  0\n",
      "6   0  0  0  2  0  0  0  9  0\n",
      "7   0  0  5  0  9  0  0  4  0\n",
      "8   0  0  0  0  0  1  0  0  8\n"
     ]
    }
   ],
   "source": [
    "import numpy as np\n",
    "import pandas as pd\n",
    "from pandas import DataFrame\n",
    "url=\"sudoku-10.csv\"\n",
    "df = pd.read_csv(url,header=0,sep=';') #sudoku als csv einlesen\n",
    "#df.describe()\n",
    "print (df)"
   ]
  },
  {
   "cell_type": "code",
   "execution_count": null,
   "metadata": {
    "collapsed": true
   },
   "outputs": [],
   "source": []
  },
  {
   "cell_type": "code",
   "execution_count": 14,
   "metadata": {
    "collapsed": false
   },
   "outputs": [
    {
     "name": "stdout",
     "output_type": "stream",
     "text": [
      "6\n",
      "0\n",
      "6\n"
     ]
    }
   ],
   "source": [
    "# Using `iloc[]`\n",
    "print(df.iloc[0][0])\n",
    "\n",
    "# Using `loc[]`\n",
    "print(df.loc[0][1])\n",
    "\n",
    "# Using `at[]`\n",
    "#print(df.at[0,'1'])\n",
    "\n",
    "# Using `iat[]`\n",
    "print(df.iat[0,0])\n",
    "\n",
    "# Using `get_value(index, column)`\n",
    "#print(df.get_value(0, '1'))"
   ]
  },
  {
   "cell_type": "code",
   "execution_count": null,
   "metadata": {
    "collapsed": true
   },
   "outputs": [],
   "source": [
    "https://www.datacamp.com/community/tutorials/pandas-tutorial-dataframe-python#gs.J_F2fGU"
   ]
  },
  {
   "cell_type": "code",
   "execution_count": 9,
   "metadata": {
    "collapsed": false
   },
   "outputs": [
    {
     "name": "stdout",
     "output_type": "stream",
     "text": [
      "﻿1    6\n",
      "2     0\n",
      "3     0\n",
      "4     5\n",
      "5     0\n",
      "6     0\n",
      "7     0\n",
      "8     0\n",
      "9     0\n",
      "Name: 0, dtype: int64\n"
     ]
    }
   ],
   "source": [
    "# Use `iloc[]` to select a row\n",
    "print(df.iloc[0])\n",
    "\n",
    "# Use `loc[]` to select a column\n",
    "#print(df.loc[:,1])"
   ]
  },
  {
   "cell_type": "code",
   "execution_count": null,
   "metadata": {
    "collapsed": true
   },
   "outputs": [],
   "source": []
  },
  {
   "cell_type": "markdown",
   "metadata": {},
   "source": [
    "<h3>Ausgabe eines Dataframes als csv-Datei</h3>"
   ]
  },
  {
   "cell_type": "code",
   "execution_count": 2,
   "metadata": {
    "collapsed": true
   },
   "outputs": [],
   "source": [
    "import pandas as pd\n",
    "df.to_csv('myDataFrame10.csv')"
   ]
  },
  {
   "cell_type": "code",
   "execution_count": 3,
   "metadata": {
    "collapsed": true
   },
   "outputs": [],
   "source": [
    "import pandas as pd\n",
    "df.to_csv('myDataFrame20.csv', sep=';', encoding='utf-8')"
   ]
  },
  {
   "cell_type": "code",
   "execution_count": null,
   "metadata": {
    "collapsed": true
   },
   "outputs": [],
   "source": []
  },
  {
   "cell_type": "code",
   "execution_count": null,
   "metadata": {
    "collapsed": true
   },
   "outputs": [],
   "source": []
  }
 ],
 "metadata": {
  "anaconda-cloud": {},
  "kernelspec": {
   "display_name": "Python [conda root]",
   "language": "python",
   "name": "conda-root-py"
  },
  "language_info": {
   "codemirror_mode": {
    "name": "ipython",
    "version": 2
   },
   "file_extension": ".py",
   "mimetype": "text/x-python",
   "name": "python",
   "nbconvert_exporter": "python",
   "pygments_lexer": "ipython2",
   "version": "2.7.12"
  }
 },
 "nbformat": 4,
 "nbformat_minor": 0
}
