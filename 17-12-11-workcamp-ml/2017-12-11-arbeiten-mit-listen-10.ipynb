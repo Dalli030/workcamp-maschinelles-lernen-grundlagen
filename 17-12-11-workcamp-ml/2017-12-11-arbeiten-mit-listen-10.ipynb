{
 "cells": [
  {
   "cell_type": "markdown",
   "metadata": {},
   "source": [
    "<h1>Listen</h1>\n",
    "<li>Listen sind eine sequentielle, geordnete Sammlung von Werten, Zahlen oder strg oder boolean oder hashes etc.\n",
    "['spass',[1,2,4], 3.14, [{1],[2],[3]] in eckigen Klammern\n"
   ]
  },
  {
   "cell_type": "markdown",
   "metadata": {},
   "source": [
    "<h2>Listen erzeugen</h2>"
   ]
  },
  {
   "cell_type": "code",
   "execution_count": null,
   "metadata": {
    "collapsed": false
   },
   "outputs": [],
   "source": [
    "x = [4,2,6,3] #Erzeugt eine Liste mit Werten\n",
    "x1 = [4,2,6,3] #Erzeugt eine Liste mit den gleichen Werten\n",
    "y = list() # Erzeugt eine leere Liste\n",
    "y = [] #Erzeugt eine leere Liste\n",
    "z = [\"11\",\"22\",\"33\",\"a\",\"b\",\"c\",\"d\"] #erzeugt eine Liste mit strg Werten\n",
    "print(x)\n",
    "print(id(x))\n",
    "print(x1)\n",
    "print(id(x1))\n",
    "print(y)\n",
    "print(id(y))\n",
    "print(z)\n",
    "print(id(z))"
   ]
  },
  {
   "cell_type": "markdown",
   "metadata": {},
   "source": [
    "<h3>Hinzufügen von Objekten in Listen</h3>"
   ]
  },
  {
   "cell_type": "code",
   "execution_count": null,
   "metadata": {
    "collapsed": false
   },
   "outputs": [],
   "source": [
    "x=list()\n",
    "print(x)\n",
    "x.append('One') #Adds 'One' to the back of the empty list\n",
    "print(x)\n",
    "x.append('Two') #Adds 'Two' to the back of the list ['One']\n",
    "print(x)"
   ]
  },
  {
   "cell_type": "code",
   "execution_count": null,
   "metadata": {
    "collapsed": false
   },
   "outputs": [],
   "source": [
    "x.insert(0,'Half') #Inserts 'Half' at location 0. Items will shift to make roomw\n",
    "print(x)"
   ]
  },
  {
   "cell_type": "code",
   "execution_count": null,
   "metadata": {
    "collapsed": false
   },
   "outputs": [],
   "source": [
    "x=list()\n",
    "x.extend([1,2,3]) #Unpacks the list and adds each item to the back of the list\n",
    "print(x)"
   ]
  },
  {
   "cell_type": "markdown",
   "metadata": {},
   "source": [
    "<h3>Index und Teilstücke</h3>"
   ]
  },
  {
   "cell_type": "code",
   "execution_count": null,
   "metadata": {
    "collapsed": false
   },
   "outputs": [],
   "source": [
    "x=[1,7,2,5,3,5,67,32]\n",
    "print(len(x))\n",
    "print(x[3])\n",
    "print(x[2:5])\n",
    "print(x[-1])\n",
    "print(x[::-1])"
   ]
  },
  {
   "cell_type": "markdown",
   "metadata": {},
   "source": [
    "<h3>Entfernen von Objekten aus Listen</h3>"
   ]
  },
  {
   "cell_type": "code",
   "execution_count": null,
   "metadata": {
    "collapsed": false
   },
   "outputs": [],
   "source": [
    "x=[1,7,2,5,3,5,67,32]\n",
    "x.pop() #Entfernt das letzte Element aus der Liste\n",
    "print(x)\n",
    "x.pop(3) #Removes element at item 3 from a list\n",
    "print(x)\n",
    "x.remove(7) #Removes the first 7 from the list\n",
    "print(x)"
   ]
  },
  {
   "cell_type": "markdown",
   "metadata": {},
   "source": [
    "<h3>Anything you want to remove must be in the list or the location must be inside the list</h3>"
   ]
  },
  {
   "cell_type": "code",
   "execution_count": null,
   "metadata": {
    "collapsed": false
   },
   "outputs": [],
   "source": [
    "x.remove(20)"
   ]
  },
  {
   "cell_type": "markdown",
   "metadata": {},
   "source": [
    "<h2>Listen sind veränderbar [mutable]</h2>"
   ]
  },
  {
   "cell_type": "code",
   "execution_count": null,
   "metadata": {
    "collapsed": false
   },
   "outputs": [],
   "source": [
    "y=['a','b']\n",
    "x = [1,y,3]\n",
    "print(x)\n",
    "print(y)\n",
    "y[1] = 4\n",
    "print(y)"
   ]
  },
  {
   "cell_type": "code",
   "execution_count": null,
   "metadata": {
    "collapsed": false
   },
   "outputs": [],
   "source": [
    "print(x)"
   ]
  },
  {
   "cell_type": "code",
   "execution_count": null,
   "metadata": {
    "collapsed": false
   },
   "outputs": [],
   "source": [
    "x=\"Hello\"\n",
    "print(x,id(x))\n",
    "x+=\" You!\"\n",
    "print(x,id(x)) #x is not the same object it was\n",
    "y=[\"Hello\"]\n",
    "print(y,id(y))\n",
    "y+=[\"You!\"] \n",
    "print(y,id(y)) #y is still the same object. Lists are mutable. Strings are immutable\n"
   ]
  },
  {
   "cell_type": "code",
   "execution_count": null,
   "metadata": {
    "collapsed": false
   },
   "outputs": [],
   "source": [
    "def eggs(item,total=0):\n",
    "    total+=item\n",
    "    return total\n",
    "\n",
    "\n",
    "def spam(elem,some_list=[]):\n",
    "    some_list.append(elem)\n",
    "    return some_list\n"
   ]
  },
  {
   "cell_type": "code",
   "execution_count": null,
   "metadata": {
    "collapsed": false
   },
   "outputs": [],
   "source": [
    "print(eggs(1))\n",
    "print(eggs(2))\n",
    "\n",
    "print(spam(1))\n",
    "print(spam(2))"
   ]
  },
  {
   "cell_type": "markdown",
   "metadata": {},
   "source": [
    "<h1>Iteration</h1>"
   ]
  },
  {
   "cell_type": "markdown",
   "metadata": {},
   "source": [
    "<h2>Range iteration</h2>"
   ]
  },
  {
   "cell_type": "code",
   "execution_count": null,
   "metadata": {
    "collapsed": false
   },
   "outputs": [],
   "source": [
    "#The for loop creates a new variable (e.g., index below)\n",
    "#range(len(x)) generates values from 0 to len(x) \n",
    "x=[1,7,2,5,3,5,67,32]\n",
    "for index in range(len(x)):\n",
    "    print(x[index])"
   ]
  },
  {
   "cell_type": "code",
   "execution_count": null,
   "metadata": {
    "collapsed": false
   },
   "outputs": [],
   "source": [
    "list(range(len(x)))"
   ]
  },
  {
   "cell_type": "markdown",
   "metadata": {},
   "source": [
    "<h3>List element iteration</h3>"
   ]
  },
  {
   "cell_type": "code",
   "execution_count": 15,
   "metadata": {
    "collapsed": false
   },
   "outputs": [
    {
     "name": "stdout",
     "output_type": "stream",
     "text": [
      "1\n",
      "7\n",
      "2\n",
      "5\n",
      "3\n",
      "5\n",
      "67\n",
      "32\n"
     ]
    }
   ],
   "source": [
    "x=[1,7,2,5,3,5,67,32]\n",
    "for element in x: #The for draws elements - sequentially - from the list x and uses the variable \"element\" to store values\n",
    "    print(element)"
   ]
  },
  {
   "cell_type": "markdown",
   "metadata": {},
   "source": [
    "<h3>Practice problem</h3>"
   ]
  },
  {
   "cell_type": "markdown",
   "metadata": {},
   "source": [
    "Write a function search_list that searches a list of tuple pairs and returns the value associated with the first element of the pair"
   ]
  },
  {
   "cell_type": "code",
   "execution_count": 1,
   "metadata": {
    "collapsed": false
   },
   "outputs": [],
   "source": [
    "def search_list(list_of_tuples,value):\n",
    "    print(range(len(list_of_tuples)))\n",
    "    for element in list_of_tuples:\n",
    "        if element[0]==value:\n",
    "            print(element[1])\n",
    "    return 0\n",
    "        \n",
    "        #return(list_of_tuples[index])\n",
    "        #Write the function here"
   ]
  },
  {
   "cell_type": "code",
   "execution_count": 3,
   "metadata": {
    "collapsed": false
   },
   "outputs": [
    {
     "name": "stdout",
     "output_type": "stream",
     "text": [
      "[0, 1, 2, 3]\n",
      "160.45\n",
      "0\n"
     ]
    }
   ],
   "source": [
    "prices = [('AAPL',96.43),('IONS',39.28),('GS',159.53),('AA',160.45)]\n",
    "ticker = 'AA'\n",
    "print(search_list(prices,ticker))"
   ]
  },
  {
   "cell_type": "markdown",
   "metadata": {},
   "source": [
    "<h3>Hashes in Listen ablegen</h3>"
   ]
  },
  {
   "cell_type": "code",
   "execution_count": 16,
   "metadata": {
    "collapsed": false
   },
   "outputs": [
    {
     "name": "stdout",
     "output_type": "stream",
     "text": [
      "6b86b273ff34fce19d6b804eff5a3f5747ada4eaa22f1d49c01e52ddb7875b4b\n",
      "7902699be42c8a8e46fbbb4501726517e86b22c56a189f7625a6da49081b2451\n",
      "d4735e3a265e16eee03f59718b9b5d03019c07d8b6c51f90da3a666eec13ab35\n",
      "ef2d127de37b942baad06145e54b0c619a1f22327b2ebbcfbec78f5564afe39d\n",
      "4e07408562bedb8b60ce05c1decfe3ad16b72230967de01f640b7e4729b49fce\n",
      "ef2d127de37b942baad06145e54b0c619a1f22327b2ebbcfbec78f5564afe39d\n",
      "49d180ecf56132819571bf39d9b7b342522a2ac6d23c1418d3338251bfe469c8\n",
      "e29c9c180c6279b0b02abd6a1801c7c04082cf486ec027aa13515e4f3884bb6b\n",
      "e29c9c180c6279b0b02abd6a1801c7c04082cf486ec027aa13515e4f3884bb6b\n",
      "6b86b273ff34fce19d6b804eff5a3f5747ada4eaa22f1d49c01e52ddb7875b4b\n",
      "4a44dc15364204a80fe80e9039455cc1608281820fe2b24f1e5233ade6af1dd5\n",
      "4fc82b26aecb47d2868c4efbe3581732a3e7cbcc6c2efb32062c08170a05eeb8\n",
      "6b51d431df5d7f141cbececcf79edf3dd861c3b4069f0b11661a3eefacbba918\n",
      "3fdba35f04dc8c462986c992bcf875546257113072a909c162f7e470e581e278\n",
      "8527a891e224136950ff32ca212b45bc93f69fbb801c3b1ebedac52775f99e61\n",
      "e629fa6598d732768f7c726b4b621285f9c3b85303900aa912017db7617d8bdb\n",
      "b17ef6d19c7a5b1ee83b907c595526dcb1eb06db8227d650d5dda0a9f4ce8cd9\n",
      "Wir haben die Daten in die  Liste m gelegt\n",
      "['6b86b273ff34fce19d6b804eff5a3f5747ada4eaa22f1d49c01e52ddb7875b4b', '7902699be42c8a8e46fbbb4501726517e86b22c56a189f7625a6da49081b2451', 'd4735e3a265e16eee03f59718b9b5d03019c07d8b6c51f90da3a666eec13ab35', 'ef2d127de37b942baad06145e54b0c619a1f22327b2ebbcfbec78f5564afe39d', '4e07408562bedb8b60ce05c1decfe3ad16b72230967de01f640b7e4729b49fce', 'ef2d127de37b942baad06145e54b0c619a1f22327b2ebbcfbec78f5564afe39d', '49d180ecf56132819571bf39d9b7b342522a2ac6d23c1418d3338251bfe469c8', 'e29c9c180c6279b0b02abd6a1801c7c04082cf486ec027aa13515e4f3884bb6b', 'e29c9c180c6279b0b02abd6a1801c7c04082cf486ec027aa13515e4f3884bb6b', '6b86b273ff34fce19d6b804eff5a3f5747ada4eaa22f1d49c01e52ddb7875b4b', '4a44dc15364204a80fe80e9039455cc1608281820fe2b24f1e5233ade6af1dd5', '4fc82b26aecb47d2868c4efbe3581732a3e7cbcc6c2efb32062c08170a05eeb8', '6b51d431df5d7f141cbececcf79edf3dd861c3b4069f0b11661a3eefacbba918', '3fdba35f04dc8c462986c992bcf875546257113072a909c162f7e470e581e278', '8527a891e224136950ff32ca212b45bc93f69fbb801c3b1ebedac52775f99e61', 'e629fa6598d732768f7c726b4b621285f9c3b85303900aa912017db7617d8bdb', 'b17ef6d19c7a5b1ee83b907c595526dcb1eb06db8227d650d5dda0a9f4ce8cd9']\n"
     ]
    }
   ],
   "source": [
    "import hashlib\n",
    "m=list()\n",
    "x=[1,7,2,5,3,5,67,32,32,1,10,11,12,13,14,15,16] #Listen können gleiche Werte enthalten\n",
    "for element in x: #The for draws elements - sequentially - from the list x and uses the variable \"element\" to store values\n",
    "    y=str(element) # der Variablen y wird der str Wert zugewiesen\n",
    "    z=hashlib.sha256(y) # dauraus wird für z der sha256 Wert ermittelt\n",
    "    print(z.hexdigest()) # der Wert wird in hexadezimal gedruckt\n",
    "    m.append(z.hexdigest()) # der Wert wird der liste m angefügt\n",
    "print(\"Wir haben die Daten in die  Liste m gelegt:\")\n",
    "print(m) # die Liste wird gedruckt"
   ]
  },
  {
   "cell_type": "markdown",
   "metadata": {},
   "source": [
    "<h1>Dictionaries</h1>\n",
    "<li>d={}\n",
    "<li>d.values()\n",
    "<li>d.keys()\n",
    "<li>d.items()\n",
    "<li>d.clear()\n",
    "<li>d.copy()\n",
    "<li>d.get(k,x)\n",
    "<li>k in d\n",
    "<li>d.setdefault(k[ ,x])\n",
    "<li>d1.update(d2)"
   ]
  },
  {
   "cell_type": "code",
   "execution_count": 4,
   "metadata": {
    "collapsed": false
   },
   "outputs": [
    {
     "name": "stdout",
     "output_type": "stream",
     "text": [
      "<type 'dict'>\n",
      "{'GOOG': 68.7, 'IONS': 4.6, 'AAPL': 538.7}\n",
      "[68.7, 4.6, 538.7]\n",
      "['GOOG', 'IONS', 'AAPL']\n",
      "[('GOOG', 68.7), ('IONS', 4.6), ('AAPL', 538.7)]\n",
      "('GOOG', 68.7)\n"
     ]
    }
   ],
   "source": [
    "mktcaps = {'AAPL':538.7,'GOOG':68.7,'IONS':4.6}# Dictionary wird initialisiert\n",
    "print(type(mktcaps))\n",
    "print(mktcaps)\n",
    "print(mktcaps.values())\n",
    "print(mktcaps.keys())\n",
    "print(mktcaps.items())\n",
    "c=mktcaps.items()\n",
    "print c[0]\n"
   ]
  },
  {
   "cell_type": "code",
   "execution_count": null,
   "metadata": {
    "collapsed": false
   },
   "outputs": [],
   "source": [
    "mktcaps['AAPL'] #Gibt den Wert zurück der mit dem Schlüssel \"AAPL\" verknüpft ist"
   ]
  },
  {
   "cell_type": "code",
   "execution_count": null,
   "metadata": {
    "collapsed": false
   },
   "outputs": [],
   "source": [
    "mktcaps['GS'] #Error because GS is not in mktcaps"
   ]
  },
  {
   "cell_type": "code",
   "execution_count": null,
   "metadata": {
    "collapsed": true
   },
   "outputs": [],
   "source": [
    "mktcaps.get('GS') #Returns None because GS is not in mktcaps"
   ]
  },
  {
   "cell_type": "code",
   "execution_count": null,
   "metadata": {
    "collapsed": false
   },
   "outputs": [],
   "source": [
    "mktcaps['GS'] = 88.65 #Fügt GS to the dictionary\n",
    "print(mktcaps) "
   ]
  },
  {
   "cell_type": "code",
   "execution_count": null,
   "metadata": {
    "collapsed": false
   },
   "outputs": [],
   "source": [
    "del(mktcaps['GOOG']) #Removes GOOG from mktcaps\n",
    "print(mktcaps)"
   ]
  },
  {
   "cell_type": "code",
   "execution_count": null,
   "metadata": {
    "collapsed": false
   },
   "outputs": [],
   "source": [
    "mktcaps.keys() #Returns all the keys"
   ]
  },
  {
   "cell_type": "code",
   "execution_count": null,
   "metadata": {
    "collapsed": false
   },
   "outputs": [],
   "source": [
    "mktcaps.values() #Returns all the values"
   ]
  },
  {
   "cell_type": "code",
   "execution_count": 12,
   "metadata": {
    "collapsed": false
   },
   "outputs": [
    {
     "name": "stdout",
     "output_type": "stream",
     "text": [
      "('AAA', 'BBB', 'CCC', 'DDD', 'EEE')\n",
      "5\n",
      "5c97d37ef031ab20133e097f79ae227c1ccdfc97e47bc3b5fef49cbaee8c06dd\n"
     ]
    }
   ],
   "source": [
    "import hashlib\n",
    "l=('AAA','BBB','CCC','DDD','EEE')\n",
    "print(l)\n",
    "print(len(l))\n",
    "hshdict={'AAA':hashlib.sha256('AAA)')}\n",
    "hshdict.values()\n",
    "v=hshdict['AAA']\n",
    "m=v.hexdigest()\n",
    "print(m)\n"
   ]
  },
  {
   "cell_type": "markdown",
   "metadata": {},
   "source": [
    "<h3>Beispiel: Alter</h3>"
   ]
  },
  {
   "cell_type": "code",
   "execution_count": 7,
   "metadata": {
    "collapsed": false
   },
   "outputs": [
    {
     "name": "stdout",
     "output_type": "stream",
     "text": [
      "{'Mathias': 36, 'Peter': 45, 'Julia': 23}\n"
     ]
    }
   ],
   "source": [
    "alter = {'Peter':45,'Julia':23,'Mathias':36} #Erzeugen eines Dictionaries\n",
    "print(alter)"
   ]
  },
  {
   "cell_type": "code",
   "execution_count": 13,
   "metadata": {
    "collapsed": false
   },
   "outputs": [
    {
     "name": "stdout",
     "output_type": "stream",
     "text": [
      "{'Mathias': 36, 'Monika': 33, 'Peter': 45, 'Julia': 27}\n",
      "33\n"
     ]
    }
   ],
   "source": [
    "alter['Julia']=27 #Ändern des Alters\n",
    "alter['Monika']=33 #Hinzufügen von Monika - die Reihenfolge der Schlüssel spielt keine Rolle\n",
    "print(alter)\n",
    "if 'Monika' in alter:\n",
    "    print (alter['Monika'])\n"
   ]
  },
  {
   "cell_type": "markdown",
   "metadata": {},
   "source": [
    "<h3>Beispiel: Temperaturen in Staedten</h3>"
   ]
  },
  {
   "cell_type": "code",
   "execution_count": 2,
   "metadata": {
    "collapsed": false
   },
   "outputs": [
    {
     "name": "stdout",
     "output_type": "stream",
     "text": [
      "{'koeln': 29.7, 'stuttgart': 32.9, 'hamburg': 24.4, 'muenchen': 29.8}\n"
     ]
    }
   ],
   "source": [
    "temperatur={'stuttgart':32.9,'muenchen':29.8,'hamburg':24.4}# Erzeugen eines dictionaries mit Temperaturen in verschiedenen Städten\n",
    "temperatur['koeln']=29.7 #hinzufuegen der temperatur in koeln\n",
    "print(temperatur) #ausgabe der temperaturen"
   ]
  },
  {
   "cell_type": "code",
   "execution_count": 18,
   "metadata": {
    "collapsed": false
   },
   "outputs": [
    {
     "name": "stdout",
     "output_type": "stream",
     "text": [
      "Die Temperatur in koeln ist 29.7 °C\n",
      "Die Temperatur in stuttgart ist 32.9 °C\n",
      "Die Temperatur in hamburg ist 24.4 °C\n",
      "Die Temperatur in muenchen ist 29.8 °C\n"
     ]
    }
   ],
   "source": [
    "for stadt in temperatur:\n",
    "    print('Die Temperatur in %s ist %g °C' % (stadt,temperatur[stadt]))"
   ]
  },
  {
   "cell_type": "code",
   "execution_count": 19,
   "metadata": {
    "collapsed": false
   },
   "outputs": [
    {
     "name": "stdout",
     "output_type": "stream",
     "text": [
      "Keine Daten für Berlin gefunden\n"
     ]
    }
   ],
   "source": [
    "if 'Berlin' in temperatur:\n",
    "    print ('Berlin:', temperatur['Berlin'])\n",
    "else:\n",
    "    print ('Keine Daten für Berlin gefunden')"
   ]
  },
  {
   "cell_type": "code",
   "execution_count": 20,
   "metadata": {
    "collapsed": false
   },
   "outputs": [
    {
     "data": {
      "text/plain": [
       "True"
      ]
     },
     "execution_count": 20,
     "metadata": {},
     "output_type": "execute_result"
    }
   ],
   "source": [
    "'stuttgart' in temperatur #überprüfen ob Schlüssel in temperatur enthalten ist"
   ]
  },
  {
   "cell_type": "code",
   "execution_count": 21,
   "metadata": {
    "collapsed": false
   },
   "outputs": [
    {
     "data": {
      "text/plain": [
       "['koeln', 'stuttgart', 'hamburg', 'muenchen']"
      ]
     },
     "execution_count": 21,
     "metadata": {},
     "output_type": "execute_result"
    }
   ],
   "source": [
    "temperatur.keys() #Ausgabe der Schlüssel im Dictionary"
   ]
  },
  {
   "cell_type": "code",
   "execution_count": 22,
   "metadata": {
    "collapsed": false
   },
   "outputs": [
    {
     "data": {
      "text/plain": [
       "[29.7, 32.9, 24.4, 29.8]"
      ]
     },
     "execution_count": 22,
     "metadata": {},
     "output_type": "execute_result"
    }
   ],
   "source": [
    "temperatur.values()#ausgabe der Werte im Dictionary"
   ]
  },
  {
   "cell_type": "code",
   "execution_count": 23,
   "metadata": {
    "collapsed": false
   },
   "outputs": [
    {
     "name": "stdout",
     "output_type": "stream",
     "text": [
      "hamburg\n",
      "koeln\n",
      "muenchen\n",
      "stuttgart\n"
     ]
    }
   ],
   "source": [
    "for stadt in sorted(temperatur):\n",
    "    print(stadt)"
   ]
  },
  {
   "cell_type": "code",
   "execution_count": 24,
   "metadata": {
    "collapsed": false
   },
   "outputs": [
    {
     "name": "stdout",
     "output_type": "stream",
     "text": [
      "{'koeln': 29.7, 'stuttgart': 32.9, 'muenchen': 29.8, 'hamburg': 24.4}\n"
     ]
    }
   ],
   "source": [
    "temperatur_kopie=temperatur.copy() #erstellt eine KOpie des dictonaries\n",
    "print (temperatur_kopie)"
   ]
  },
  {
   "cell_type": "code",
   "execution_count": 30,
   "metadata": {
    "collapsed": false
   },
   "outputs": [
    {
     "name": "stdout",
     "output_type": "stream",
     "text": [
      "Die Temperatur in stuttgart ist 22.9 °C\n",
      "Die Temperatur in hamburg ist 21.4 °C\n",
      "Die Temperatur in koeln ist 29.7 °C\n",
      "Die Temperatur in muenchen ist 23.8 °C\n",
      "Anzahl enthaltene Staedte: 4\n"
     ]
    }
   ],
   "source": [
    "temperatur2={'stuttgart':22.9,'muenchen':23.8,'hamburg':21.4} #ein 2-tes dictionary\n",
    "temperatur.update(temperatur2)\n",
    "for stadt in temperatur:\n",
    "    print('Die Temperatur in %s ist %g °C' % (stadt,temperatur[stadt]))\n",
    "print('Anzahl enthaltene Staedte: %g'% len(temperatur))\n"
   ]
  },
  {
   "cell_type": "code",
   "execution_count": 3,
   "metadata": {
    "collapsed": false,
    "scrolled": true
   },
   "outputs": [
    {
     "name": "stdout",
     "output_type": "stream",
     "text": [
      "Die Temperatur in muenchen ist 23.8 °C\n",
      "Die Temperatur in koeln ist 18.6 °C\n",
      "Die Temperatur in stuttgart ist 22.9 °C\n",
      "Die Temperatur in hamburg ist 21.4 °C\n",
      "Die Temperatur in frankfurt ist 20.6 °C\n",
      "Die Temperatur in weimar ist 18.8 °C\n",
      "Anzahl enthaltene Staedte: 6\n"
     ]
    }
   ],
   "source": [
    "temperatur2={'stuttgart':22.9,'muenchen':23.8,'hamburg':21.4,'koeln':18.6,'frankfurt':20.6, 'weimar':18.8} #ein 2-tes dictionary\n",
    "temperatur.update(temperatur2)\n",
    "for stadt in temperatur:\n",
    "    print('Die Temperatur in %s ist %g °C' % (stadt,temperatur[stadt]))\n",
    "print('Anzahl enthaltene Staedte: %g'% len(temperatur))"
   ]
  },
  {
   "cell_type": "code",
   "execution_count": null,
   "metadata": {
    "collapsed": false
   },
   "outputs": [],
   "source": []
  },
  {
   "cell_type": "markdown",
   "metadata": {},
   "source": [
    "<h2>Beispiel Studenten - mit dictionary</h2>"
   ]
  },
  {
   "cell_type": "code",
   "execution_count": 10,
   "metadata": {
    "collapsed": false
   },
   "outputs": [
    {
     "ename": "SyntaxError",
     "evalue": "invalid syntax (<ipython-input-10-8d9744cc1bdb>, line 9)",
     "output_type": "error",
     "traceback": [
      "\u001b[0;36m  File \u001b[0;32m\"<ipython-input-10-8d9744cc1bdb>\"\u001b[0;36m, line \u001b[0;32m9\u001b[0m\n\u001b[0;31m    print(st.['k'])\u001b[0m\n\u001b[0m             ^\u001b[0m\n\u001b[0;31mSyntaxError\u001b[0m\u001b[0;31m:\u001b[0m invalid syntax\n"
     ]
    }
   ],
   "source": [
    "st={}#Erzeugen des leeren dictionarys\n",
    "st['100100'] = {'Mathe':1.0, 'Bwl':2.5}\n",
    "st['100200'] = {'Mathe':2.3, 'Bwl':1.8}\n",
    "print(st.items())\n",
    "print(type(st))\n",
    "print(st.values())\n",
    "print(st.keys())\n",
    "for k in st.keys():\n",
    "    print(st.['k'])\n"
   ]
  },
  {
   "cell_type": "markdown",
   "metadata": {},
   "source": [
    "<h2>Schrittweiser Aufbau eines Studentenverezichnisses</h2>"
   ]
  },
  {
   "cell_type": "code",
   "execution_count": 12,
   "metadata": {
    "collapsed": false
   },
   "outputs": [
    {
     "name": "stdout",
     "output_type": "stream",
     "text": [
      "Matrikel-Nr als string eingeben:'100100'\n",
      "Mathe Note eingeben:1.2\n",
      "Bwl Note eingeben:2.4\n",
      "Matrikel-Nr als string eingeben:''\n",
      "{'100100': {'Mathematik': 1.2, 'BWL': 2.4}}\n"
     ]
    }
   ],
   "source": [
    "def stud_verz():\n",
    "    stud={}#erzeugen eines leeren dictionaries\n",
    "    student=input('Matrikel-Nr als string eingeben:')\n",
    "    while student:\n",
    "        Mathe = input('Mathe Note eingeben:')\n",
    "        Bwl = input('Bwl Note eingeben:')\n",
    "        stud[student]={\"Mathematik\":Mathe,\"BWL\":Bwl}\n",
    "        student=input('Matrikel-Nr als string eingeben:')\n",
    "    return stud\n",
    "\n",
    "print (stud_verz())\n",
    "\n",
    "    \n"
   ]
  },
  {
   "cell_type": "markdown",
   "metadata": {
    "collapsed": false
   },
   "source": [
    "<h2>Ein Dictionary aus anderen zusammensetzen\n",
    "<li>d2.update(d1)"
   ]
  },
  {
   "cell_type": "code",
   "execution_count": 13,
   "metadata": {
    "collapsed": false
   },
   "outputs": [
    {
     "name": "stdout",
     "output_type": "stream",
     "text": [
      "{'rainer': 1.78, 'hannes': 1.73, 'hans': 1.8, 'peter': 1.73, 'petra': 1.8}\n"
     ]
    }
   ],
   "source": [
    "d1={'hans':1.8,'peter':1.73,'rainer':1.74}\n",
    "d2={'petra':1.8,'hannes':1.73,'rainer':1.78}\n",
    "d1.update(d2)\n",
    "print(d1)"
   ]
  },
  {
   "cell_type": "markdown",
   "metadata": {},
   "source": [
    "<h2>Datenzugriff in einem dictionary"
   ]
  },
  {
   "cell_type": "code",
   "execution_count": 21,
   "metadata": {
    "collapsed": false,
    "scrolled": true
   },
   "outputs": [
    {
     "name": "stdout",
     "output_type": "stream",
     "text": [
      "{'slice': ['Scheibe', 'Schnitte', 'Stueck'], 'value': ['Wert'], 'key': ['Schluessel', 'Taste']}\n",
      "['Scheibe', 'Schnitte', 'Stueck']\n"
     ]
    },
    {
     "data": {
      "text/plain": [
       "'unbekannt'"
      ]
     },
     "execution_count": 21,
     "metadata": {},
     "output_type": "execute_result"
    }
   ],
   "source": [
    "deutsch = {'key':['Schluessel','Taste'],'slice':['Scheibe','Schnitte','Stueck'],'value':['Wert']}\n",
    "print(deutsch)\n",
    "######Abfangen von Abfragefehlern\n",
    "def uebersetze(wort,d):\n",
    "    if wort in d:\n",
    "        return d[wort]\n",
    "    else:\n",
    "        return 'unbekannt'\n",
    "\n",
    "print(uebersetze('slice',deutsch))\n",
    "uebersetze('search',deutsch)"
   ]
  },
  {
   "cell_type": "markdown",
   "metadata": {},
   "source": [
    "<h1>Vokabeltrainer entwickeln"
   ]
  },
  {
   "cell_type": "code",
   "execution_count": null,
   "metadata": {
    "collapsed": false
   },
   "outputs": [],
   "source": [
    "#Vokabeltrainer entwickeln\n",
    "import random\n",
    "#Definition der Funktionen\n",
    "def dict_laden(pfad):\n",
    "    d={}\n",
    "    try:\n",
    "        datei = open(pfad)\n",
    "        liste = datei.readlines()\n",
    "        for eintrag in liste:\n",
    "            l_eintrag = eintrag.split()\n",
    "            d[l_eintrag[0]]=l_eintrag[1:]\n",
    "        datei.close()\n",
    "    except:\n",
    "        pass\n",
    "    return d\n",
    "\n",
    "#def aufgabe(d):\n",
    "    zufall = random.randint(0, len(d.keys())-1)\n",
    "    vokabel = list(d.keys())[zufall]\n",
    "    #print(vokabel +'?')\n",
    "#Datei liegt auf dem Pfad\n",
    "#c:\\\\Benutzer\\\\ramon\\\\Dokumente\\\\Python Scripts\\\\python-edx-07-07-17\\\\woerterbuch.txt'\n",
    "#woerterbuch liste von einträgen mit leerzeichen getrennt\n",
    "\n",
    "d={}\n",
    "datei=open('woerterbuch.txt')\n",
    "liste = datei.readlines()\n",
    "print(liste)\n",
    "for eintrag in liste:\n",
    "            l_eintrag = eintrag.split()#trennung an leerzeichen\n",
    "            #print(l_eintrag[0])\n",
    "            #print(l_eintrag[1])\n",
    "            d[l_eintrag[0]]=l_eintrag[1:]\n",
    "datei.close()\n",
    "print(d)\n",
    "zufall = random.randint(0, len(d.keys())-1)\n",
    "vokabel = list(d.keys())[zufall]\n",
    "print(vokabel+' ?') \n",
    "antwort=input()\n",
    "\n",
    "          "
   ]
  },
  {
   "cell_type": "code",
   "execution_count": null,
   "metadata": {
    "collapsed": true
   },
   "outputs": [],
   "source": []
  },
  {
   "cell_type": "code",
   "execution_count": null,
   "metadata": {
    "collapsed": true
   },
   "outputs": [],
   "source": []
  }
 ],
 "metadata": {
  "anaconda-cloud": {},
  "kernelspec": {
   "display_name": "Python [conda root]",
   "language": "python",
   "name": "conda-root-py"
  },
  "language_info": {
   "codemirror_mode": {
    "name": "ipython",
    "version": 2
   },
   "file_extension": ".py",
   "mimetype": "text/x-python",
   "name": "python",
   "nbconvert_exporter": "python",
   "pygments_lexer": "ipython2",
   "version": "2.7.12"
  }
 },
 "nbformat": 4,
 "nbformat_minor": 2
}
