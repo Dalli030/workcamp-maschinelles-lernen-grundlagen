{
 "cells": [
  {
   "cell_type": "markdown",
   "metadata": {},
   "source": [
    "<h1>Arbeiten mit numpy</h1>"
   ]
  },
  {
   "cell_type": "markdown",
   "metadata": {},
   "source": [
    "<h2>Erzeugen eines numpy array</h2>\n",
    "<h2>1. Beispiel</h2>"
   ]
  },
  {
   "cell_type": "code",
   "execution_count": 4,
   "metadata": {
    "collapsed": false
   },
   "outputs": [
    {
     "name": "stdout",
     "output_type": "stream",
     "text": [
      "(array([1, 2, 3, 4, 5]), 107646448L, 5)\n"
     ]
    }
   ],
   "source": [
    "import numpy as np\n",
    "x = np.array([1,2,3,4,5])\n",
    "#Ausgabe des Arrays, des Speicherortes und der Länge des arrays\n",
    "print(x,id(x),len(x))"
   ]
  },
  {
   "cell_type": "markdown",
   "metadata": {},
   "source": [
    "<h2>Erzeugen eines numpy array aus einer Liste</h2>\n",
    "<h2>2. Beispiel</h2>\n",
    "<li> Bestimmen Sie die Länge des arrays\n",
    "<li> [6,8,3,2,5,4,7,6]\n",
    "<li> Berechnen Sie die Summe und den Mittelwert des arrays"
   ]
  },
  {
   "cell_type": "code",
   "execution_count": 6,
   "metadata": {
    "collapsed": false
   },
   "outputs": [
    {
     "name": "stdout",
     "output_type": "stream",
     "text": [
      "[6 8 3 2 5 4 7 6]\n",
      "8\n",
      "41\n",
      "5.125\n"
     ]
    }
   ],
   "source": [
    "y = np.array([6,8,3,2,5,4,7,6])\n",
    "print(y)\n",
    "print(len(y))\n",
    "print(y.sum())\n",
    "print(y.mean())"
   ]
  },
  {
   "cell_type": "markdown",
   "metadata": {},
   "source": [
    "<h2>Festlegung des type</h2>\n",
    "<h3>Nützlich, wenn man einen Text direkt in ein numerisches array streamed</h3>"
   ]
  },
  {
   "cell_type": "code",
   "execution_count": 7,
   "metadata": {
    "collapsed": false
   },
   "outputs": [
    {
     "name": "stdout",
     "output_type": "stream",
     "text": [
      "[1 2 3 7 8 9]\n",
      "[ 1.  2.  3.  7.  8.  9.]\n",
      "['1' '2' '3' '7' '8' '9']\n"
     ]
    }
   ],
   "source": [
    "import numpy as np\n",
    "x=['1','2','3','7','8','9']\n",
    "xi = np.array(x,'int')\n",
    "xf = np.array(x,'float')\n",
    "xs = np.array(x,'str')\n",
    "print(xi)\n",
    "print(xf)\n",
    "print(xs)\n",
    "#print(xi,xf,xs,sep='\\n')#python 3.0"
   ]
  },
  {
   "cell_type": "markdown",
   "metadata": {},
   "source": [
    "<h2>Grundlegende Operationen</h2>\n",
    "<li> Summe sum>()\n",
    "<li> Mittelwert mean()\n",
    "<li> Standardabweichung std()\n",
    "<li> Varianz var()\n",
    "<li> Minimum min()\n",
    "<li> Maximum max()\n",
    "<li> Kumulierte Summe cumsum()"
   ]
  },
  {
   "cell_type": "code",
   "execution_count": 8,
   "metadata": {
    "collapsed": false
   },
   "outputs": [
    {
     "name": "stdout",
     "output_type": "stream",
     "text": [
      "(97.500000000000014, 19.500000000000004, 3.8429155598321434, array([ 13. ,  37. ,  58.2,  75.8,  97.5]))\n"
     ]
    }
   ],
   "source": [
    "x = np.array([13,24,21.2,17.6,21.7],'float')\n",
    "print(x.sum(),x.mean(),x.std(), x.cumsum())"
   ]
  },
  {
   "cell_type": "markdown",
   "metadata": {},
   "source": [
    "<h2>Mehr-dimensionale arrays</h2>"
   ]
  },
  {
   "cell_type": "code",
   "execution_count": 9,
   "metadata": {
    "collapsed": false
   },
   "outputs": [
    {
     "name": "stdout",
     "output_type": "stream",
     "text": [
      "[[  0.   1.   2.   3.   4.   5.]\n",
      " [ 10.  11.  12.  13.  14.  15.]\n",
      " [ 20.  21.  22.  23.  24.  25.]]\n"
     ]
    }
   ],
   "source": [
    "x=[[0,1,2,3,4,5],[10,11,12,13,14,15],[20,21,22,23,24,25]]\n",
    "ax=np.array(x,float)\n",
    "print(ax)"
   ]
  },
  {
   "cell_type": "markdown",
   "metadata": {},
   "source": [
    "<h3>Über einen Index Werte auslesen</h3>"
   ]
  },
  {
   "cell_type": "code",
   "execution_count": 10,
   "metadata": {
    "collapsed": false
   },
   "outputs": [
    {
     "data": {
      "text/plain": [
       "13.0"
      ]
     },
     "execution_count": 10,
     "metadata": {},
     "output_type": "execute_result"
    }
   ],
   "source": [
    "ax[1,3] #indexing"
   ]
  },
  {
   "cell_type": "markdown",
   "metadata": {},
   "source": [
    "<h3>Teilbereiche wählen (Slicing)</h3>"
   ]
  },
  {
   "cell_type": "code",
   "execution_count": 11,
   "metadata": {
    "collapsed": false
   },
   "outputs": [
    {
     "data": {
      "text/plain": [
       "array([[ 12.,  13.],\n",
       "       [ 22.,  23.]])"
      ]
     },
     "execution_count": 11,
     "metadata": {},
     "output_type": "execute_result"
    }
   ],
   "source": [
    "ax[1:3,2:4]\n",
    "#ax[:,2:]"
   ]
  },
  {
   "cell_type": "markdown",
   "metadata": {},
   "source": [
    "<h3>Ändern der Form (Reshaping)</h3>\n"
   ]
  },
  {
   "cell_type": "code",
   "execution_count": 12,
   "metadata": {
    "collapsed": false
   },
   "outputs": [
    {
     "name": "stdout",
     "output_type": "stream",
     "text": [
      "(3L, 6L)\n"
     ]
    },
    {
     "data": {
      "text/plain": [
       "array([[  0.,   1.],\n",
       "       [  2.,   3.],\n",
       "       [  4.,   5.],\n",
       "       [ 10.,  11.],\n",
       "       [ 12.,  13.],\n",
       "       [ 14.,  15.],\n",
       "       [ 20.,  21.],\n",
       "       [ 22.,  23.],\n",
       "       [ 24.,  25.]])"
      ]
     },
     "execution_count": 12,
     "metadata": {},
     "output_type": "execute_result"
    }
   ],
   "source": [
    "print(ax.shape)\n",
    "ax.reshape(9,2)\n",
    "#ax.reshape(10,3)"
   ]
  },
  {
   "cell_type": "markdown",
   "metadata": {},
   "source": [
    "<h3>Erzeugen initialisierter arrays</h3>"
   ]
  },
  {
   "cell_type": "code",
   "execution_count": 13,
   "metadata": {
    "collapsed": false
   },
   "outputs": [
    {
     "name": "stdout",
     "output_type": "stream",
     "text": [
      "[0 1 2 3 4 5 6 7 8 9]\n",
      "[[0 1 2 3 4 5 6 7 8 9]\n",
      " [0 1 2 3 4 5 6 7 8 9]]\n"
     ]
    }
   ],
   "source": [
    "ax = np.arange(10)\n",
    "print(ax)\n",
    "ay = np.array([np.arange(10),np.arange(10)])\n",
    "print(ay)"
   ]
  },
  {
   "cell_type": "code",
   "execution_count": 14,
   "metadata": {
    "collapsed": false
   },
   "outputs": [
    {
     "name": "stdout",
     "output_type": "stream",
     "text": [
      "[ 1.  1.  1.  1.  1.  1.  1.  1.  1.  1.]\n"
     ]
    }
   ],
   "source": [
    "ax = np.ones(10)\n",
    "print(ax)"
   ]
  },
  {
   "cell_type": "code",
   "execution_count": 15,
   "metadata": {
    "collapsed": false
   },
   "outputs": [
    {
     "name": "stdout",
     "output_type": "stream",
     "text": [
      "[ 0  1  4  9 16 25 36 49 64 81]\n"
     ]
    }
   ],
   "source": [
    "ax = np.arange(10)**2\n",
    "print(ax)"
   ]
  },
  {
   "cell_type": "code",
   "execution_count": 16,
   "metadata": {
    "collapsed": false
   },
   "outputs": [
    {
     "data": {
      "text/plain": [
       "array([[ 1.,  0.,  0.,  0.,  0.,  0.,  0.,  0.,  0.,  0.],\n",
       "       [ 0.,  1.,  0.,  0.,  0.,  0.,  0.,  0.,  0.,  0.],\n",
       "       [ 0.,  0.,  1.,  0.,  0.,  0.,  0.,  0.,  0.,  0.],\n",
       "       [ 0.,  0.,  0.,  1.,  0.,  0.,  0.,  0.,  0.,  0.],\n",
       "       [ 0.,  0.,  0.,  0.,  1.,  0.,  0.,  0.,  0.,  0.],\n",
       "       [ 0.,  0.,  0.,  0.,  0.,  1.,  0.,  0.,  0.,  0.],\n",
       "       [ 0.,  0.,  0.,  0.,  0.,  0.,  1.,  0.,  0.,  0.],\n",
       "       [ 0.,  0.,  0.,  0.,  0.,  0.,  0.,  1.,  0.,  0.],\n",
       "       [ 0.,  0.,  0.,  0.,  0.,  0.,  0.,  0.,  1.,  0.],\n",
       "       [ 0.,  0.,  0.,  0.,  0.,  0.,  0.,  0.,  0.,  1.]])"
      ]
     },
     "execution_count": 16,
     "metadata": {},
     "output_type": "execute_result"
    }
   ],
   "source": [
    "np.identity(10)"
   ]
  },
  {
   "cell_type": "markdown",
   "metadata": {},
   "source": [
    "<h3>Matritzen Multiplikation</h3>\n"
   ]
  },
  {
   "cell_type": "code",
   "execution_count": 18,
   "metadata": {
    "collapsed": false
   },
   "outputs": [
    {
     "data": {
      "text/plain": [
       "array([[ 0,  2,  4,  6,  8, 10, 12, 14, 16, 18],\n",
       "       [ 0,  2,  4,  6,  8, 10, 12, 14, 16, 18]])"
      ]
     },
     "execution_count": 18,
     "metadata": {},
     "output_type": "execute_result"
    }
   ],
   "source": [
    "ax = np.arange(10)\n",
    "ay = np.array([ax,ax])\n",
    "#Skalar multiplikation\n",
    "ay*2"
   ]
  },
  {
   "cell_type": "code",
   "execution_count": 19,
   "metadata": {
    "collapsed": false
   },
   "outputs": [
    {
     "data": {
      "text/plain": [
       "array([[220, 265],\n",
       "       [220, 265]])"
      ]
     },
     "execution_count": 19,
     "metadata": {},
     "output_type": "execute_result"
    }
   ],
   "source": [
    "np.dot(ay,ay.reshape(10,2)) #Dot product"
   ]
  },
  {
   "cell_type": "markdown",
   "metadata": {},
   "source": [
    "<h3>Vergleich von numpy arrays mit listen</h3>"
   ]
  },
  {
   "cell_type": "code",
   "execution_count": null,
   "metadata": {
    "collapsed": false
   },
   "outputs": [],
   "source": [
    "n=10\n",
    "ax = np.array([np.arange(n)**2,np.arange(n)**3])\n",
    "ay = ax.transpose()\n",
    "#print(ax)\n",
    "#print(ay)\n",
    "np.dot(ax,ay)"
   ]
  },
  {
   "cell_type": "markdown",
   "metadata": {},
   "source": [
    "<h4>Functionalize this</h4>\n"
   ]
  },
  {
   "cell_type": "code",
   "execution_count": null,
   "metadata": {
    "collapsed": false
   },
   "outputs": [],
   "source": [
    "def dotproduct(n):\n",
    "    ax = np.array([np.arange(n)**2,np.arange(n)**3])\n",
    "    ay = ax.transpose()\n",
    "    import datetime\n",
    "    start = datetime.datetime.now()\n",
    "    np.dot(ax,ay)\n",
    "    end = datetime.datetime.now()\n",
    "    return end-start\n",
    "    \n",
    "dotproduct(10)    "
   ]
  },
  {
   "cell_type": "markdown",
   "metadata": {},
   "source": [
    "<h4>Do the same with python lists</h4>\n"
   ]
  },
  {
   "cell_type": "code",
   "execution_count": null,
   "metadata": {
    "collapsed": false
   },
   "outputs": [],
   "source": [
    "\n",
    "def dot_product_lists(n):\n",
    "    x = [x**2 for x in range(n)]\n",
    "    y = [x**3 for x in range(n)]\n",
    "    ax = [x,y]\n",
    "    ay = [list(i) for i in zip(*ax)]\n",
    "    import datetime\n",
    "    start = datetime.datetime.now()\n",
    "    [[sum(a*b for a,b in zip(X_row,Y_col)) for Y_col in zip(*ay)] for X_row in ax]\n",
    "    end = datetime.datetime.now()\n",
    "    return end-start\n",
    "    \n",
    "dot_product_lists(10000)"
   ]
  },
  {
   "cell_type": "code",
   "execution_count": null,
   "metadata": {
    "collapsed": false
   },
   "outputs": [],
   "source": [
    "for n in [10,100,1000,10000]:\n",
    "    numpy_result = dotproduct(n)\n",
    "    list_result = dot_product_lists(n)\n",
    "    print(n,numpy_result,list_result,sep='\\t')"
   ]
  },
  {
   "cell_type": "markdown",
   "metadata": {},
   "source": [
    "<h3>Auswahl von Elementen aus einem numpy array</h3>"
   ]
  },
  {
   "cell_type": "code",
   "execution_count": 21,
   "metadata": {
    "collapsed": false
   },
   "outputs": [
    {
     "data": {
      "text/plain": [
       "array([[1, 0, 1, 0, 1, 0],\n",
       "       [1, 0, 1, 0, 1, 0],\n",
       "       [1, 0, 1, 0, 1, 0]])"
      ]
     },
     "execution_count": 21,
     "metadata": {},
     "output_type": "execute_result"
    }
   ],
   "source": [
    "x=[[0,1,2,3,4,5],[10,11,12,13,14,15],[20,21,22,23,24,25]]\n",
    "ax=np.array(x,float)\n",
    "np.where(ax%2==0,1,0)"
   ]
  },
  {
   "cell_type": "code",
   "execution_count": 22,
   "metadata": {
    "collapsed": false
   },
   "outputs": [],
   "source": [
    "\n",
    "#linalg, a linear algebra module\n",
    "#functions dealing with polynomials, differentials, etc\n"
   ]
  },
  {
   "cell_type": "code",
   "execution_count": 23,
   "metadata": {
    "collapsed": false
   },
   "outputs": [
    {
     "data": {
      "text/plain": [
       "12.5"
      ]
     },
     "execution_count": 23,
     "metadata": {},
     "output_type": "execute_result"
    }
   ],
   "source": [
    "import scipy\n",
    "scipy.nanmean(x)"
   ]
  },
  {
   "cell_type": "markdown",
   "metadata": {},
   "source": [
    "<h3>Unterstützung von Zufallszahlen in numpy</h3>"
   ]
  },
  {
   "cell_type": "code",
   "execution_count": 24,
   "metadata": {
    "collapsed": false
   },
   "outputs": [
    {
     "data": {
      "text/plain": [
       "array([-1.52471679, -0.05601817, -0.51855536,  1.02650137,  1.35791375,\n",
       "       -0.45170683, -0.86650886,  0.90444694, -0.13974108, -0.85290045])"
      ]
     },
     "execution_count": 24,
     "metadata": {},
     "output_type": "execute_result"
    }
   ],
   "source": [
    "np.random.normal(size=10)\n",
    "#np.random.normal(size=(100,100))\n",
    "#np.random.exponential()\n",
    "#np.random.exponential(1.0,size=(6,3))\n",
    "#np.random.randint(-10,10,size=(9,9))"
   ]
  },
  {
   "cell_type": "markdown",
   "metadata": {},
   "source": [
    "<h3>numpy - mehrdimensionale arrays</h3>\n",
    "<li> Welches Ergebnis liefert a[2,3,4] in folgendem array a\n",
    "<li> ! Beachten Sie dass Indizes mit 0 beginnen !"
   ]
  },
  {
   "cell_type": "code",
   "execution_count": 25,
   "metadata": {
    "collapsed": false
   },
   "outputs": [
    {
     "name": "stdout",
     "output_type": "stream",
     "text": [
      "[[[  0   1   2   3   4]\n",
      "  [  5   6   7   8   9]\n",
      "  [ 10  11  12  13  14]\n",
      "  [ 15  16  17  18  19]]\n",
      "\n",
      " [[ 20  21  22  23  24]\n",
      "  [ 25  26  27  28  29]\n",
      "  [ 30  31  32  33  34]\n",
      "  [ 35  36  37  38  39]]\n",
      "\n",
      " [[ 40  41  42  43  44]\n",
      "  [ 45  46  47  48  49]\n",
      "  [ 50  51  52  53  54]\n",
      "  [ 55  56  57  58  59]]\n",
      "\n",
      " [[ 60  61  62  63  64]\n",
      "  [ 65  66  67  68  69]\n",
      "  [ 70  71  72  73  74]\n",
      "  [ 75  76  77  78  79]]\n",
      "\n",
      " [[ 80  81  82  83  84]\n",
      "  [ 85  86  87  88  89]\n",
      "  [ 90  91  92  93  94]\n",
      "  [ 95  96  97  98  99]]\n",
      "\n",
      " [[100 101 102 103 104]\n",
      "  [105 106 107 108 109]\n",
      "  [110 111 112 113 114]\n",
      "  [115 116 117 118 119]]]\n"
     ]
    }
   ],
   "source": [
    "import numpy as np\n",
    "a=np.arange(120).reshape(6,4,5)\n",
    "print(a)"
   ]
  },
  {
   "cell_type": "code",
   "execution_count": 26,
   "metadata": {
    "collapsed": false
   },
   "outputs": [
    {
     "data": {
      "text/plain": [
       "59"
      ]
     },
     "execution_count": 26,
     "metadata": {},
     "output_type": "execute_result"
    }
   ],
   "source": [
    "a[2,3,4]"
   ]
  },
  {
   "cell_type": "code",
   "execution_count": 27,
   "metadata": {
    "collapsed": false
   },
   "outputs": [
    {
     "data": {
      "text/plain": [
       "0"
      ]
     },
     "execution_count": 27,
     "metadata": {},
     "output_type": "execute_result"
    }
   ],
   "source": [
    "a[0,0,0]"
   ]
  },
  {
   "cell_type": "code",
   "execution_count": 28,
   "metadata": {
    "collapsed": false
   },
   "outputs": [
    {
     "data": {
      "text/plain": [
       "119"
      ]
     },
     "execution_count": 28,
     "metadata": {},
     "output_type": "execute_result"
    }
   ],
   "source": [
    "a[5,3,4]"
   ]
  },
  {
   "cell_type": "markdown",
   "metadata": {},
   "source": [
    "Welches Ergebnis liefert a[:, 3, 4] in diesem array ?"
   ]
  },
  {
   "cell_type": "code",
   "execution_count": 29,
   "metadata": {
    "collapsed": false
   },
   "outputs": [
    {
     "data": {
      "text/plain": [
       "array([ 19,  39,  59,  79,  99, 119])"
      ]
     },
     "execution_count": 29,
     "metadata": {},
     "output_type": "execute_result"
    }
   ],
   "source": [
    "a[:,3,4]"
   ]
  },
  {
   "cell_type": "markdown",
   "metadata": {},
   "source": [
    "Welches Ergebnis liefert a[:, :, 4] in diesem array ?"
   ]
  },
  {
   "cell_type": "code",
   "execution_count": 30,
   "metadata": {
    "collapsed": false
   },
   "outputs": [
    {
     "data": {
      "text/plain": [
       "array([[  4,   9,  14,  19],\n",
       "       [ 24,  29,  34,  39],\n",
       "       [ 44,  49,  54,  59],\n",
       "       [ 64,  69,  74,  79],\n",
       "       [ 84,  89,  94,  99],\n",
       "       [104, 109, 114, 119]])"
      ]
     },
     "execution_count": 30,
     "metadata": {},
     "output_type": "execute_result"
    }
   ],
   "source": [
    "a[:,:,4]"
   ]
  },
  {
   "cell_type": "markdown",
   "metadata": {},
   "source": [
    "Welches Ergebnis liefert a[5, 1:, 1:] in diesem array ?"
   ]
  },
  {
   "cell_type": "code",
   "execution_count": 31,
   "metadata": {
    "collapsed": false
   },
   "outputs": [
    {
     "data": {
      "text/plain": [
       "array([[106, 107, 108, 109],\n",
       "       [111, 112, 113, 114],\n",
       "       [116, 117, 118, 119]])"
      ]
     },
     "execution_count": 31,
     "metadata": {},
     "output_type": "execute_result"
    }
   ],
   "source": [
    "a[5,1:,1:]"
   ]
  },
  {
   "cell_type": "markdown",
   "metadata": {},
   "source": [
    "Füllen Sie eine vergleichbares array mit normalverteilten Zufallszahlen (mu = 0, sigma =1) (ohne seed)\n",
    "\n",
    "\n",
    "Was liefert s[3,:2,:3] zurück ?"
   ]
  },
  {
   "cell_type": "code",
   "execution_count": 33,
   "metadata": {
    "collapsed": false
   },
   "outputs": [
    {
     "name": "stdout",
     "output_type": "stream",
     "text": [
      "[[[ 0.14621811  1.62514303  0.77170545 -1.92737137  0.27017053]\n",
      "  [-0.83083151 -0.38978772 -1.49163403  0.41503647 -0.87427506]\n",
      "  [-0.65057346  1.44684205  0.0458341  -0.16612804  0.13876456]\n",
      "  [-0.5588333  -0.66969525 -0.53420154 -1.58819261 -1.48215201]]\n",
      "\n",
      " [[-0.73039434  1.37945457 -0.69627526  0.45676297 -1.15947467]\n",
      "  [-1.57221187  1.37308231  0.10990095 -0.36766776 -0.40440983]\n",
      "  [-0.4807761   0.61218628 -0.15024159 -2.72104946  0.86709463]\n",
      "  [ 1.50982025 -0.49729595 -0.49515749  1.20502167  1.09741339]]\n",
      "\n",
      " [[-0.69362492 -0.00477715 -1.25047911 -0.11528027  0.48711022]\n",
      "  [ 1.66435     0.72983061 -0.49824074 -0.79301522  1.43542523]\n",
      "  [-0.19394884 -3.55017444  1.12924325 -1.2862282  -0.40218222]\n",
      "  [-0.84642049  1.10106792 -2.78129276  0.10877478  1.25495858]]\n",
      "\n",
      " [[-0.9306871   1.79529986  1.57592786  0.21849421  0.16335236]\n",
      "  [ 0.55098577 -0.0095384  -0.85787884 -1.35454582  1.24666132]\n",
      "  [ 0.12381867 -0.76291356  0.51918997  0.85739078  1.65851309]\n",
      "  [ 0.82376585 -0.74718322  0.14928738 -1.21519669  1.11017298]]\n",
      "\n",
      " [[-0.27717094 -1.29981928 -2.16949587 -0.04545267  0.9170314 ]\n",
      "  [ 0.68818999 -0.21540799 -1.2574809  -1.37609232 -1.36746916]\n",
      "  [ 2.12057346  0.0983555   0.49569238 -1.2257776   0.93381527]\n",
      "  [ 0.1535011   0.01442746  0.11141768  0.77811402 -0.00800541]]\n",
      "\n",
      " [[-0.53092978 -0.84969634  0.52045525  0.74986731 -0.25263846]\n",
      "  [ 0.75462008  0.33808538  1.49749002  0.77428997 -1.47212878]\n",
      "  [ 0.33854592  0.1940615  -1.39523031 -0.55075781  1.26845574]\n",
      "  [ 0.69195909  0.93748587  0.23146517  0.07265208 -0.2732753 ]]]\n"
     ]
    }
   ],
   "source": [
    "mu = 0\n",
    "sigma = 1\n",
    "s = np.random.normal(mu, sigma, 120)\n",
    "s = s.reshape(6,4,5)\n",
    "print(s)"
   ]
  },
  {
   "cell_type": "code",
   "execution_count": 34,
   "metadata": {
    "collapsed": false
   },
   "outputs": [
    {
     "name": "stdout",
     "output_type": "stream",
     "text": [
      "[[-0.9306871   1.79529986  1.57592786]\n",
      " [ 0.55098577 -0.0095384  -0.85787884]]\n"
     ]
    }
   ],
   "source": [
    "print(s[3,:2,:3])"
   ]
  },
  {
   "cell_type": "markdown",
   "metadata": {},
   "source": [
    "Füllen Sie eine vergleichbares array mit normalverteilten Zufallszahlen (mu = 0, sigma =1) (seed = 1000)\n",
    "Was liefert s[3,:2,:3] zurück ?"
   ]
  },
  {
   "cell_type": "code",
   "execution_count": 35,
   "metadata": {
    "collapsed": false
   },
   "outputs": [
    {
     "name": "stdout",
     "output_type": "stream",
     "text": [
      "[[[-1.27109064  0.17613707 -0.29621638  0.32692882 -0.97341942]\n",
      "  [ 0.227681   -0.81932804  0.10722255  0.97527763  0.08197388]\n",
      "  [-0.47662253 -1.49217154 -0.40346495  0.69477827  0.2121528 ]\n",
      "  [ 0.09098984 -1.54885465 -0.04482736  1.55676333  1.94711068]]\n",
      "\n",
      " [[-0.78514011 -2.13921194 -1.26425853  0.29498718  0.80648927]\n",
      "  [ 0.27767032 -1.24384504  0.78727437  0.75203041  0.17298001]\n",
      "  [-0.73783565  0.96919093 -0.64637056  1.81109463 -0.99044486]\n",
      "  [-1.36911291  0.07248481  0.40832729  0.1687738  -0.58670124]]\n",
      "\n",
      " [[-1.51733757  0.72040884 -2.14986374 -1.23310196 -0.12122475]\n",
      "  [ 0.68214936  1.26832604 -0.02907836 -0.80203131  0.67907827]\n",
      "  [-1.04111161  0.93386042  0.34352489  1.78771666  0.48640788]\n",
      "  [ 0.46039938 -0.83387849  0.04040953 -0.09290729 -0.75064297]]\n",
      "\n",
      " [[-0.37392144  0.3453563   0.49987149 -1.1674225  -0.38700182]\n",
      "  [-0.96593647 -2.36935061  1.11943353  1.14754071  1.1925147 ]\n",
      "  [ 0.41127294  0.62608869  0.04526669  0.96049828 -0.29280139]\n",
      "  [ 0.01127911  0.80587441 -0.866476   -1.04311829  0.57402145]]\n",
      "\n",
      " [[ 1.07180389 -0.32848638 -0.38128694  0.43285888 -1.85676958]\n",
      "  [ 0.40907527 -2.19006338  2.6135831   1.00517651  0.86358165]\n",
      "  [ 1.24250273  1.2676498  -1.70135138  0.67964854  0.56041301]\n",
      "  [-2.567103    0.63869907 -0.66318587  1.51255843  0.21451128]]\n",
      "\n",
      " [[ 0.06944245  0.49807934 -0.50392124 -0.7710644   1.3924703 ]\n",
      "  [-0.73915102 -0.13088607  0.74360133 -0.38177041 -0.15789323]\n",
      "  [ 2.39360098  0.71233502  0.16225767  1.06413219 -1.14560502]\n",
      "  [-1.0620317   0.24752527 -0.17114712 -0.41134637  0.66517636]]]\n"
     ]
    }
   ],
   "source": [
    "np.random.seed(10000)\n",
    "mu = 0\n",
    "sigma = 1\n",
    "s = np.random.normal(mu, sigma, 120)\n",
    "s = s.reshape(6,4,5)\n",
    "print(s)"
   ]
  },
  {
   "cell_type": "code",
   "execution_count": 36,
   "metadata": {
    "collapsed": false
   },
   "outputs": [
    {
     "data": {
      "text/plain": [
       "array([[-0.37392144,  0.3453563 ,  0.49987149],\n",
       "       [-0.96593647, -2.36935061,  1.11943353]])"
      ]
     },
     "execution_count": 36,
     "metadata": {},
     "output_type": "execute_result"
    }
   ],
   "source": [
    "s[3,:2,:3]"
   ]
  },
  {
   "cell_type": "code",
   "execution_count": 37,
   "metadata": {
    "collapsed": false
   },
   "outputs": [
    {
     "name": "stdout",
     "output_type": "stream",
     "text": [
      "[[-0.37392144  0.3453563   0.49987149]\n",
      " [-0.96593647 -2.36935061  1.11943353]]\n"
     ]
    }
   ],
   "source": [
    "np.random.seed(10000)\n",
    "mu = 0\n",
    "sigma = 1\n",
    "s = np.random.normal(mu, sigma, 120)\n",
    "s = s.reshape(6,4,5)\n",
    "print(s[3,:2,:3])"
   ]
  },
  {
   "cell_type": "markdown",
   "metadata": {},
   "source": [
    "<h3> <font color=\"#8888\">Nur mit einem seed, bekommen wir nachvollziehbare Zufallszahlen. Jeder die gleichen !</font></h3>"
   ]
  },
  {
   "cell_type": "code",
   "execution_count": null,
   "metadata": {
    "collapsed": true
   },
   "outputs": [],
   "source": []
  }
 ],
 "metadata": {
  "anaconda-cloud": {},
  "kernelspec": {
   "display_name": "Python [conda root]",
   "language": "python",
   "name": "conda-root-py"
  },
  "language_info": {
   "codemirror_mode": {
    "name": "ipython",
    "version": 2
   },
   "file_extension": ".py",
   "mimetype": "text/x-python",
   "name": "python",
   "nbconvert_exporter": "python",
   "pygments_lexer": "ipython2",
   "version": "2.7.12"
  }
 },
 "nbformat": 4,
 "nbformat_minor": 0
}
