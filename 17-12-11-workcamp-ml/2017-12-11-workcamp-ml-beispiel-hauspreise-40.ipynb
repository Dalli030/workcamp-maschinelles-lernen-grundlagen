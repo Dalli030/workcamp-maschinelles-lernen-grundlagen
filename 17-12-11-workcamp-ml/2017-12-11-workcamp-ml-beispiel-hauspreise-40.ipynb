{
 "cells": [
  {
   "cell_type": "markdown",
   "metadata": {
    "deletable": true,
    "editable": true,
    "slideshow": {
     "slide_type": "slide"
    }
   },
   "source": [
    "<h1><font color=\"#8888\">Workcamp Maschinelles Lernen - 11.12.2017</font></h1>\n",
    "# Maschinelles Lernen in Python\n",
    "## an einem  Beispiel: *California Housing* - Wir bestimmen die Bestimmungsfaktoren\n",
    "## für Hauspreise in Kalifornien - Spielt ein Tesla eine Rolle ?\n"
   ]
  },
  {
   "cell_type": "code",
   "execution_count": null,
   "metadata": {
    "collapsed": false,
    "deletable": true,
    "editable": true
   },
   "outputs": [],
   "source": [
    "# Laden der Bibliotheken numpy, pandas und matplotlib\n",
    "import numpy as np\n",
    "import pandas as pd\n",
    "import matplotlib.pyplot as plt\n",
    "# Einen %magic Befehl ausführen\n",
    "% pylab inline \n",
    "# %matplotlib inline"
   ]
  },
  {
   "cell_type": "code",
   "execution_count": null,
   "metadata": {
    "collapsed": true
   },
   "outputs": [],
   "source": [
    "#Aus der scikit learn bibliothek werden module geladen\n",
    "from sklearn import base, pipeline, preprocessing\n",
    "from sklearn import svm, linear_model, tree, ensemble, neighbors"
   ]
  },
  {
   "cell_type": "code",
   "execution_count": null,
   "metadata": {
    "collapsed": false
   },
   "outputs": [],
   "source": [
    "df_file = pd.read_csv(\"california_housing.csv\")\n",
    "Xtrain = df_file[df_file[\"sample_id\"] == 0].copy()\n",
    "ytrain = np.asarray(Xtrain[\"y\"]).copy()\n",
    "del(Xtrain[\"sample_id\"], Xtrain[\"y\"])\n",
    "Xtest = df_file[df_file[\"sample_id\"] == 1].copy()\n",
    "ytest = np.asarray(Xtest[\"y\"]).copy()\n",
    "del(Xtest[\"sample_id\"], Xtest[\"y\"])\n",
    "df_file.head()"
   ]
  },
  {
   "cell_type": "code",
   "execution_count": null,
   "metadata": {
    "collapsed": false
   },
   "outputs": [],
   "source": [
    "df_file.describe()"
   ]
  },
  {
   "cell_type": "markdown",
   "metadata": {
    "deletable": true,
    "editable": true,
    "slideshow": {
     "slide_type": "slide"
    }
   },
   "source": [
    "#### Laden der Daten (Trainings- und Validierungsdatensatz)"
   ]
  },
  {
   "cell_type": "code",
   "execution_count": null,
   "metadata": {
    "collapsed": false,
    "deletable": true,
    "editable": true
   },
   "outputs": [],
   "source": [
    "#from utilities import load_data\n",
    "#Xtrain, ytrain, Xtest, ytest = load_data()\n",
    "Xtrain.head()"
   ]
  },
  {
   "cell_type": "code",
   "execution_count": null,
   "metadata": {
    "collapsed": false
   },
   "outputs": [],
   "source": [
    "Xtrain.tail()"
   ]
  },
  {
   "cell_type": "code",
   "execution_count": null,
   "metadata": {
    "collapsed": false
   },
   "outputs": [],
   "source": [
    "Xtrain.describe()"
   ]
  },
  {
   "cell_type": "raw",
   "metadata": {},
   "source": []
  },
  {
   "cell_type": "code",
   "execution_count": null,
   "metadata": {
    "collapsed": false
   },
   "outputs": [],
   "source": [
    "ytrain"
   ]
  },
  {
   "cell_type": "code",
   "execution_count": null,
   "metadata": {
    "collapsed": false
   },
   "outputs": [],
   "source": [
    "Xtest.head()"
   ]
  },
  {
   "cell_type": "code",
   "execution_count": null,
   "metadata": {
    "collapsed": false
   },
   "outputs": [],
   "source": [
    "Xtest.describe()"
   ]
  },
  {
   "cell_type": "code",
   "execution_count": null,
   "metadata": {
    "collapsed": false
   },
   "outputs": [],
   "source": [
    "ytest"
   ]
  },
  {
   "cell_type": "markdown",
   "metadata": {
    "deletable": true,
    "editable": true,
    "slideshow": {
     "slide_type": "subslide"
    }
   },
   "source": [
    "#### Plotten der Verteilung der Trainingsdaten"
   ]
  },
  {
   "cell_type": "code",
   "execution_count": null,
   "metadata": {
    "collapsed": false,
    "deletable": true,
    "editable": true
   },
   "outputs": [],
   "source": [
    "plt.hist(ytrain, bins=50)\n",
    "plt.show()"
   ]
  },
  {
   "cell_type": "code",
   "execution_count": null,
   "metadata": {
    "collapsed": false
   },
   "outputs": [],
   "source": [
    "plt.hist(ytrain, bins=20)\n",
    "plt.show()"
   ]
  },
  {
   "cell_type": "markdown",
   "metadata": {
    "deletable": true,
    "editable": true,
    "slideshow": {
     "slide_type": "slide"
    }
   },
   "source": [
    "### Einfaches Modell: Mittelwert"
   ]
  },
  {
   "cell_type": "code",
   "execution_count": null,
   "metadata": {
    "collapsed": false,
    "deletable": true,
    "editable": true
   },
   "outputs": [],
   "source": [
    "#from utilities import evaluate\n",
    "#from utilities import evaluate\n",
    "trivialprognose = np.mean(ytrain)\n",
    "prediction = trivialprognose\n",
    "#Plot der Daten\n",
    "truth = ytest\n",
    "#evaluate(trivialprognose, ytest)\n",
    "if isinstance(prediction, np.ndarray):\n",
    "    p = plt.hist(prediction, bins=50, color=\"g\", label='Vorhersage')\n",
    "else:\n",
    "    p = plt.bar(prediction, 250, width=0.125, color=\"g\", label='Vorhersage')\n",
    "t = plt.hist(truth, bins=50, color=\"b\", label='Wahrheit')\n",
    "plt.ylabel(\"Anzahl\")\n",
    "plt.xlabel(\"logarithmierter Hauspreis.\")\n",
    "plt.legend()\n",
    "print(\"Mittlere absolute Abweichung: {}\".format(np.mean(np.abs(prediction - truth))))\n",
    "print(\"Mittlere quadratische Abweichung: {}\".format(np.mean(np.square(prediction - truth))))"
   ]
  },
  {
   "cell_type": "markdown",
   "metadata": {
    "deletable": true,
    "editable": true,
    "slideshow": {
     "slide_type": "slide"
    }
   },
   "source": [
    "## Modell A: Lineare Regression\n"
   ]
  },
  {
   "cell_type": "code",
   "execution_count": null,
   "metadata": {
    "collapsed": false,
    "deletable": true,
    "editable": true
   },
   "outputs": [],
   "source": [
    "from sklearn.linear_model import LinearRegression\n",
    "\n",
    "est = LinearRegression()\n",
    "\n",
    "est.fit(Xtrain, ytrain)\n",
    "prediction = est.predict(Xtest)\n",
    "#Plot der Daten\n",
    "truth=ytest\n",
    "\n",
    "if isinstance(prediction, np.ndarray):\n",
    "    p = plt.hist(prediction, bins=50, color=\"g\", label='Vorhersage')\n",
    "else:\n",
    "    p = plt.bar(prediction, 250, width=0.125, color=\"g\", label='Vorhersage')\n",
    "t = plt.hist(truth, bins=50, color=\"b\", label='Wahrheit')\n",
    "plt.ylabel(\"Anzahl\")\n",
    "plt.xlabel(\"logarithmierter Hauspreis.\")\n",
    "plt.legend()\n",
    "print(\"Mittlere absolute Abweichung: {}\".format(np.mean(np.abs(prediction - truth))))\n",
    "print(\"Mittlere quadratische Abweichung: {}\".format(np.mean(np.square(prediction - truth))))\n",
    "\n",
    "#evaluate(prediction, ytest)"
   ]
  },
  {
   "cell_type": "markdown",
   "metadata": {
    "deletable": true,
    "editable": true,
    "slideshow": {
     "slide_type": "slide"
    }
   },
   "source": [
    "## Modell B: Support Vektor Regression\n"
   ]
  },
  {
   "cell_type": "code",
   "execution_count": null,
   "metadata": {
    "collapsed": false,
    "deletable": true,
    "editable": true
   },
   "outputs": [],
   "source": [
    "from sklearn.svm import SVR\n",
    "\n",
    "est = SVR(max_iter=5000)\n",
    "est.fit(Xtrain, ytrain)\n",
    "\n",
    "prediction = est.predict(Xtest)\n",
    "#Plot der Daten\n",
    "truth = ytest\n",
    "if isinstance(prediction, np.ndarray):\n",
    "    p = plt.hist(prediction, bins=50, color=\"g\", label='Vorhersage')\n",
    "else:\n",
    "    p = plt.bar(prediction, 250, width=0.125, color=\"g\", label='Vorhersage')\n",
    "t = plt.hist(truth, bins=50, color=\"b\", label='Wahrheit')\n",
    "plt.ylabel(\"Anzahl\")\n",
    "plt.xlabel(\"logarithmierter Hauspreis.\")\n",
    "plt.legend()\n",
    "print(\"Mittlere absolute Abweichung: {}\".format(np.mean(np.abs(prediction - truth))))\n",
    "print(\"Mittlere quadratische Abweichung: {}\".format(np.mean(np.square(prediction - truth))))\n",
    "#evaluate(prediction, ytest)"
   ]
  },
  {
   "cell_type": "markdown",
   "metadata": {
    "deletable": true,
    "editable": true,
    "slideshow": {
     "slide_type": "slide"
    }
   },
   "source": [
    "## Modell B durch Erweiterung mit Skalierungsverfahren\n"
   ]
  },
  {
   "cell_type": "code",
   "execution_count": null,
   "metadata": {
    "collapsed": false,
    "deletable": true,
    "editable": true
   },
   "outputs": [],
   "source": [
    "from sklearn.pipeline import Pipeline\n",
    "from sklearn.preprocessing import StandardScaler\n",
    "\n",
    "pipe = Pipeline([\n",
    "        ('scaler', StandardScaler()),\n",
    "        ('regressor', SVR(max_iter=5000))\n",
    "    ])\n",
    "pipe.fit(Xtrain, ytrain)\n",
    "\n",
    "prediction = pipe.predict(Xtest)\n",
    "\n",
    "#Plot der Daten\n",
    "truth = ytest\n",
    "if isinstance(prediction, np.ndarray):\n",
    "    p = plt.hist(prediction, bins=50, color=\"g\", label='Vorhersage')\n",
    "else:\n",
    "    p = plt.bar(prediction, 250, width=0.125, color=\"g\", label='Vorhersage')\n",
    "t = plt.hist(truth, bins=50, color=\"b\", label='Wahrheit')\n",
    "plt.ylabel(\"Anzahl\")\n",
    "plt.xlabel(\"logarithmierter Hauspreis.\")\n",
    "plt.legend()\n",
    "print(\"Mittlere absolute Abweichung: {}\".format(np.mean(np.abs(prediction - truth))))\n",
    "print(\"Mittlere quadratische Abweichung: {}\".format(np.mean(np.square(prediction - truth))))\n",
    "\n",
    "#evaluate(prediction, ytest)"
   ]
  },
  {
   "cell_type": "markdown",
   "metadata": {
    "deletable": true,
    "editable": true,
    "slideshow": {
     "slide_type": "slide"
    }
   },
   "source": [
    "## Weitere Betrachtung:  Zweidimensionale Korrelationen\n"
   ]
  },
  {
   "cell_type": "code",
   "execution_count": null,
   "metadata": {
    "collapsed": false,
    "deletable": true,
    "editable": true
   },
   "outputs": [],
   "source": [
    "df_file = pd.read_csv(\"california_housing.csv\")\n",
    "Xtrain = df_file[df_file[\"sample_id\"] == 0].copy()\n",
    "ytrain = np.asarray(Xtrain[\"y\"]).copy()\n",
    "del(Xtrain[\"sample_id\"], Xtrain[\"y\"])\n",
    "Xtest = df_file[df_file[\"sample_id\"] == 1].copy()\n",
    "ytest = np.asarray(Xtest[\"y\"]).copy()\n",
    "del(Xtest[\"sample_id\"], Xtest[\"y\"])\n",
    "#Xtrain, ytrain, Xtest, ytest = load_data()\n",
    "\n",
    "#from utilities import visualize\n",
    "\n",
    "#def visualize(geo_prediction):\n",
    "#Xtrain, ytrain, Xtest, ytest = load_data()\n",
    "geo_prediction = ytest\n",
    "x1 = np.asarray(Xtest['Longitude'])\n",
    "x2 = np.asarray(Xtest['Latitude'])\n",
    "\n",
    "from matplotlib import colors\n",
    "cm = plt.cm.get_cmap('RdYlBu')\n",
    "\n",
    "sc = plt.scatter(x1, x2, c=geo_prediction, s=20, vmin=0, vmax=5)\n",
    "plt.colorbar(sc)\n",
    "plt.show()\n",
    "\n",
    "\n",
    "\n",
    "#visualize(ytest)"
   ]
  },
  {
   "cell_type": "markdown",
   "metadata": {
    "deletable": true,
    "editable": true,
    "slideshow": {
     "slide_type": "slide"
    }
   },
   "source": [
    "## Erweiterung: Separate Regression der Geokoordinaten\n"
   ]
  },
  {
   "cell_type": "code",
   "execution_count": null,
   "metadata": {
    "collapsed": false,
    "deletable": true,
    "editable": true,
    "slideshow": {
     "slide_type": "-"
    }
   },
   "outputs": [],
   "source": [
    "from utilities import RegressionOnSubset\n",
    "from sklearn.neighbors import KNeighborsRegressor\n",
    "\n",
    "Xtrain, ytrain, Xtest, ytest = load_data()\n",
    "\n",
    "columns = [\"Longitude\", \"Latitude\"]\n",
    "\n",
    "pipe = Pipeline([\n",
    "         ('geo_regressor', RegressionOnSubset(\n",
    "            KNeighborsRegressor(), columns)),\n",
    "        ('scaler', StandardScaler()),\n",
    "        ('regressor', SVR(max_iter=5000)),\n",
    "    ])\n",
    "\n",
    "pipe.fit(Xtrain, ytrain)\n"
   ]
  },
  {
   "cell_type": "markdown",
   "metadata": {
    "collapsed": false,
    "deletable": true,
    "editable": true,
    "slideshow": {
     "slide_type": "subslide"
    }
   },
   "source": [
    "### Darstellen der Ergebnisse"
   ]
  },
  {
   "cell_type": "code",
   "execution_count": null,
   "metadata": {
    "collapsed": false,
    "deletable": true,
    "editable": true
   },
   "outputs": [],
   "source": [
    "Xtrain, ytrain, Xtest, ytest = load_data()\n",
    "prediction = pipe.predict(Xtest)\n"
   ]
  },
  {
   "cell_type": "code",
   "execution_count": null,
   "metadata": {
    "collapsed": false,
    "deletable": true,
    "editable": true
   },
   "outputs": [],
   "source": [
    "Xtest.head()\n",
    "visualize(Xtest.knearest)"
   ]
  },
  {
   "cell_type": "code",
   "execution_count": null,
   "metadata": {
    "collapsed": false,
    "deletable": true,
    "editable": true,
    "slideshow": {
     "slide_type": "subslide"
    }
   },
   "outputs": [],
   "source": [
    "evaluate(prediction, ytest)"
   ]
  },
  {
   "cell_type": "code",
   "execution_count": null,
   "metadata": {
    "collapsed": true
   },
   "outputs": [],
   "source": []
  }
 ],
 "metadata": {
  "anaconda-cloud": {},
  "celltoolbar": "Slideshow",
  "kernelspec": {
   "display_name": "Python [conda root]",
   "language": "python",
   "name": "conda-root-py"
  },
  "language_info": {
   "codemirror_mode": {
    "name": "ipython",
    "version": 2
   },
   "file_extension": ".py",
   "mimetype": "text/x-python",
   "name": "python",
   "nbconvert_exporter": "python",
   "pygments_lexer": "ipython2",
   "version": "2.7.12"
  }
 },
 "nbformat": 4,
 "nbformat_minor": 0
}
