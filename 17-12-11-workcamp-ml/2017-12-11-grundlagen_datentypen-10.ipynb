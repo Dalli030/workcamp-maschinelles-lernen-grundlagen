{
 "cells": [
  {
   "cell_type": "markdown",
   "metadata": {},
   "source": [
    "<h1>So einfach geht es ! </h1>"
   ]
  },
  {
   "cell_type": "code",
   "execution_count": 40,
   "metadata": {
    "collapsed": false
   },
   "outputs": [],
   "source": [
    "x = 2**14 #es wird 2 hoch 12 berechnet d.h. 2*2*2*2*2*2*2*2*2*2*2*2 Welche Zahl ergibt das ?"
   ]
  },
  {
   "cell_type": "markdown",
   "metadata": {},
   "source": [
    "<h3> Der zu berechnende Wert wurde der Variablen x zugewiesen</h3>"
   ]
  },
  {
   "cell_type": "markdown",
   "metadata": {},
   "source": [
    "<h3>Geben Sie die Zahl mit print aus. Lösung : print (x) </h3>"
   ]
  },
  {
   "cell_type": "code",
   "execution_count": 41,
   "metadata": {
    "collapsed": false
   },
   "outputs": [
    {
     "name": "stdout",
     "output_type": "stream",
     "text": [
      "16384\n"
     ]
    }
   ],
   "source": [
    "print (x)\n",
    "# Wie sind Variablen Namen zu definieren ?"
   ]
  },
  {
   "cell_type": "markdown",
   "metadata": {},
   "source": [
    "<h3>Variablen Namen beginnen immer mit ?</h3>\n",
    "\"\"\"einem Buchstaben\n",
    "oder _\n",
    "dürfen keine Sonderzeichen\n",
    "oder keine Leerzeichen enthalten\"\"\""
   ]
  },
  {
   "cell_type": "code",
   "execution_count": 42,
   "metadata": {
    "collapsed": true
   },
   "outputs": [],
   "source": [
    "x= x/2 # was wird jetzt berechnet ?\n",
    "# geben SIe das Ergebnis aus. Welcher Befehl ist zu verwenden ?"
   ]
  },
  {
   "cell_type": "code",
   "execution_count": 38,
   "metadata": {
    "collapsed": false
   },
   "outputs": [
    {
     "name": "stdout",
     "output_type": "stream",
     "text": [
      "8192\n"
     ]
    }
   ],
   "source": [
    "print x"
   ]
  },
  {
   "cell_type": "markdown",
   "metadata": {},
   "source": [
    "<h1>Einfache Datentypen</h1>"
   ]
  },
  {
   "cell_type": "code",
   "execution_count": 15,
   "metadata": {
    "collapsed": false
   },
   "outputs": [
    {
     "name": "stdout",
     "output_type": "stream",
     "text": [
      "14\n"
     ]
    }
   ],
   "source": [
    "x = 14 # ganzzahlig (integer)\n",
    "print x"
   ]
  },
  {
   "cell_type": "markdown",
   "metadata": {},
   "source": [
    "<h1>Operationen mit Zahlen</h1>"
   ]
  },
  {
   "cell_type": "code",
   "execution_count": null,
   "metadata": {
    "collapsed": false
   },
   "outputs": [],
   "source": [
    "11 * 27 #Ergebnis int"
   ]
  },
  {
   "cell_type": "code",
   "execution_count": null,
   "metadata": {
    "collapsed": false
   },
   "outputs": [],
   "source": [
    "11 * 27.0 #Ergebnis float"
   ]
  },
  {
   "cell_type": "code",
   "execution_count": null,
   "metadata": {
    "collapsed": false
   },
   "outputs": [],
   "source": [
    "type(24/3.0) #Ergebnis float"
   ]
  },
  {
   "cell_type": "code",
   "execution_count": null,
   "metadata": {
    "collapsed": false
   },
   "outputs": [],
   "source": [
    "24//3 #Ergebnis int"
   ]
  },
  {
   "cell_type": "code",
   "execution_count": null,
   "metadata": {
    "collapsed": false
   },
   "outputs": [],
   "source": [
    "21//3.0 #Ergebnis float"
   ]
  },
  {
   "cell_type": "code",
   "execution_count": null,
   "metadata": {
    "collapsed": false
   },
   "outputs": [],
   "source": [
    "21//3.2 #Ergebnis float whose value is the lower integer bound of 21//3.2"
   ]
  },
  {
   "cell_type": "code",
   "execution_count": null,
   "metadata": {
    "collapsed": false
   },
   "outputs": [],
   "source": [
    "21%4 #Ergebnis int (the remainder of dividing 21 by 4)"
   ]
  },
  {
   "cell_type": "code",
   "execution_count": null,
   "metadata": {
    "collapsed": false
   },
   "outputs": [],
   "source": [
    "21%4.4 #Ergebnis float (21 - 21//4.4)"
   ]
  },
  {
   "cell_type": "code",
   "execution_count": null,
   "metadata": {
    "collapsed": false
   },
   "outputs": [],
   "source": [
    "21**4 #Ergebnis int (21 hoch 4)"
   ]
  },
  {
   "cell_type": "code",
   "execution_count": null,
   "metadata": {
    "collapsed": false
   },
   "outputs": [],
   "source": [
    "21**4.2 #Ergebnis float"
   ]
  },
  {
   "cell_type": "markdown",
   "metadata": {},
   "source": [
    "<h1>Operationen mit Zeichenketten</h1>"
   ]
  },
  {
   "cell_type": "markdown",
   "metadata": {},
   "source": [
    "<h3>Indexing</h3>"
   ]
  },
  {
   "cell_type": "code",
   "execution_count": null,
   "metadata": {
    "collapsed": true
   },
   "outputs": [],
   "source": [
    "x = \"Dies ist ein Text in Python!\""
   ]
  },
  {
   "cell_type": "code",
   "execution_count": null,
   "metadata": {
    "collapsed": false
   },
   "outputs": [],
   "source": [
    "x[3] #Ergebnis das 4-te (i+1)-te Zeichen in x"
   ]
  },
  {
   "cell_type": "code",
   "execution_count": null,
   "metadata": {
    "collapsed": false
   },
   "outputs": [],
   "source": [
    "x[-1] #Ergebnis das letzte Zeichen in x"
   ]
  },
  {
   "cell_type": "code",
   "execution_count": null,
   "metadata": {
    "collapsed": false
   },
   "outputs": [],
   "source": [
    "x[-2] #Ergebnis das zweit-letzte Zeichen in x"
   ]
  },
  {
   "cell_type": "code",
   "execution_count": null,
   "metadata": {
    "collapsed": false
   },
   "outputs": [],
   "source": [
    "x[32] #IndexError. Out of range"
   ]
  },
  {
   "cell_type": "code",
   "execution_count": null,
   "metadata": {
    "collapsed": false
   },
   "outputs": [],
   "source": [
    "len(x) #ergibt die Länge des strings (als integer)"
   ]
  },
  {
   "cell_type": "code",
   "execution_count": 20,
   "metadata": {
    "collapsed": false
   },
   "outputs": [
    {
     "name": "stdout",
     "output_type": "stream",
     "text": [
      "100\n"
     ]
    },
    {
     "data": {
      "text/plain": [
       "str"
      ]
     },
     "execution_count": 20,
     "metadata": {},
     "output_type": "execute_result"
    }
   ],
   "source": [
    "y=str(100) #Umwanslung der Zahl 100 in einen string\n",
    "print(y)\n",
    "type(y)"
   ]
  },
  {
   "cell_type": "markdown",
   "metadata": {},
   "source": [
    "<h3>Slicing</h3>"
   ]
  },
  {
   "cell_type": "code",
   "execution_count": null,
   "metadata": {
    "collapsed": false
   },
   "outputs": [],
   "source": [
    "x[7:11] #Returns the 8th to the 11th character (i.e., 11-7 characters)"
   ]
  },
  {
   "cell_type": "code",
   "execution_count": null,
   "metadata": {
    "collapsed": false
   },
   "outputs": [],
   "source": [
    "x[7:] #Returns every character starting with location 7 (the 8th character) to the end of the string\n",
    "#Omitting the endpoint defaults to the \"rest of the string\""
   ]
  },
  {
   "cell_type": "code",
   "execution_count": null,
   "metadata": {
    "collapsed": false
   },
   "outputs": [],
   "source": [
    "x[0::2] #returns a substring starting from 0, going to the end (omitted), 2 characters at a time"
   ]
  },
  {
   "cell_type": "code",
   "execution_count": null,
   "metadata": {
    "collapsed": false
   },
   "outputs": [],
   "source": [
    "x[::-1] #Start from whatever makes sense as the start, go to whatever makes sense as the end, go backward\n",
    "# one character at a time\n",
    "#Here it makes sense to start at the end and go all the way to the beginning (because of the -1)\n",
    "#Returns a reversed string"
   ]
  },
  {
   "cell_type": "markdown",
   "metadata": {},
   "source": [
    "<h3>Suche [Searching]</h3>"
   ]
  },
  {
   "cell_type": "code",
   "execution_count": null,
   "metadata": {
    "collapsed": false
   },
   "outputs": [],
   "source": [
    "x.find('ein') #Returns the location of the first 'ein' found"
   ]
  },
  {
   "cell_type": "code",
   "execution_count": null,
   "metadata": {
    "collapsed": false
   },
   "outputs": [],
   "source": [
    "x.find('halo') #Returns -1. I.e., the substring was not found in x"
   ]
  },
  {
   "cell_type": "markdown",
   "metadata": {},
   "source": [
    "<h3>Unveränderbarkeit [immutable]</h3>"
   ]
  },
  {
   "cell_type": "code",
   "execution_count": null,
   "metadata": {
    "collapsed": false
   },
   "outputs": [],
   "source": [
    "x[3] = 'b' #TypeError. Can't change a string"
   ]
  },
  {
   "cell_type": "code",
   "execution_count": null,
   "metadata": {
    "collapsed": false
   },
   "outputs": [],
   "source": [
    "x = \"Hallo\"\n",
    "y = x\n",
    "print(id(x),id(y))\n",
    "#x and y are the same string"
   ]
  },
  {
   "cell_type": "code",
   "execution_count": null,
   "metadata": {
    "collapsed": false
   },
   "outputs": [],
   "source": [
    "x=\"Dies ist ein Text in Python!\"\n",
    "print(id(x),id(y))\n",
    "#x now points to a different string. y is still the same old string at the same old location!"
   ]
  },
  {
   "cell_type": "markdown",
   "metadata": {},
   "source": [
    "<h3>Verknüpfung von strings [Concatenation]</h3>"
   ]
  },
  {
   "cell_type": "code",
   "execution_count": null,
   "metadata": {
    "collapsed": false
   },
   "outputs": [],
   "source": [
    "#Der plus operator concatenates two strings to give rise to a third string\n",
    "x=\"Hallo\"\n",
    "y=\"Peter\"\n",
    "z=x+y\n",
    "print(x,y,z,id(x),id(y),id(z)) #x, y und z sind unterschiedliche strings"
   ]
  },
  {
   "cell_type": "code",
   "execution_count": null,
   "metadata": {
    "collapsed": false
   },
   "outputs": [],
   "source": [
    "#Since python doesn't understand that we need a space between Hello and Dolly, we need to add it ourselves\n",
    "z = x + \" \" + y\n",
    "print(z)"
   ]
  },
  {
   "cell_type": "markdown",
   "metadata": {},
   "source": [
    "<h1>Boolesche Variablen</h1>"
   ]
  },
  {
   "cell_type": "code",
   "execution_count": null,
   "metadata": {
    "collapsed": true
   },
   "outputs": [],
   "source": [
    "x=4\n",
    "y=2\n",
    "z=(x==y) #False weil x und y nicht gleich sind\n",
    "z=(x==x) #True weil x und x gleich sind\n"
   ]
  },
  {
   "cell_type": "code",
   "execution_count": null,
   "metadata": {
    "collapsed": false
   },
   "outputs": [],
   "source": [
    "#Comparison is by value\n",
    "x = \"Hallo\"\n",
    "y = \"Hallo\"\n",
    "print(id(x),id(y)) #Different strings"
   ]
  },
  {
   "cell_type": "code",
   "execution_count": null,
   "metadata": {
    "collapsed": false
   },
   "outputs": [],
   "source": [
    "print(x == y) #But they have the same value"
   ]
  },
  {
   "cell_type": "code",
   "execution_count": null,
   "metadata": {
    "collapsed": false
   },
   "outputs": [],
   "source": [
    "x=8\n",
    "print(x,bool(x)) #Non-zero numbers, strings with values are always True"
   ]
  },
  {
   "cell_type": "code",
   "execution_count": null,
   "metadata": {
    "collapsed": false
   },
   "outputs": [],
   "source": [
    "x='' #Leerer string\n",
    "print(x,bool(x)) #Leere strings und die Zahl 0 sind immer False"
   ]
  },
  {
   "cell_type": "markdown",
   "metadata": {},
   "source": [
    "<h3>Logische Operationen</h3>"
   ]
  },
  {
   "cell_type": "code",
   "execution_count": null,
   "metadata": {
    "collapsed": false
   },
   "outputs": [],
   "source": [
    "x=4\n",
    "y=5\n",
    "print(x>2 and y>2) #True because both x and y are greater than 2"
   ]
  },
  {
   "cell_type": "code",
   "execution_count": null,
   "metadata": {
    "collapsed": false
   },
   "outputs": [],
   "source": [
    "print(x>2 and y<2) #False because one is False"
   ]
  },
  {
   "cell_type": "code",
   "execution_count": null,
   "metadata": {
    "collapsed": false
   },
   "outputs": [],
   "source": [
    "print(x<2 and y<2) #False because both are False"
   ]
  },
  {
   "cell_type": "code",
   "execution_count": null,
   "metadata": {
    "collapsed": false
   },
   "outputs": [],
   "source": [
    "print(x>2 or y>2) #True because at least one is True"
   ]
  },
  {
   "cell_type": "code",
   "execution_count": null,
   "metadata": {
    "collapsed": false
   },
   "outputs": [],
   "source": [
    "print(x<2 or y>2) #True because at least one is True"
   ]
  },
  {
   "cell_type": "code",
   "execution_count": null,
   "metadata": {
    "collapsed": false
   },
   "outputs": [],
   "source": [
    "print(x<2 or y<2) #False because both are False"
   ]
  },
  {
   "cell_type": "code",
   "execution_count": null,
   "metadata": {
    "collapsed": false
   },
   "outputs": [],
   "source": [
    "print(not(x>2 or y>2)) #False because x>2 or y>2 is True"
   ]
  },
  {
   "cell_type": "code",
   "execution_count": null,
   "metadata": {
    "collapsed": false
   },
   "outputs": [],
   "source": [
    "print(x or y) #4 because x is True (non-zero) so no need to evaluate y. Value of x is returned"
   ]
  },
  {
   "cell_type": "code",
   "execution_count": null,
   "metadata": {
    "collapsed": false
   },
   "outputs": [],
   "source": [
    "print(x and 0+3) #3 because x is non-zero but need to check the second operand as well. That evaluates to 3"
   ]
  },
  {
   "cell_type": "code",
   "execution_count": null,
   "metadata": {
    "collapsed": false
   },
   "outputs": [],
   "source": [
    "S = \"Los geht es\"\n",
    "X = \"s\"\n",
    "X in S # ergibt true da \"s\" in S enthalten ist"
   ]
  },
  {
   "cell_type": "markdown",
   "metadata": {},
   "source": [
    "<h1>Zuweisungen an Variablen</h1>"
   ]
  },
  {
   "cell_type": "code",
   "execution_count": null,
   "metadata": {
    "collapsed": false
   },
   "outputs": [],
   "source": [
    "x = p + 10 #NameError! p ist nicht definiert"
   ]
  },
  {
   "cell_type": "code",
   "execution_count": null,
   "metadata": {
    "collapsed": true
   },
   "outputs": [],
   "source": [
    "p = 70\n",
    "x = p + 20 #jetzt funktioniert es\n",
    "print(x)"
   ]
  },
  {
   "cell_type": "code",
   "execution_count": null,
   "metadata": {
    "collapsed": false
   },
   "outputs": [],
   "source": [
    "x,y = 3,4 #Zuweisung in der Reihenfolge der Variablen\n",
    "print(x,y) #x ist 3 und y ist 4"
   ]
  },
  {
   "cell_type": "code",
   "execution_count": null,
   "metadata": {
    "collapsed": false
   },
   "outputs": [],
   "source": [
    "x = 70\n",
    "x += 40\n",
    "y = 50\n",
    "y -= 19\n",
    "print(x) #x ist 110 denn x += 40 ist equivalent zu x = x+40\n",
    "print(y) #y ist 31 denn y -= 19 ist äquivalent zu y = y - 19"
   ]
  },
  {
   "cell_type": "code",
   "execution_count": null,
   "metadata": {
    "collapsed": true
   },
   "outputs": [],
   "source": []
  },
  {
   "cell_type": "markdown",
   "metadata": {},
   "source": [
    "<h1>Mathematische Operationen</h1>"
   ]
  },
  {
   "cell_type": "code",
   "execution_count": null,
   "metadata": {
    "collapsed": true
   },
   "outputs": [],
   "source": [
    "import math as m"
   ]
  },
  {
   "cell_type": "code",
   "execution_count": null,
   "metadata": {
    "collapsed": false
   },
   "outputs": [],
   "source": [
    "import math as m\n",
    "x=45\n",
    "y=m.sin(x)\n",
    "print(y)"
   ]
  },
  {
   "cell_type": "markdown",
   "metadata": {},
   "source": [
    "<h1>Hash Werte erzeugen</h1>"
   ]
  },
  {
   "cell_type": "code",
   "execution_count": 18,
   "metadata": {
    "collapsed": false
   },
   "outputs": [
    {
     "name": "stdout",
     "output_type": "stream",
     "text": [
      "<md5 HASH object @ 00000000049218F0>\n"
     ]
    }
   ],
   "source": [
    "import hashlib\n",
    "y=str(1200)\n",
    "z=hashlib.md5(y)\n",
    "print(z)"
   ]
  },
  {
   "cell_type": "code",
   "execution_count": 37,
   "metadata": {
    "collapsed": false
   },
   "outputs": [
    {
     "name": "stdout",
     "output_type": "stream",
     "text": [
      "ca2f2069ea0c6e4658222e06f8dd639659cbb5e67cbbba6734bc334a3799bc68\n",
      "ca2f2069ea0c6e4658222e06f8dd639659cbb5e67cbbba6734bc334a3799bc68\n",
      "350b178c39a35b06cbe9cfafadad47feacf52380e9a60a228ece02c74fd2a84b\n",
      "04c901c634ca3f8d1086ba87b744b8fdc252bfbf592b6589a5036b46d0967618801f9b5d5509b068db88789a0f90650040f5322a17e40dba8c74881f821efdcc\n",
      "128\n",
      "<type '_hashlib.HASH'>\n",
      "<type 'str'>\n",
      "04c901c634ca3f8d1086ba87b744b8fdc252bfbf592b6589a5036b46d0967618\n",
      "801f9b5d5509b068db88789a0f90650040f5322a17e40dba8c74881f821efdcc\n"
     ]
    }
   ],
   "source": [
    "import hashlib\n",
    "y=\"abcdefghijk\" #gleiche strings ergeben gleiche hashes\n",
    "x=\"abcdefghijk\"\n",
    "x1=\"abcdffgijk\"\n",
    "x2=\"abcdffgijk\"\n",
    "t=hashlib.sha256(y)\n",
    "print(t.hexdigest())\n",
    "z=hashlib.sha256(x)\n",
    "print(z.hexdigest())\n",
    "w=hashlib.sha256(x1)\n",
    "print(w.hexdigest())\n",
    "v=hashlib.sha512(x2)\n",
    "print(v.hexdigest())\n",
    "m=len(v.hexdigest())\n",
    "print(m)\n",
    "print(type(v))\n",
    "x3=v.hexdigest()\n",
    "print(type(x3))\n",
    "print(x3[:64])\n",
    "print(x3[64:])\n",
    "\n"
   ]
  },
  {
   "cell_type": "markdown",
   "metadata": {
    "collapsed": true
   },
   "source": [
    "<h3>Arbeiten mit bit-Werten</h3>"
   ]
  },
  {
   "cell_type": "code",
   "execution_count": 1,
   "metadata": {
    "collapsed": false
   },
   "outputs": [
    {
     "name": "stdout",
     "output_type": "stream",
     "text": [
      "0b1000001\n",
      "1000001\n",
      "0x41\n",
      "65\n"
     ]
    },
    {
     "data": {
      "text/plain": [
       "'A'"
      ]
     },
     "execution_count": 1,
     "metadata": {},
     "output_type": "execute_result"
    }
   ],
   "source": [
    "y=65\n",
    "x=bin(y)# Umwandlung des Wertes in y in eine binäre Darstellung\n",
    "print(x)\n",
    "x1=x.split('0b') #bitweise Darstellung erzeugt mit split\n",
    "print(x1[1])\n",
    "z=hex(y)\n",
    "print(z)\n",
    "w='A'\n",
    "print(ord(w))# ordnet dem Zeichen in der Variablen w eine Ascii Ordnungszahl zu\n",
    "chr(65)# ordnet der Zahl ein Ascii Zeichen zu"
   ]
  },
  {
   "cell_type": "code",
   "execution_count": 3,
   "metadata": {
    "collapsed": false
   },
   "outputs": [
    {
     "name": "stdout",
     "output_type": "stream",
     "text": [
      "0b1000001\n"
     ]
    },
    {
     "data": {
      "text/plain": [
       "'0b10000010000'"
      ]
     },
     "execution_count": 3,
     "metadata": {},
     "output_type": "execute_result"
    }
   ],
   "source": [
    "print(bin(65))\n",
    "bin(65 << 4) #shift der binären Zahl um 4 Stellen nach links\n"
   ]
  },
  {
   "cell_type": "code",
   "execution_count": null,
   "metadata": {
    "collapsed": true
   },
   "outputs": [],
   "source": []
  }
 ],
 "metadata": {
  "anaconda-cloud": {},
  "kernelspec": {
   "display_name": "Python [conda root]",
   "language": "python",
   "name": "conda-root-py"
  },
  "language_info": {
   "codemirror_mode": {
    "name": "ipython",
    "version": 2
   },
   "file_extension": ".py",
   "mimetype": "text/x-python",
   "name": "python",
   "nbconvert_exporter": "python",
   "pygments_lexer": "ipython2",
   "version": "2.7.12"
  }
 },
 "nbformat": 4,
 "nbformat_minor": 2
}
