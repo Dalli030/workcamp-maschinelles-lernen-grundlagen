{
 "cells": [
  {
   "cell_type": "markdown",
   "metadata": {},
   "source": [
    "<h1>ANN - Erstes arbeiten mit Tensorflow - Binäre Klassifikation</h1>"
   ]
  },
  {
   "cell_type": "code",
   "execution_count": null,
   "metadata": {},
   "outputs": [],
   "source": [
    "#importieren sie die Bibliothek pandas\n",
    "import pandas as pd"
   ]
  },
  {
   "cell_type": "code",
   "execution_count": null,
   "metadata": {},
   "outputs": [],
   "source": [
    "#importieren sie matplotlib.pyplot as plt\n",
    "import matplotlib.pyplot as plt\n",
    "%matplotlib inline"
   ]
  },
  {
   "cell_type": "code",
   "execution_count": null,
   "metadata": {},
   "outputs": [],
   "source": [
    "#laden Sie die Datei \"daten.csv\" auf Ihren Hub\n",
    "#laden Sie die Datei \"daten.csv\" in einen Datframe df\n",
    "#Einlesen der Dateien mit pd.read_csv()\n",
    "df=pd.read_csv(\"daten.csv\")"
   ]
  },
  {
   "cell_type": "code",
   "execution_count": null,
   "metadata": {},
   "outputs": [],
   "source": [
    "#Betrachten Sie die ersten Daten des Dataframes df (default=5)\n",
    "df.head()"
   ]
  },
  {
   "cell_type": "code",
   "execution_count": null,
   "metadata": {},
   "outputs": [],
   "source": [
    "#Betrachten Sie 20 Datensätze am Ende des DataFrames\n",
    "df.tail(20)"
   ]
  },
  {
   "cell_type": "code",
   "execution_count": null,
   "metadata": {},
   "outputs": [],
   "source": [
    "#Erzeugen Sie eine Beschreibung der Statistischen Daten mit .describe()\n",
    "df.describe()"
   ]
  },
  {
   "cell_type": "code",
   "execution_count": null,
   "metadata": {},
   "outputs": [],
   "source": [
    "#Erzeugen Sie einen einfachen Scatterplot\n",
    "plt.scatter(df.x1,df.x2, c=df.label)"
   ]
  },
  {
   "cell_type": "code",
   "execution_count": null,
   "metadata": {},
   "outputs": [],
   "source": [
    "#importieren Sie tensorflow as tf\n",
    "# Laden der Bibliotheken\n",
    "import tensorflow as tf"
   ]
  },
  {
   "cell_type": "code",
   "execution_count": null,
   "metadata": {},
   "outputs": [],
   "source": [
    "#importieren Sie das keras.model Sequential()\n",
    "from keras.models import Sequential\n"
   ]
  },
  {
   "cell_type": "code",
   "execution_count": null,
   "metadata": {},
   "outputs": [],
   "source": [
    "#importieren Sie die Keras Layer Dense und Activation\n",
    "from keras.layers import Dense"
   ]
  },
  {
   "cell_type": "code",
   "execution_count": null,
   "metadata": {},
   "outputs": [],
   "source": [
    "#Auslesen der Daten und Labels aus dem Dataframe in ein array\n",
    "x_input = df[['x1','x2']].values\n",
    "y_input = df[['label']].values"
   ]
  },
  {
   "cell_type": "code",
   "execution_count": null,
   "metadata": {},
   "outputs": [],
   "source": [
    "#Ausgabe der Datenwerte\n",
    "print(x_input)"
   ]
  },
  {
   "cell_type": "code",
   "execution_count": null,
   "metadata": {},
   "outputs": [],
   "source": [
    "#Ausgabe der labels\n",
    "print(y_input)"
   ]
  },
  {
   "cell_type": "markdown",
   "metadata": {},
   "source": [
    "<h2> Erstes Neuronales Netz - Single Layer</h2>"
   ]
  },
  {
   "cell_type": "code",
   "execution_count": null,
   "metadata": {},
   "outputs": [],
   "source": [
    "#Initialisierung des Neuronalen Netzes nn\n",
    "nn=Sequential()"
   ]
  },
  {
   "cell_type": "code",
   "execution_count": null,
   "metadata": {},
   "outputs": [],
   "source": [
    "#Hinzufügen eines Dense Layers mit einem Neuron (units = 1)\n",
    "#Im ersten Layer geben eivel Features übergeben werden (input_dim=2)\n",
    "#Als Aktivierungsfunktion verwenden wir die Sigmoid-Funktion\n",
    "nn.add(Dense(units=1,input_dim=2,activation = 'sigmoid'))"
   ]
  },
  {
   "cell_type": "code",
   "execution_count": null,
   "metadata": {},
   "outputs": [],
   "source": [
    "# Compilieren des Modells.\n",
    "# Wir verwenden den optimizer 'adam'.\n",
    "# Es handelt sich um eine binäre Klassifikation, deshalb verwenden\n",
    "# wir 'binary_crossentropy' als Loss-Funktion und\n",
    "# betrachten als Qualitätsmaßstab die Accuracy\n",
    "nn.compile(optimizer='adam',loss='binary_crossentropy',metrics=['accuracy'])\n"
   ]
  },
  {
   "cell_type": "code",
   "execution_count": null,
   "metadata": {},
   "outputs": [],
   "source": [
    "# Überprüfen der Konfiguration\n",
    "nn.summary()\n"
   ]
  },
  {
   "cell_type": "code",
   "execution_count": null,
   "metadata": {},
   "outputs": [],
   "source": [
    "# Trainieren des Modells mit .fit\n",
    "# eventuell validation_split = 0.1 einfügen, d.h. 10% der Daten, werden zur Validierung verwendet.\n",
    "epoch_num = 1000\n",
    "# batch_num = 56 eventuell als Beispiel ergänzen\n",
    "history = nn.fit(x_input, y_input, epochs=epoch_num,validation_split=0.1, verbose = 1)"
   ]
  },
  {
   "cell_type": "code",
   "execution_count": null,
   "metadata": {},
   "outputs": [],
   "source": [
    "#Evaluierung der Ergebnisse\n",
    "nn.evaluate(x_input,y_input)"
   ]
  },
  {
   "cell_type": "code",
   "execution_count": null,
   "metadata": {},
   "outputs": [],
   "source": [
    "#Test mit Daten\n",
    "x_test=[[2,3],[6,4],[5,5],[4.321,2.657],[2.6487,4.5192],[1.5438,2.4443],[1.8991,4.2409],[6.1676,3.6457],[7.567,3.6381],[6.4321,5.4453]]\n",
    "ergebnis = nn.predict(x_test)\n",
    "print(ergebnis)"
   ]
  },
  {
   "cell_type": "code",
   "execution_count": null,
   "metadata": {},
   "outputs": [],
   "source": [
    "#Ausgabe der Anzahl der Werte in der Variablen ergebnis\n",
    "len(ergebnis)"
   ]
  },
  {
   "cell_type": "code",
   "execution_count": null,
   "metadata": {},
   "outputs": [],
   "source": [
    "# Schleife zur Ausgabe der entsprechenden Labels\n",
    "i = 0\n",
    "while i< len(ergebnis):\n",
    "    print(\"Das Wertepaar : \" +str(x_test[i]) + \"hat das Ergebnis \" + str(ergebnis[i,0]))\n",
    "    if ergebnis[i,0]>0.5:\n",
    "        print(\"und damit das Label 1\")\n",
    "    else:\n",
    "        print(\"und damit das Label 0\")\n",
    "    i +=1"
   ]
  },
  {
   "cell_type": "code",
   "execution_count": null,
   "metadata": {},
   "outputs": [],
   "source": [
    "history_dict = history.history\n",
    "history_dict.keys()"
   ]
  },
  {
   "cell_type": "code",
   "execution_count": null,
   "metadata": {},
   "outputs": [],
   "source": [
    "acc = history_dict['accuracy']\n",
    "val_acc = history_dict['val_accuracy']\n",
    "loss = history_dict['loss']\n",
    "val_loss = history_dict['val_loss']\n",
    "\n",
    "epochs = range(1, len(acc) + 1)\n",
    "\n",
    "# \"bo\" steht für \"blue dot\"\n",
    "plt.plot(epochs, loss, 'b', label='Training loss')\n",
    "plt.plot(epochs, acc, 'r', label='Training Accuracy')\n",
    "# b is for \"solid blue line\"\n",
    "plt.plot(epochs, val_loss, 'y', label='Validation loss')\n",
    "plt.plot(epochs, val_acc, 'g', label='Validation Accuracy')\n",
    "plt.title('Training/Validation loss und accuracy')\n",
    "plt.xlabel('Epochs')\n",
    "plt.ylabel('Loss / Accuracy')\n",
    "plt.legend()\n",
    "\n",
    "plt.show()"
   ]
  },
  {
   "cell_type": "markdown",
   "metadata": {},
   "source": [
    "<h2> Initialisierung eines zweiten Neuronalen Netzes - Multi Layer</h2>"
   ]
  },
  {
   "cell_type": "code",
   "execution_count": null,
   "metadata": {},
   "outputs": [],
   "source": [
    "#Initialisieren eine neuen Netzwerkes nn2\n",
    "nn2=Sequential()"
   ]
  },
  {
   "cell_type": "code",
   "execution_count": null,
   "metadata": {},
   "outputs": [],
   "source": [
    "#Hinzufügen der layer\n",
    "nn2.add(Dense(units=100,input_dim=2,activation='relu'))\n",
    "nn2.add(Dense(units=50,activation='relu'))\n",
    "nn2.add(Dense(units=1,activation='sigmoid'))"
   ]
  },
  {
   "cell_type": "code",
   "execution_count": null,
   "metadata": {},
   "outputs": [],
   "source": [
    "# Kompilieren des neuen Modells\n",
    "nn2.compile(optimizer='adam', loss='binary_crossentropy', metrics=['accuracy'])"
   ]
  },
  {
   "cell_type": "code",
   "execution_count": null,
   "metadata": {},
   "outputs": [],
   "source": [
    "#Ausgabe der Modellstruktur\n",
    "nn2.summary()"
   ]
  },
  {
   "cell_type": "code",
   "execution_count": null,
   "metadata": {},
   "outputs": [],
   "source": [
    "#Trainieren des Modells\n",
    "epoch_num = 50\n",
    "history = nn2.fit(x_input,y_input, epochs=epoch_num,validation_split=0.1, verbose=1)"
   ]
  },
  {
   "cell_type": "code",
   "execution_count": null,
   "metadata": {},
   "outputs": [],
   "source": [
    "#Evaluierung der Ergebnisse\n",
    "nn2.evaluate(x_input, y_input)"
   ]
  },
  {
   "cell_type": "code",
   "execution_count": null,
   "metadata": {},
   "outputs": [],
   "source": [
    "history_dict = history.history\n",
    "history_dict.keys()"
   ]
  },
  {
   "cell_type": "code",
   "execution_count": null,
   "metadata": {},
   "outputs": [],
   "source": [
    "acc = history_dict['accuracy']\n",
    "val_acc = history_dict['val_accuracy']\n",
    "loss = history_dict['loss']\n",
    "val_loss = history_dict['val_loss']\n",
    "\n",
    "epochs = range(1, len(acc) + 1)\n",
    "\n",
    "# \"bo\" steht für \"blue dot\"\n",
    "plt.plot(epochs, loss, 'b', label='Training loss')\n",
    "plt.plot(epochs, acc, 'r', label='Training Accuracy')\n",
    "# b,r steht für \"solid blue or red line\"\n",
    "plt.plot(epochs, val_loss, 'y', label='Validation loss')\n",
    "plt.plot(epochs, val_acc, 'g', label='Validation Accuracy')\n",
    "plt.title('Training/Validation loss und accuracy')\n",
    "plt.xlabel('Epochs')\n",
    "plt.ylabel('Loss / Accuracy')\n",
    "plt.legend()\n",
    "\n",
    "plt.show()"
   ]
  },
  {
   "cell_type": "markdown",
   "metadata": {},
   "source": [
    "<h2>Erzeugen von Varianten des Modells nn2</h2><br>\n",
    "Wir verändern:<br>\n",
    "Aktivierungsfunktion von 'relu' in 'tanh' in den ersten Layern<br>\n",
    "Dieses Modell bekommt die Bezeichnung nn3"
   ]
  },
  {
   "cell_type": "code",
   "execution_count": null,
   "metadata": {},
   "outputs": [],
   "source": [
    "#Initialisieren eine neuen Netzwerkes nn3\n",
    "nn3=Sequential()"
   ]
  },
  {
   "cell_type": "code",
   "execution_count": null,
   "metadata": {},
   "outputs": [],
   "source": [
    "#Hinzufügen der layer mit geäderter Aktivierungsfunktion\n",
    "nn3.add(Dense(units=100,input_dim=2,activation='tanh'))\n",
    "nn3.add(Dense(units=50,activation='tanh'))\n",
    "nn3.add(Dense(units=1,activation='sigmoid'))"
   ]
  },
  {
   "cell_type": "code",
   "execution_count": null,
   "metadata": {},
   "outputs": [],
   "source": [
    "# Kompilieren des neuen Modells\n",
    "nn3.compile(optimizer='adam', loss='binary_crossentropy', metrics=['accuracy'])"
   ]
  },
  {
   "cell_type": "code",
   "execution_count": null,
   "metadata": {},
   "outputs": [],
   "source": [
    "#Ausgabe der Modellstruktur\n",
    "nn3.summary()"
   ]
  },
  {
   "cell_type": "code",
   "execution_count": null,
   "metadata": {},
   "outputs": [],
   "source": [
    "#Trainieren des Modells nn3\n",
    "epoch_num = 50\n",
    "history = nn3.fit(x_input,y_input, epochs=epoch_num,validation_split=0.1, verbose=1)"
   ]
  },
  {
   "cell_type": "code",
   "execution_count": null,
   "metadata": {},
   "outputs": [],
   "source": [
    "#Evaluierung der Ergebnisse\n",
    "nn2.evaluate(x_input, y_input)"
   ]
  },
  {
   "cell_type": "code",
   "execution_count": null,
   "metadata": {},
   "outputs": [],
   "source": [
    "history_dict = history.history\n",
    "history_dict.keys()"
   ]
  },
  {
   "cell_type": "code",
   "execution_count": null,
   "metadata": {},
   "outputs": [],
   "source": [
    "acc = history_dict['accuracy']\n",
    "val_acc = history_dict['val_accuracy']\n",
    "loss = history_dict['loss']\n",
    "val_loss = history_dict['val_loss']\n",
    "\n",
    "epochs = range(1, len(acc) + 1)\n",
    "\n",
    "# \"bo\" steht für \"blue dot\"\n",
    "plt.plot(epochs, loss, 'b', label='Training loss')\n",
    "plt.plot(epochs, acc, 'r', label='Training Accuracy')\n",
    "# b,r steht für \"solid blue or red line\"\n",
    "plt.plot(epochs, val_loss, 'y', label='Validation loss')\n",
    "plt.plot(epochs, val_acc, 'g', label='Validation Accuracy')\n",
    "plt.title('Training/Validation loss und accuracy')\n",
    "plt.xlabel('Epochs')\n",
    "plt.ylabel('Loss / Accuracy')\n",
    "plt.legend()\n",
    "\n",
    "plt.show()"
   ]
  },
  {
   "cell_type": "markdown",
   "metadata": {},
   "source": [
    "<h2>Erzeugen von Varianten des Modells nn2</h2><br>\n",
    "Wir verändern:<br>\n",
    "Den optimizer 'adam' in 'sgd' (Stochastisches Gradientenverfahren) bei der Kompilierung<br>\n",
    "Dieses Modell bekommt die Bezeichnung nn4"
   ]
  },
  {
   "cell_type": "code",
   "execution_count": null,
   "metadata": {},
   "outputs": [],
   "source": [
    "#Initialisieren eine neuen Netzwerkes nn4\n",
    "nn4=Sequential()"
   ]
  },
  {
   "cell_type": "code",
   "execution_count": null,
   "metadata": {},
   "outputs": [],
   "source": [
    "#Hinzufügen der layer mit der Aktivierungsfunktion tanh\n",
    "nn4.add(Dense(units=100,input_dim=2,activation='tanh'))\n",
    "nn4.add(Dense(units=50,activation='tanh'))\n",
    "nn4.add(Dense(units=1,activation='sigmoid'))"
   ]
  },
  {
   "cell_type": "code",
   "execution_count": null,
   "metadata": {},
   "outputs": [],
   "source": [
    "# Kompilieren des neuen Modells\n",
    "nn4.compile(optimizer='sgd', loss='binary_crossentropy', metrics=['accuracy'])"
   ]
  },
  {
   "cell_type": "code",
   "execution_count": null,
   "metadata": {},
   "outputs": [],
   "source": [
    "#Ausgabe der Modellstruktur\n",
    "nn4.summary()"
   ]
  },
  {
   "cell_type": "code",
   "execution_count": null,
   "metadata": {},
   "outputs": [],
   "source": [
    "#Trainieren des Modells nn4\n",
    "epoch_num = 50\n",
    "history = nn4.fit(x_input,y_input, epochs=epoch_num,validation_split=0.1, verbose=1)"
   ]
  },
  {
   "cell_type": "code",
   "execution_count": null,
   "metadata": {},
   "outputs": [],
   "source": [
    "#Evaluierung der Ergebnisse\n",
    "nn2.evaluate(x_input, y_input)"
   ]
  },
  {
   "cell_type": "code",
   "execution_count": null,
   "metadata": {},
   "outputs": [],
   "source": [
    "history_dict = history.history\n",
    "history_dict.keys()"
   ]
  },
  {
   "cell_type": "code",
   "execution_count": null,
   "metadata": {},
   "outputs": [],
   "source": [
    "acc = history_dict['accuracy']\n",
    "val_acc = history_dict['val_accuracy']\n",
    "loss = history_dict['loss']\n",
    "val_loss = history_dict['val_loss']\n",
    "\n",
    "epochs = range(1, len(acc) + 1)\n",
    "\n",
    "# \"bo\" steht für \"blue dot\"\n",
    "plt.plot(epochs, loss, 'b', label='Training loss')\n",
    "plt.plot(epochs, acc, 'r', label='Training Accuracy')\n",
    "# b,r steht für \"solid blue or red line\"\n",
    "plt.plot(epochs, val_loss, 'y', label='Validation loss')\n",
    "plt.plot(epochs, val_acc, 'g', label='Validation Accuracy')\n",
    "plt.title('Training/Validation loss und accuracy')\n",
    "plt.xlabel('Epochs')\n",
    "plt.ylabel('Loss / Accuracy')\n",
    "plt.legend()\n",
    "\n",
    "plt.show()"
   ]
  },
  {
   "cell_type": "code",
   "execution_count": null,
   "metadata": {},
   "outputs": [],
   "source": [
    "# Führen Sie weitere Veränderungen durch:\n",
    "# 1.\n",
    "# Verändern Sie in den Modellen nn2, nn3 und nn4 die Anzahl\n",
    "# der epochs von 50 auf 100, epochs_num=100\n",
    "# 2.\n",
    "# Verändern Sie die Anzahl der Neuronen im ersten Layer auf 200\n",
    "# und im zweiten Layer auf 100 \n",
    "#\n",
    "# Initialisieren Sie das Modell in der jeweiligen Zelle einfach neu\n",
    "# und führen dann im Modell die Veränderungen durch.\n",
    "#\n",
    "# Ergeben sich Ergebnisverbesserungen\n",
    "#\n",
    "# Wie sie sehen wurde mit der einfachen Anweisung validation_split=0.1\n",
    "# ein Teil der Daten zur Validierung verwendet. Variieren Sie doch auch\n",
    "# einmal diesen Anteil auf 0.2 oder 0.3.\n",
    "#\n"
   ]
  }
 ],
 "metadata": {
  "kernelspec": {
   "display_name": "Python 3",
   "language": "python",
   "name": "python3"
  },
  "language_info": {
   "codemirror_mode": {
    "name": "ipython",
    "version": 3
   },
   "file_extension": ".py",
   "mimetype": "text/x-python",
   "name": "python",
   "nbconvert_exporter": "python",
   "pygments_lexer": "ipython3",
   "version": "3.7.3"
  }
 },
 "nbformat": 4,
 "nbformat_minor": 4
}
