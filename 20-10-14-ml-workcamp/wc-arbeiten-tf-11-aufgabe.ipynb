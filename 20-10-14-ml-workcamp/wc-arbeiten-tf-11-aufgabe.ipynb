{
 "cells": [
  {
   "cell_type": "markdown",
   "metadata": {},
   "source": [
    "<h2>Arbeiten mit Tensorflow - Beispiel Umrechnung Celsius in Fahrenheit</h2>"
   ]
  },
  {
   "cell_type": "markdown",
   "metadata": {},
   "source": [
    "In diesem Jupyter Notebook werden Sie ein weiteres Machine Learning model auf Basis von Tensorflow trainieren!\n",
    "\n",
    "Es werden nochmals grundlegende Konzepte vorgestellt. Weitere Notebooks werden vertiefend in die Probleme einsteigen.\n",
    "\n",
    "Das Problem das wir lösen wollen ist die Umrechnung von Celsius Werten in Fahrenheit Werte. Die Formel hierfür lautet:\n",
    "\n",
    "$$ f = c \\times 1.8 + 32 $$\n",
    "\n",
    "Der formale Zusammenhang ist also bekannt und es ist deshalb einfach in irgendeiner Programmiersprache diesen Algorithmus zur Umrechnung zu programmieren.\n",
    "\n",
    "Wir werden dies in einem ersten Schritt einmal versuchen!\n",
    "Definieren Sie hierzu eine Funktion in Python, die uns diese Umrechnung erledigt !\n",
    "Geben Sie hierzu in eine Zelle folgenden Code ein:<br>\n",
    "def umrechnung(C):<br>\n",
    "    F = 1.8*C+32<br>\n",
    "    return F<br>\n",
    "\n",
    "Achtung: Beachten Sie, dass bei der Definition einer Funktion nach dem :\n",
    "die Teile der Funktion eine Einrückung haben müssen.\n"
   ]
  },
  {
   "cell_type": "code",
   "execution_count": null,
   "metadata": {},
   "outputs": [],
   "source": [
    "# Definition der Funktion umrechnung\n",
    "def umrechnung(C):\n",
    "    F = #Ihr Code hier#\n",
    "    return #Ihr Code hier#"
   ]
  },
  {
   "cell_type": "code",
   "execution_count": null,
   "metadata": {},
   "outputs": [],
   "source": [
    "#\n",
    "# Rufen Sie die definierte Funktion mit unterschiedlichen Werten (8,12.5,23,44.6)\n",
    "# einmal auf. Sie sollten die Ergebnisse (46.4, 54.5, 73.4, 112.28) erhalten.\n",
    "# Aufruf - Ersetzen Sie #Wert# durch Ihre Zahl - Berechnen Sie die Zelle\n",
    "#\n",
    "umrechnung(#Wert#)"
   ]
  },
  {
   "cell_type": "markdown",
   "metadata": {},
   "source": [
    "Es ist also sehr einfach in Python diese Funktion zu programmieren.Das hat aber nichts mit Machine Learning zu tun, sondern das ist das klassische Programmier Paradigma:<br>\n",
    "- es gibt eine Regel\n",
    "- es gibt einen Input\n",
    "- der Algorithmus erzeugt einen Output<br>\n",
    "\n",
    "Dieses Prinzip wird häufig auch EVA genannt - Eingabe/Verarbeitung/Ausgabe<br>\n",
    "Im Machine Learning ist die zugrundeliegende Regel nicht bekannt.\n",
    "Wir kennen nur den Input und den Output und der ML Algorithmus soll die zugrundeliegenden Parameter lernen.<br>\n",
    "Das heisst in diesem Problem sind die Parameter 1.8 und 32 erst einmal zu lernen.<br>\n",
    "Wir wollen also ein ML Modell auf Basis von Tensorflow und Keras trainieren, diese Parameter zu lernen.<br>"
   ]
  },
  {
   "cell_type": "markdown",
   "metadata": {},
   "source": [
    "<h2>Importieren der notwendigen Bibliotheken</h2>"
   ]
  },
  {
   "cell_type": "code",
   "execution_count": null,
   "metadata": {},
   "outputs": [],
   "source": [
    "# Importieren Sie numpy as np\n",
    "import numpy as np"
   ]
  },
  {
   "cell_type": "code",
   "execution_count": null,
   "metadata": {},
   "outputs": [],
   "source": [
    "# Importieren Sie tensorflow as tf\n"
   ]
  },
  {
   "cell_type": "code",
   "execution_count": null,
   "metadata": {},
   "outputs": [],
   "source": [
    "# Import des Modells Sequential\n",
    "# from keras.models import Sequential\n"
   ]
  },
  {
   "cell_type": "code",
   "execution_count": null,
   "metadata": {},
   "outputs": [],
   "source": [
    "# Import des Dense Layers\n",
    "# from keras.layers import Dense\n"
   ]
  },
  {
   "cell_type": "code",
   "execution_count": null,
   "metadata": {},
   "outputs": [],
   "source": [
    "# importieren Sie matplotlib.pyplot as plt\n",
    "# Setzen Sie den magic Befehl: %matplotlib inline\n",
    "\n"
   ]
  },
  {
   "cell_type": "code",
   "execution_count": null,
   "metadata": {},
   "outputs": [],
   "source": [
    "# Übergabe der zu lernenden Werte und deren Umrechnungsergebnisse an numpy arrays\n",
    "celsius_i    = np.array([-40, -10,  0,  8, 12.5, 15, 22,  38, 49.5],  dtype=float)\n",
    "fahrenheit_o = np.array([-40,  14, 32, 46.4, 54.5, 59, 71.6, 100.4, 121.1],  dtype=float)\n",
    "# Ausgabe der zu lernenden Werte\n",
    "print(\"Die zu lernenden Werte sind:\")\n",
    "for i,c in enumerate(celsius_i):\n",
    "  print(\"{} Grad Celsius = {} Grad Fahrenheit\".format(c, fahrenheit_o[i]))"
   ]
  },
  {
   "cell_type": "markdown",
   "metadata": {},
   "source": [
    "<h2> Aufsetzen des Neuronalen Netzes als nn</h2>"
   ]
  },
  {
   "cell_type": "code",
   "execution_count": null,
   "metadata": {},
   "outputs": [],
   "source": [
    "# Initialisieren Sie ein Neuronales Netz nn mit Sequential()\n",
    "# nn = Sequential()\n"
   ]
  },
  {
   "cell_type": "code",
   "execution_count": null,
   "metadata": {},
   "outputs": [],
   "source": [
    "# Fügen Sie einen Dense Layer mit einem Neuron hinzu, (units=1,input_dim=1)\n",
    "#\n",
    "# Wieviel Parameter hat dieser Layer ?\n",
    "#\n",
    "# nn.add(Dense(units=1, input_dim=1))\n",
    "\n"
   ]
  },
  {
   "cell_type": "code",
   "execution_count": null,
   "metadata": {},
   "outputs": [],
   "source": [
    "# Wir wollen den adam optimizer mit einer bestimmten Lernrate einsetzen\n",
    "# mit der Angabe optimizer='adam' würden nur die default Werte genommen werden.\n",
    "# Definition des optimzers mit Übergabe einer Lernrate 0.1\n",
    "optimizer_adam=tf.keras.optimizers.Adam(0.1)\n",
    "# Kompilieren Sie das Modell\n",
    "nn.compile(optimizer=optimizer_adam, loss='mean_squared_error')"
   ]
  },
  {
   "cell_type": "code",
   "execution_count": null,
   "metadata": {},
   "outputs": [],
   "source": [
    "# Überprüfen der Konfiguration\n",
    "# nn.summary()\n",
    "# Wieviel Parameter sind trainierbar ?\n"
   ]
  },
  {
   "cell_type": "code",
   "execution_count": null,
   "metadata": {},
   "outputs": [],
   "source": [
    "# Trainieren Sie das Modell mit 1000 epochs\n",
    "epoch_num = #Wert#\n",
    "history = nn.fit(celsius_i,fahrenheit_o,epochs=epoch_num, verbose=1 )\n",
    "print(\"Das Training ist beendet\")"
   ]
  },
  {
   "cell_type": "code",
   "execution_count": null,
   "metadata": {},
   "outputs": [],
   "source": []
  },
  {
   "cell_type": "code",
   "execution_count": null,
   "metadata": {},
   "outputs": [],
   "source": [
    "# Graphische Darstellung der Ergebnisentwicklung\n",
    "plt.xlabel('Epoch Number')\n",
    "plt.ylabel(\"Loss Magnitude\")\n",
    "plt.plot(history.history['loss'])"
   ]
  },
  {
   "cell_type": "markdown",
   "metadata": {},
   "source": [
    "<h2>Vorhersage von Werten</h2>"
   ]
  },
  {
   "cell_type": "code",
   "execution_count": null,
   "metadata": {},
   "outputs": [],
   "source": [
    "# Vorhersage für den Wert 100.0\n",
    "ergebnis = nn.predict([#Wert#])\n",
    "print(ergebnis)"
   ]
  },
  {
   "cell_type": "code",
   "execution_count": null,
   "metadata": {},
   "outputs": [],
   "source": [
    "# Vorhersage für den Wert 85.5\n",
    "ergebnis = nn.predict([#Wert#])\n",
    "print(ergebnis)"
   ]
  },
  {
   "cell_type": "markdown",
   "metadata": {},
   "source": [
    "<h3 style=\"color:orange; font-weight:bold;\">Dies ist doch ein erstaunliches Ergebnis, oder ?</h3>"
   ]
  },
  {
   "cell_type": "markdown",
   "metadata": {},
   "source": [
    "Wir wollen deshalb einmal überprüfen welche Werte in diesem einen<br>\n",
    "Layer gelernt wurden."
   ]
  },
  {
   "cell_type": "markdown",
   "metadata": {},
   "source": [
    "<h2>Auslesen der gelernten Parameter</h2>"
   ]
  },
  {
   "cell_type": "code",
   "execution_count": null,
   "metadata": {},
   "outputs": [],
   "source": [
    "# Ausgabe der Layer Parameter die gelernt wurden\n",
    "print(\"Dies sind die Layer Variablen: {}\".format(nn.get_weights()))\n",
    "# erwartetes Ergebnis [1.8, 32]"
   ]
  },
  {
   "cell_type": "markdown",
   "metadata": {},
   "source": [
    "In diesem Single Layer Neuronalen Netz lässt sich die Formel<br>\n",
    "für die Umrechnung also exakt nachbilden und die Parameter werden gelernt.<br>\n",
    "<br>\n",
    "Wie sieht das aber aus, wenn wir eine andere Struktur des Neuronalen Netzes wählen ?<br>"
   ]
  },
  {
   "cell_type": "markdown",
   "metadata": {},
   "source": [
    "<h2>Erweiterung des Neuronalen Netzes nn2</h2>"
   ]
  },
  {
   "cell_type": "code",
   "execution_count": null,
   "metadata": {},
   "outputs": [],
   "source": [
    "# Initialisieren des Neuronalen Netzes nn2\n",
    "# nn2=Sequential()\n"
   ]
  },
  {
   "cell_type": "code",
   "execution_count": null,
   "metadata": {},
   "outputs": [],
   "source": [
    "#\n",
    "# Hinufügen der Layer (Vergabe von Namen)\n",
    "#\n",
    "# nn2.add(Dense(units=4, input_dim=1, name='a'))\n",
    "# nn2.add(Dense(units=4, name='b'))\n",
    "# nn2.add(Dense(units=1, name='c'))\n",
    "# Überlegung:\n",
    "# Wieviel Parameter hat Layer a ?\n",
    "# Wieviel Parameter hat Layer b ?\n",
    "# Wieviel Parameter hat Layer c ?\n",
    "# Wieviel Parameter hat das Modell insgesamt ?\n",
    "#\n",
    "\n",
    "\n"
   ]
  },
  {
   "cell_type": "code",
   "execution_count": null,
   "metadata": {},
   "outputs": [],
   "source": [
    "# Definieren des optimizers mit einer Lernrate 0.1\n",
    "optimizer_a=tf.keras.optimizers.Adam(0.1)\n",
    "# Kompilieren Sie das Modell\n",
    "nn2.compile(optimizer=optimizer_a, loss='mean_squared_error')"
   ]
  },
  {
   "cell_type": "code",
   "execution_count": null,
   "metadata": {},
   "outputs": [],
   "source": [
    "#\n",
    "# Überprüfen der Konfiguration\n",
    "# Wieviel Parameter hat Layer a ?\n",
    "# Wieviel Parameter hat Layer b ?\n",
    "# Wieviel Parameter hat Layer c ?\n",
    "#\n",
    "# nn2.summary()\n"
   ]
  },
  {
   "cell_type": "code",
   "execution_count": null,
   "metadata": {},
   "outputs": [],
   "source": [
    "# Trainieren Sie das Modell nn2 mit 1000 epochs\n",
    "epoch_num = #Wert#\n",
    "history = nn2.fit(celsius_i,fahrenheit_o,epochs=epoch_num, verbose=1 )\n",
    "print(\"Das Training ist beendet\")"
   ]
  },
  {
   "cell_type": "markdown",
   "metadata": {},
   "source": [
    "<h2> Vorhersage von Werten</h2>"
   ]
  },
  {
   "cell_type": "code",
   "execution_count": null,
   "metadata": {},
   "outputs": [],
   "source": [
    "# Vorhersage für den Wert 100.0\n",
    "ergebnis = nn2.predict([#Wert#])\n",
    "print(ergebnis)"
   ]
  },
  {
   "cell_type": "code",
   "execution_count": null,
   "metadata": {},
   "outputs": [],
   "source": [
    "# Vorhersage für den Wert 85.5\n",
    "ergebnis = nn2.predict([#Wert#])\n",
    "print(ergebnis)"
   ]
  },
  {
   "cell_type": "markdown",
   "metadata": {},
   "source": [
    "<h3 style=\"color:orange;\">Dieses Modell liefert also nahezu identische Vorhersagewerte</h3>"
   ]
  },
  {
   "cell_type": "code",
   "execution_count": null,
   "metadata": {},
   "outputs": [],
   "source": [
    "print(\"Model nn2 ermittelt, dass 100 Grad Celsius: {} Grad Fahrenheit sind.\".format(nn2.predict([100.0])))\n"
   ]
  },
  {
   "cell_type": "markdown",
   "metadata": {},
   "source": [
    "Wie sehen aber die Parameter in den Layern aus ?"
   ]
  },
  {
   "cell_type": "code",
   "execution_count": null,
   "metadata": {},
   "outputs": [],
   "source": [
    "# Ausgabe der Layer\n",
    "# nn2.layers\n",
    "nn2.layers"
   ]
  },
  {
   "cell_type": "markdown",
   "metadata": {},
   "source": [
    "Alle Parameter eines Layers können über Ihre Methoden<br>\n",
    "get_weights()<br>\n",
    "set_weights()<br>\n",
    "angesprochen werden.\n",
    "Für einen Dense Layer gehören dazu sowohl die <br>\n",
    "Gewichte wie auch die Bias Werte.<br>\n",
    "<br>\n",
    "Wir lesen die Werte der Layer in die Variablen input1, input2 und input3<br>\n",
    "aus. Die Layer haben dabei die Indizes 0-2."
   ]
  },
  {
   "cell_type": "code",
   "execution_count": null,
   "metadata": {},
   "outputs": [],
   "source": [
    "# Auslesen der Layer 1-3 in Variablen - Index 0-2\n",
    "input1 = nn2.layers[0]\n",
    "input2 = nn2.layers[1]\n",
    "input3 = nn2.layers[2]"
   ]
  },
  {
   "cell_type": "code",
   "execution_count": null,
   "metadata": {},
   "outputs": [],
   "source": [
    "# Einlesen der Gewichte und Bias Werte aus Layer a h hat den Index 0\n",
    "weights, biases = input1.get_weights()"
   ]
  },
  {
   "cell_type": "code",
   "execution_count": null,
   "metadata": {},
   "outputs": [],
   "source": [
    "# Ausgabe der Gewichte in Layer a\n",
    "weights"
   ]
  },
  {
   "cell_type": "code",
   "execution_count": null,
   "metadata": {},
   "outputs": [],
   "source": [
    "# Aus gabe der Bias Werte in Layer a\n",
    "biases"
   ]
  },
  {
   "cell_type": "markdown",
   "metadata": {},
   "source": [
    "<h2>Auslesen der Werte für Layer b</h2>"
   ]
  },
  {
   "cell_type": "code",
   "execution_count": null,
   "metadata": {},
   "outputs": [],
   "source": [
    "# Einlesen der Gewichte und Bias Werte aus Layer b - hat den Index 1 \n",
    "# und wurde in die Variable input2 ausgelesen\n",
    "weights1, biases1 = input2.get_weights()"
   ]
  },
  {
   "cell_type": "code",
   "execution_count": null,
   "metadata": {},
   "outputs": [],
   "source": [
    "# Ausgabe der Gewichte in Layer b\n",
    "weights1"
   ]
  },
  {
   "cell_type": "code",
   "execution_count": null,
   "metadata": {},
   "outputs": [],
   "source": [
    "# Aus gabe der Bias Werte in Layer b\n",
    "biases1"
   ]
  },
  {
   "cell_type": "markdown",
   "metadata": {},
   "source": [
    "<h2>Auslesen der Werte für Layer c</h2>"
   ]
  },
  {
   "cell_type": "code",
   "execution_count": null,
   "metadata": {},
   "outputs": [],
   "source": [
    "# Einlesen der Gewichte und Bias Werte aus Layer c - hat den Index 2 und\n",
    "# wurde in die Variable input3 ausgelesen\n",
    "weights2, biases2 = input3.get_weights()"
   ]
  },
  {
   "cell_type": "code",
   "execution_count": null,
   "metadata": {},
   "outputs": [],
   "source": [
    "# Ausgabe der Gewichte in Layer c\n",
    "weights2"
   ]
  },
  {
   "cell_type": "code",
   "execution_count": null,
   "metadata": {},
   "outputs": [],
   "source": [
    "# Aus gabe der Bias Werte in Layer b\n",
    "biases2"
   ]
  },
  {
   "cell_type": "code",
   "execution_count": null,
   "metadata": {},
   "outputs": [],
   "source": [
    "print(\"Das sind die Parameter in Layer a: {}\".format(input1.get_weights()))\n"
   ]
  },
  {
   "cell_type": "code",
   "execution_count": null,
   "metadata": {},
   "outputs": [],
   "source": [
    "print(\"Das sind die Parameter in Layer b: {}\".format(input2.get_weights()))"
   ]
  },
  {
   "cell_type": "code",
   "execution_count": null,
   "metadata": {},
   "outputs": [],
   "source": [
    "print(\"Das sind die Parameter in Layer c: {}\".format(input3.get_weights()))"
   ]
  },
  {
   "cell_type": "code",
   "execution_count": null,
   "metadata": {},
   "outputs": [],
   "source": [
    "#\n",
    "# Versuchen Sie einmal in unserer Aufgabe 10 die\n",
    "# Werte des Layers im Modell nn zu ermitteln !\n",
    "#"
   ]
  },
  {
   "cell_type": "markdown",
   "metadata": {},
   "source": [
    "<h2>Aufsetzen eines Neuronalen Netzes nn3 und Überprüfen\n",
    "    der Parameter vor und nach dem Training</h2>"
   ]
  },
  {
   "cell_type": "code",
   "execution_count": null,
   "metadata": {},
   "outputs": [],
   "source": [
    "# Initialisierung des Modells nn3 als Sequential\n",
    "# nn3 = Sequential()\n"
   ]
  },
  {
   "cell_type": "code",
   "execution_count": null,
   "metadata": {},
   "outputs": [],
   "source": [
    "# Hinzufügen der Layer\n",
    "#nn3.add(Dense(units=16, input_dim=1))\n",
    "#nn3.add(Dense(units=8))\n",
    "#nn3.add(Dense(units=1))\n",
    "#\n",
    "# Überprüfen Sie gedanklich einmal die Parameter\n",
    "#\n",
    "\n",
    "\n"
   ]
  },
  {
   "cell_type": "code",
   "execution_count": null,
   "metadata": {},
   "outputs": [],
   "source": [
    "# Überprüfen der Konfiguration\n",
    "# nn3.summary()\n"
   ]
  },
  {
   "cell_type": "code",
   "execution_count": null,
   "metadata": {},
   "outputs": [],
   "source": [
    "# Definieren des optimizers mit einer Lernrate 0.1\n",
    "optimizer_a=tf.keras.optimizers.Adam(0.1)\n",
    "# Kompilieren Sie das Modell\n",
    "nn3.compile(optimizer=optimizer_a, loss='mean_squared_error')"
   ]
  },
  {
   "cell_type": "code",
   "execution_count": null,
   "metadata": {},
   "outputs": [],
   "source": [
    "# Auslesen der Layer\n",
    "nn3.layers"
   ]
  },
  {
   "cell_type": "code",
   "execution_count": null,
   "metadata": {},
   "outputs": [],
   "source": [
    "# Auslesen der Layer 1-3 in Variablen - Index 0-2\n",
    "inp1 = nn3.layers[0]\n",
    "inp2 = nn3.layers[1]\n",
    "inp3 = nn3.layers[2]"
   ]
  },
  {
   "cell_type": "code",
   "execution_count": null,
   "metadata": {},
   "outputs": [],
   "source": [
    "print(\"Das sind die Parameter in Layer 0: {}\".format(inp1.get_weights()))"
   ]
  },
  {
   "cell_type": "markdown",
   "metadata": {},
   "source": [
    "Warum stehen da Werte ? Warum sind die Bias Werte 0 ?"
   ]
  },
  {
   "cell_type": "code",
   "execution_count": null,
   "metadata": {},
   "outputs": [],
   "source": [
    "print(\"Das sind die Parameter in Layer 1: {}\".format(inp2.get_weights()))"
   ]
  },
  {
   "cell_type": "code",
   "execution_count": null,
   "metadata": {},
   "outputs": [],
   "source": [
    "print(\"Das sind die Parameter in Layer 2: {}\".format(inp3.get_weights()))"
   ]
  },
  {
   "cell_type": "code",
   "execution_count": null,
   "metadata": {},
   "outputs": [],
   "source": [
    "# Trainieren Sie das Modell nn2 mit 800 epochs\n",
    "epoch_num = #Wert#\n",
    "history = nn3.fit(celsius_i,fahrenheit_o,epochs=epoch_num, verbose=1 )\n",
    "print(\"Das Training ist beendet\")"
   ]
  },
  {
   "cell_type": "code",
   "execution_count": null,
   "metadata": {},
   "outputs": [],
   "source": [
    "# Graphische Darstellung der Ergebnisentwicklung\n",
    "plt.xlabel('Epoch Number')\n",
    "plt.ylabel(\"Loss Magnitude\")\n",
    "plt.plot(history.history['loss'])"
   ]
  },
  {
   "cell_type": "code",
   "execution_count": null,
   "metadata": {},
   "outputs": [],
   "source": [
    "# Vorhersage für den Wert 100.0\n",
    "ergebnis = nn3.predict([#Wert#])\n",
    "print(ergebnis)"
   ]
  },
  {
   "cell_type": "code",
   "execution_count": null,
   "metadata": {},
   "outputs": [],
   "source": [
    "#\n",
    "# Versuchen Sie einmal die Parameter der Layer des Modells nn3 jetzt nach dem Training\n",
    "# auszugeben !\n",
    "#\n",
    "i1 = nn3.layers[0]\n",
    "i2 = nn3.layers[1]\n",
    "i3 = nn3.layers[2]"
   ]
  },
  {
   "cell_type": "code",
   "execution_count": null,
   "metadata": {},
   "outputs": [],
   "source": [
    "print(\"Das sind die Parameter in Layer 2 nach dem Training: {}\".format(i3.get_weights()))"
   ]
  },
  {
   "cell_type": "code",
   "execution_count": null,
   "metadata": {},
   "outputs": [],
   "source": [
    "#\n",
    "# Wie hat sich der Bias Wert nach dem Training verändert ?\n",
    "#"
   ]
  },
  {
   "cell_type": "markdown",
   "metadata": {},
   "source": [
    "<h3 style=\"color:orange; font-weight:bold;\">Auch dieses Neuronale Netz ermittelt sehr\n",
    "gute Vorhersagewerte. <br>Jetzt ist aber der eigentliche funktionale Zusammenhang<br>\n",
    "nicht mehr erkennbar.</h3>"
   ]
  },
  {
   "cell_type": "code",
   "execution_count": null,
   "metadata": {},
   "outputs": [],
   "source": []
  }
 ],
 "metadata": {
  "kernelspec": {
   "display_name": "Python 3",
   "language": "python",
   "name": "python3"
  },
  "language_info": {
   "codemirror_mode": {
    "name": "ipython",
    "version": 3
   },
   "file_extension": ".py",
   "mimetype": "text/x-python",
   "name": "python",
   "nbconvert_exporter": "python",
   "pygments_lexer": "ipython3",
   "version": "3.7.3"
  }
 },
 "nbformat": 4,
 "nbformat_minor": 4
}
