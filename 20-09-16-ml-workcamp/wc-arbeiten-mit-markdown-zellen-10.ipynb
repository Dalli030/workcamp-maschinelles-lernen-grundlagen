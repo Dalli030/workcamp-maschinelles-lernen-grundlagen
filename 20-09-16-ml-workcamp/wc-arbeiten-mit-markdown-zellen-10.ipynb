{
 "cells": [
  {
   "cell_type": "markdown",
   "metadata": {},
   "source": [
    "<h2>Arbeiten mit Markdown Zellen</h2>"
   ]
  },
  {
   "cell_type": "markdown",
   "metadata": {},
   "source": [
    "Markdown-Zellen: Markdown ist eine vereinfachte Auszeichnungssprache, die bereits in der Ausgangsform ohne weitere Konvertierung leicht lesbar ist. Sie können in Markdown sehr leicht folgenden strukturierten Text erstellen:\n",
    "\n",
    "    Überschirften: Rautesymbol(e) vor der Überschrift\n",
    "\n",
    "    Listen: mit Minus- oder Pluszeichen\n",
    "\n",
    "    Links: z. B. ETW, Syntax [Name](URL)\n",
    "\n",
    "    Bilder: mit Syntax ![Name](Pfad-zu-Bilddatei)\n",
    "\n",
    "    Mathematische Formeln via LaTeX, z. B.\n"
   ]
  },
  {
   "cell_type": "markdown",
   "metadata": {},
   "source": [
    "# Beispiel"
   ]
  },
  {
   "cell_type": "markdown",
   "metadata": {},
   "source": [
    "## Beispiel"
   ]
  },
  {
   "cell_type": "markdown",
   "metadata": {},
   "source": [
    "### Beispiel"
   ]
  },
  {
   "cell_type": "markdown",
   "metadata": {},
   "source": [
    "1. Top 1\n",
    "1. Top 2\n",
    "1. Top 3"
   ]
  },
  {
   "cell_type": "markdown",
   "metadata": {},
   "source": [
    "- Listenpunkt 1\n",
    "- Listenpunkt 2\n",
    "- Listenpunkt 3"
   ]
  },
  {
   "cell_type": "markdown",
   "metadata": {},
   "source": [
    "+ Liste 1\n",
    "+ Liste 2"
   ]
  },
  {
   "cell_type": "markdown",
   "metadata": {},
   "source": [
    "Einbau eines Links:"
   ]
  },
  {
   "cell_type": "markdown",
   "metadata": {},
   "source": [
    "[IHK](https://www.stuttgart.ihk.de)"
   ]
  },
  {
   "cell_type": "markdown",
   "metadata": {},
   "source": [
    "Einbinden von Bildern:\n"
   ]
  },
  {
   "cell_type": "markdown",
   "metadata": {},
   "source": [
    "![IHK](https://www.stuttgart.ihk24.de/blueprint/servlet/resource/crblob/669190/ac31b266a51f16fae0e5896d8eed56f5/logo-handelskammer-png-data.png)"
   ]
  },
  {
   "cell_type": "markdown",
   "metadata": {},
   "source": [
    "Dies ist eine Formel $\\frac{sin(x)}{cos(x)}$ im Textfluß, die in einfachen $ eingeschlossen wird."
   ]
  },
  {
   "cell_type": "markdown",
   "metadata": {},
   "source": [
    "$\\sum \\limits_{i=1}^n i = \\frac{n(n+1)}{2}\\$"
   ]
  },
  {
   "cell_type": "markdown",
   "metadata": {},
   "source": [
    "$\\int_a^b{ax^2}$"
   ]
  },
  {
   "cell_type": "markdown",
   "metadata": {},
   "source": [
    "$e^x=\\sum_{i=0}^\\infty \\frac{1}{i!}x^i$"
   ]
  },
  {
   "cell_type": "markdown",
   "metadata": {},
   "source": [
    "In den folgenden Zeile im Markdown-Format werden die LaTeX-Befehle in doppelten $ eingeschlossen"
   ]
  },
  {
   "cell_type": "markdown",
   "metadata": {},
   "source": [
    "$$\\lim_{a\\to\\infty}{ax^2}$$"
   ]
  },
  {
   "cell_type": "markdown",
   "metadata": {},
   "source": [
    "und werden deshalb alleinstehend in einer Zeile mittig angezeigt."
   ]
  },
  {
   "cell_type": "code",
   "execution_count": null,
   "metadata": {},
   "outputs": [],
   "source": []
  }
 ],
 "metadata": {
  "kernelspec": {
   "display_name": "Python 3",
   "language": "python",
   "name": "python3"
  },
  "language_info": {
   "codemirror_mode": {
    "name": "ipython",
    "version": 3
   },
   "file_extension": ".py",
   "mimetype": "text/x-python",
   "name": "python",
   "nbconvert_exporter": "python",
   "pygments_lexer": "ipython3",
   "version": "3.7.3"
  }
 },
 "nbformat": 4,
 "nbformat_minor": 4
}
