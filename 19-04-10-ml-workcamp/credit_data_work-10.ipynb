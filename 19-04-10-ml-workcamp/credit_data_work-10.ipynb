{
 "cells": [
  {
   "cell_type": "markdown",
   "metadata": {},
   "source": [
    "---\n",
    "# Beispiel Credit Data - Aufgabe - Klassifikation: \n",
    "### AI, Machine Learning & Data Science \n",
    "**Author list:** Ramon Rank\n",
    "___"
   ]
  },
  {
   "cell_type": "markdown",
   "metadata": {},
   "source": [
    "Die in KNIME durchgeführte Klassifikation der Kreditdaten soll mit Python umgesetzt werden.\n",
    "Die Zellen für die Klassifikation sind bereits vorbereitet.\n",
    "Sie müssen die vorbereitenden Schritte ausarbeiten, soll heißen das Preprocessing durchführen. <br>\n",
    "Hierzu die Daten credit_data.csv von github in ein directory /data oder direkt in das Arbeitsdirectory laden <br>\n"
   ]
  },
  {
   "cell_type": "markdown",
   "metadata": {},
   "source": [
    "<h1>Schritt: Bibliotheken laden - Plotting vorbereiten - Warnings unterdrücken - Inhalt eines Directories ausgeben</h1>"
   ]
  },
  {
   "cell_type": "markdown",
   "metadata": {},
   "source": [
    "Vorbereitend benötigen wir einige Bibliotheken die wir mit alias Namen laden:<br>\n",
    "<b>import numpy as np <br>\n",
    "import pandas as pd </b><br>\n",
    "\n",
    "<b>import seaborn as sns <br>\n",
    "from matplotlib import pyplot as plt </b><br>\n",
    "\n",
    "Fügen Sie in die nächste Zelle den obigen Code ein.<br>"
   ]
  },
  {
   "cell_type": "code",
   "execution_count": null,
   "metadata": {},
   "outputs": [],
   "source": [
    "# hier Ihren Code einfügen und aufüühren\n"
   ]
  },
  {
   "cell_type": "markdown",
   "metadata": {},
   "source": [
    "https://seaborn.pydata.org/tutorial/aesthetics.html <br>\n",
    "Es gibt fünf voreingestellte Seaborn-Themen: darkgrid, whitegrid, dark, white, and ticks <br>\n",
    "\n",
    "Fügen Sie in folgende Zelle den Code <br>\n",
    "<b>sns.set_style(\"whitegrid\") </b><br>ein"
   ]
  },
  {
   "cell_type": "code",
   "execution_count": null,
   "metadata": {},
   "outputs": [],
   "source": [
    "# hier Ihren Code einfügen und ausführen\n",
    "\n"
   ]
  },
  {
   "cell_type": "markdown",
   "metadata": {},
   "source": [
    "Warum sollte man <b>%matplotlib inline</b> ausführen ? Recherchieren Sie !<br>\n",
    "Fügen Sie<br>\n",
    "<b>%matplotlib inline</b> <br>\n",
    "in die nächste Zelle ein und führen Sie aus\n"
   ]
  },
  {
   "cell_type": "code",
   "execution_count": null,
   "metadata": {},
   "outputs": [],
   "source": [
    "# hier Ihren Code einfügen und ausführen\n"
   ]
  },
  {
   "cell_type": "markdown",
   "metadata": {},
   "source": [
    "Warum sollte warnings importiert werden ? <br>\n",
    "https://docs.python.org/3/library/warnings.html <br>\n",
    "\n",
    "Fügen Sie in die nächste Zelle den Code:<br>\n",
    "<b>import warnings <br>\n",
    "warnings.filterwarnings(\"ignore\") </b><br>\n",
    "ein.\n",
    "\n"
   ]
  },
  {
   "cell_type": "code",
   "execution_count": null,
   "metadata": {},
   "outputs": [],
   "source": [
    "# hier Ihren Code einfügen und ausführen\n"
   ]
  },
  {
   "cell_type": "markdown",
   "metadata": {},
   "source": [
    "Zum Lesen eines directories benötigen wir die Bibliothek os <br>\n",
    "\n",
    "mit <br>\n",
    "import os <br>\n",
    "wird die Bibliothek geladen <br>\n",
    "\n",
    "os.listdir(\"./data) liest dann das directory data aus <br>\n",
    "\n",
    "Das data directory muss ein Unterordner des aktuellen directories sein\n",
    "z.B.:<br>\n",
    "/aktuell <br>\n",
    "/aktuell/data <br>\n",
    "\n",
    "Geben Sie in die nächste Zelle den Code:<br>\n",
    "<b>import os <br>\n",
    "print(os.listdir(\"./data\")) </b><br>\n",
    "ein. </b>\n",
    "\n"
   ]
  },
  {
   "cell_type": "code",
   "execution_count": null,
   "metadata": {},
   "outputs": [],
   "source": [
    "# hier Ihren Code einfügen und ausführen\n",
    "import os \n",
    "print(os.listdir(\"./data\"))"
   ]
  },
  {
   "cell_type": "markdown",
   "metadata": {},
   "source": [
    "<h1>Schritt: Einlesen der Daten als Panda Dataframe</h1>"
   ]
  },
  {
   "cell_type": "markdown",
   "metadata": {},
   "source": [
    "Die Daten liegen im directory /data <br>\n",
    "Zum Einlesen von csv Daten wird der Befehl pd.read_csv(\"\") verwendet<br>\n",
    "https://pandas.pydata.org/pandas-docs/stable/reference/api/pandas.read_csv.html <br>\n",
    "\n",
    "Sollen Daten aus dem gleichen directory eingelesen werden dann: <br>\n",
    "pd.read_csv(\"credit_data.csv\") <br>\n",
    "sonst muss der relative Pfad angegeben werden:\n",
    "pd.read_csv(\"./data/credit_data.csv\") <br>\n",
    "\n",
    "Achtung Linux: statt / bitte \\ verwenden.\n",
    "\n",
    "Geben Sie in die nächste Zelle den Code:<br>\n",
    "<b>training = pd.read_csv(\"./data/credit_data.csv\") </b><br>\n",
    "ein und führen Sie die Zelle aus </b>"
   ]
  },
  {
   "cell_type": "code",
   "execution_count": null,
   "metadata": {},
   "outputs": [],
   "source": [
    "# hier Ihren Code einfügen und ausführen\n",
    "\n",
    "\n",
    "# Wenn Sie keine Fehlermeldung erhalten haben, wurde die Datei erfolgreich geladen\n",
    "# die Daten wurden dann in die Variable training als panda Dataframe geladen"
   ]
  },
  {
   "cell_type": "markdown",
   "metadata": {},
   "source": [
    "<h1>Schritt: Exploration der Daten</h1>"
   ]
  },
  {
   "cell_type": "markdown",
   "metadata": {},
   "source": [
    "Zu allererst sollte man sich die Daten einmal anschauen <br>\n",
    "\n",
    "shape, head(), tail(), describe() sind gute Möglichkeiten, sich einen Überblick zu verschaffen <br>\n",
    "\n",
    "Geben Sie in die nächste Zelle den Code:<br>\n",
    "<b>training.shape</b><br>\n",
    "ein und führen Sie die Zelle aus </b>"
   ]
  },
  {
   "cell_type": "code",
   "execution_count": null,
   "metadata": {},
   "outputs": [],
   "source": [
    "# hier Ihren Code einfügen und ausführen\n"
   ]
  },
  {
   "cell_type": "markdown",
   "metadata": {},
   "source": [
    "Geben Sie in die nächste Zelle den Code:<br>\n",
    "<b>training.head()</b><br>\n",
    "ein und führen Sie die Zelle aus </b>"
   ]
  },
  {
   "cell_type": "code",
   "execution_count": null,
   "metadata": {},
   "outputs": [],
   "source": [
    "# hier Ihren Code einfügen und ausführen\n"
   ]
  },
  {
   "cell_type": "markdown",
   "metadata": {},
   "source": [
    "Geben Sie in die nächste Zelle den Code:<br>\n",
    "<b>training.tail()</b><br>\n",
    "ein und führen Sie die Zelle aus </b>"
   ]
  },
  {
   "cell_type": "code",
   "execution_count": null,
   "metadata": {},
   "outputs": [],
   "source": [
    "# hier Ihren Code einfügen und ausführen\n",
    "\n",
    "# Erkennen Sie den Unterschied zu training.head() ? <br>\n",
    "# Geben Sie einfach in training.head() oder training.tail() mal eine Zahl ein. zB. traing.tail(25)"
   ]
  },
  {
   "cell_type": "markdown",
   "metadata": {},
   "source": [
    "Wenden Sie doch einige Übungen aus dem panda Notebook /grundlagen auf diesen Dataframe in der Variablen training zur Übung an."
   ]
  },
  {
   "cell_type": "code",
   "execution_count": null,
   "metadata": {},
   "outputs": [],
   "source": [
    "# Speichern Sie die Daten aus der Spalte CLAGE des Dataframes training in der Variablen spalte1\n",
    "\n",
    "\n"
   ]
  },
  {
   "cell_type": "code",
   "execution_count": null,
   "metadata": {},
   "outputs": [],
   "source": [
    "# Weitere Übungen\n",
    "\n",
    "\n"
   ]
  },
  {
   "cell_type": "markdown",
   "metadata": {},
   "source": [
    "<h1><b>Sehr schön gelöst !</b></h1>"
   ]
  },
  {
   "cell_type": "markdown",
   "metadata": {},
   "source": [
    "Im nächsten Schritt werden wir das Preprocessing durchführen <br>"
   ]
  },
  {
   "cell_type": "code",
   "execution_count": null,
   "metadata": {},
   "outputs": [],
   "source": []
  }
 ],
 "metadata": {
  "kernelspec": {
   "display_name": "Python 3",
   "language": "python",
   "name": "python3"
  },
  "language_info": {
   "codemirror_mode": {
    "name": "ipython",
    "version": 3
   },
   "file_extension": ".py",
   "mimetype": "text/x-python",
   "name": "python",
   "nbconvert_exporter": "python",
   "pygments_lexer": "ipython3",
   "version": "3.6.8"
  }
 },
 "nbformat": 4,
 "nbformat_minor": 2
}
