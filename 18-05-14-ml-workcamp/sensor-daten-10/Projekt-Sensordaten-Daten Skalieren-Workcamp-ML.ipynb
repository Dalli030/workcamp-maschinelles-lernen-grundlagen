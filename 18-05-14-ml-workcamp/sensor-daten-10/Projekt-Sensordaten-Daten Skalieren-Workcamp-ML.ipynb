{
 "cells": [
  {
   "cell_type": "markdown",
   "metadata": {},
   "source": [
    "<h1>WorkCamp # Maschinelles Lernen - ## Grundlagen - ###2018</h1>"
   ]
  },
  {
   "cell_type": "markdown",
   "metadata": {},
   "source": [
    "<h2>Praktische Übung</h2>"
   ]
  },
  {
   "cell_type": "markdown",
   "metadata": {},
   "source": [
    "<h3>Beispiel xx # Arbeiten mit Sensordaten ## Einlesen und Skalierung von Daten</h3>"
   ]
  },
  {
   "cell_type": "markdown",
   "metadata": {},
   "source": [
    "Problemstellung:<br>\n",
    "In diesem Jupyter Notebook , werden Sie in einer Fallstudie die Aufbereitung von Daten durch Skalierung, Normalisierung, Skalenänderung und Binärisierung kennenlernen. Dies ist für einige Algorithmen für Maschinelles Lernen notwendig.\n",
    "Nach Abschluss dieses Notebooks sollten Sie wissen:\n",
    "<ul>\n",
    "<li>Wie man ein Vorhersagemodellierungsproblem auf Basis einer Fragestelluung zur Classiﬁcation durchgehend abarbeitet.\n",
    "<li>Wie man bisher unbekannte Daten in panda DataFrames lädt: (csv, xlsx, xls, xml, json, hdf5 etc.).\n",
    "<li>Wie man unbekannte Daten mit einer deskriptiven Statistik in python analysiert.\n",
    "<li>Wie man unbekannte Daten mit python Bibliotheken visualisiert.\n",
    "<li>Wie man erzeugte Plots, speichert und dokumentiert.\n",
    "<li>Wie man Datentransformationen verwendet, um die Performance des Modells zu verbessern, zum Beispiel Normalisierung oder Standardisierung.\n",
    "<li>Wie man Algorithmus-, oder Hyperparameter-Tuning verwendet, um die Modell-Leistung zu verbessern.\n",
    "<li>Wie man Ensemble-Methoden verwendet und eine Abstimmung der Parameter zur Verbesserung der Modell-Performance durchführt.\n",
    "<li>Wie man die Kreuz-Validierung zur Beurteilung der Performance von ML-Algorithmen einsetzt.\n",
    "<li> Auf welcher Basis eine Beurteilung der verwendetn Classification Algorithmen stattfindet. (Classification Matrix, Confusion Matrix)\n",
    "</ul>\n",
    "Die Module und Bibliotheken stehen alle in der <b>Anaconda scikit-learn</b> Umgebung zum Maschinellen Lernen direkt zur Verfügung.<br>\n",
    "<b>Arbeiten mit Zeitreihen:</b><br>\n",
    "Insbesondere beim arbeiten mit Zeitreihen (timeseries) wird, falls notwendig, statsmodels und dessen Klassen, Bibliotheken und Module nachgeladen.<br>\n",
    "<b>Tipp:</b><br>\n",
    "<b>Falls in Ihrer Version statsmodels nicht vorhanden ist, mit: !pip install statsmodels in einer Jupyter Zelle\n",
    "nachinstallieren.</b><br>\n",
    "Informationen zu statsmodels finden Sie hier: http://www.statsmodels.org/<br>"
   ]
  },
  {
   "cell_type": "code",
   "execution_count": null,
   "metadata": {
    "collapsed": true
   },
   "outputs": [],
   "source": []
  },
  {
   "cell_type": "markdown",
   "metadata": {},
   "source": [
    "########Eventuell Strukturbild einbauen ########"
   ]
  },
  {
   "cell_type": "markdown",
   "metadata": {},
   "source": [
    "########Evtl. nochmals Vorgehen als Ablaufmodell#########"
   ]
  },
  {
   "cell_type": "code",
   "execution_count": 1,
   "metadata": {
    "collapsed": true
   },
   "outputs": [],
   "source": [
    "# Laden der entsprechenden Module (kann etwas dauern !)\n",
    "# Wir laden die Module offen, damit man einmal sieht, was da alles benötigt wird\n",
    "# Allerdings aufpassen, dann werden die Module anderst angesprochen wie beim Standard\n",
    "# zum Beispiel pyplot und nicht plt\n",
    "from matplotlib import pyplot\n",
    "pyplot.rcParams[\"figure.figsize\"] = (15,12)\n",
    "%matplotlib inline\n",
    "import numpy as np #wird allerdings nicht benötigt\n",
    "from pandas import read_csv\n",
    "from pandas import set_option\n",
    "from pandas.plotting import scatter_matrix\n",
    "from sklearn.preprocessing import StandardScaler\n",
    "from sklearn.model_selection import train_test_split\n",
    "from sklearn.model_selection import KFold\n",
    "from sklearn.model_selection import cross_val_score\n",
    "from sklearn.model_selection import GridSearchCV\n",
    "from sklearn.metrics import classification_report\n",
    "from sklearn.metrics import confusion_matrix\n",
    "from sklearn.metrics import accuracy_score\n",
    "from sklearn.pipeline import Pipeline\n",
    "from sklearn.linear_model import LogisticRegression\n",
    "from sklearn.tree import DecisionTreeClassifier\n",
    "from sklearn.neighbors import KNeighborsClassifier\n",
    "from sklearn.discriminant_analysis import LinearDiscriminantAnalysis\n",
    "from sklearn.naive_bayes import GaussianNB\n",
    "from sklearn.svm import SVC\n",
    "from sklearn.ensemble import AdaBoostClassifier\n",
    "from sklearn.ensemble import GradientBoostingClassifier\n",
    "from sklearn.ensemble import RandomForestClassifier\n",
    "from sklearn.ensemble import ExtraTreesClassifier"
   ]
  },
  {
   "cell_type": "markdown",
   "metadata": {},
   "source": [
    "Problem Beschreibung:<br>\n",
    "Der Fokus dieses Projektes liegt auf dem Datensatz \"sensordaten-10.csv\". Das Problem ist die Vorhersage von guten und schlechten Werkstücken aus den 10 Sensordaten. Jedes Muster ist ein Satz von 10 Zahlen. Die Sensoren decken unterschiedliche Wertebereiche ab.Das Label, das jeder Datenreihe zugeordnet ist, enthält 0 oder 1. Wenn das Werkstück die Beurteilung gut hat steht eine 1 in der Spalte Label, sonst eine 0.<br>\n",
    "<b>Aufgabe:</b><br>\n",
    "Laden Sie die Daten und verschaffen Sie sich einen ersten Überblick<br>\n"
   ]
  },
  {
   "cell_type": "code",
   "execution_count": 2,
   "metadata": {
    "collapsed": true,
    "scrolled": true
   },
   "outputs": [],
   "source": [
    "#Laden der Daten [12100 Datensätze mit 10 Sensoren und einer Spalte Label (12100x11)Matrix]\n",
    "url = 'sensordaten-10.csv'\n",
    "datensatz = read_csv(url, sep=';', header=0)"
   ]
  },
  {
   "cell_type": "markdown",
   "metadata": {},
   "source": [
    "<h3>Beschreibende Statistik</h3>"
   ]
  },
  {
   "cell_type": "code",
   "execution_count": 3,
   "metadata": {},
   "outputs": [
    {
     "name": "stdout",
     "output_type": "stream",
     "text": [
      "(12100, 11)\n"
     ]
    }
   ],
   "source": [
    "# Ausgabe df.shape\n",
    "print(datensatz.shape)"
   ]
  },
  {
   "cell_type": "code",
   "execution_count": 4,
   "metadata": {},
   "outputs": [
    {
     "name": "stdout",
     "output_type": "stream",
     "text": [
      "Sens-1     float64\n",
      "Sens-2     float64\n",
      "Sens-3     float64\n",
      "Sens-4     float64\n",
      "Sens-5     float64\n",
      "Sens-6     float64\n",
      "Sens-7     float64\n",
      "Sens-8     float64\n",
      "Sens-9     float64\n",
      "Sens-10    float64\n",
      "Label        int64\n",
      "dtype: object\n"
     ]
    }
   ],
   "source": [
    "# Ausgabe df.dtypes\n",
    "# Spalte enthält die Classifikation R oder M\n",
    "set_option('display.max_rows', 50)\n",
    "print(datensatz.dtypes)"
   ]
  },
  {
   "cell_type": "code",
   "execution_count": 5,
   "metadata": {},
   "outputs": [
    {
     "name": "stdout",
     "output_type": "stream",
     "text": [
      "    Sens-1  Sens-2  Sens-3  Sens-4  Sens-5  Sens-6  Sens-7  Sens-8  Sens-9  Sens-10  Label\n",
      "0    15.31   25.31   75.31  109.23   63.07    0.65  159.60   23.69   41.53    59.21      1\n",
      "1    16.76   26.76   76.76  115.05   77.62    1.38  181.44   47.48   77.22   118.70      1\n",
      "2    18.62   28.62   78.62  122.48   96.20    2.31  209.29   46.78   76.16   116.94      1\n",
      "3    18.52   28.52   78.52  122.08   95.21    2.26  207.82   41.68   68.52   104.20      1\n",
      "4    18.93   28.93   78.93  123.74   99.34    2.47  214.01   34.61   57.92    86.54      1\n",
      "5    17.28   27.28   77.28  117.12   82.81    1.64  189.21   46.71   76.07   116.78      1\n",
      "6    18.09   28.09   78.09  120.35   90.88    2.04  201.31   42.68   70.02   106.71      1\n",
      "7    19.00   29.00   79.00  124.00  100.00    2.50  215.00   31.19   52.78    77.96      1\n",
      "8    17.78   27.78   77.78  119.11   87.79    1.89  196.68   43.80   71.71   109.51      0\n",
      "9    17.83   27.83   77.83  119.31   88.27    1.91  197.40   47.71   77.57   119.28      1\n",
      "10   16.53   26.53   76.53  114.11   75.26    1.26  177.89   60.44   96.66   151.09      0\n",
      "11   19.23   29.23   79.23  124.90  102.26    2.61  218.39   55.07   88.60   137.67      1\n",
      "12   17.33   27.33   77.33  117.30   83.25    1.66  189.88   49.71   80.57   124.28      1\n",
      "13   16.86   26.86   76.86  115.45   78.62    1.43  182.92   38.00   63.00    94.99      1\n",
      "14   19.18   29.18   79.18  124.72  101.79    2.59  217.68   42.50   69.75   106.26      1\n",
      "15   17.10   27.10   77.10  116.41   81.02    1.55  186.53   49.83   80.75   124.58      0\n",
      "16   19.37   29.37   79.37  125.49  103.73    2.69  220.59   39.42   65.13    98.55      1\n",
      "17   17.47   27.47   77.47  117.87   84.67    1.73  192.01   44.87   73.30   112.16      1\n",
      "18   17.83   27.83   77.83  119.32   88.30    1.91  197.44   45.00   73.50   112.50      1\n",
      "19   18.46   28.46   78.46  121.85   94.62    2.23  206.93   29.64   50.45    74.09      1\n"
     ]
    }
   ],
   "source": [
    "# Ausgabe df.head mit vergösserter display width\n",
    "set_option('display.width', 100)\n",
    "print(datensatz.head(20))"
   ]
  },
  {
   "cell_type": "code",
   "execution_count": 6,
   "metadata": {},
   "outputs": [
    {
     "name": "stdout",
     "output_type": "stream",
     "text": [
      "           Sens-1      Sens-2      Sens-3      Sens-4      Sens-5      Sens-6      Sens-7  \\\n",
      "count  12100.0000  12100.0000  12100.0000  12100.0000  12100.0000  12100.0000  12100.0000   \n",
      "mean      18.0005     28.0005     78.0005    120.0021     90.0052      2.0006    200.0078   \n",
      "std        1.0067      1.0067      1.0067      4.0267     10.0667      0.5028     15.1000   \n",
      "min       13.9900     23.9900     73.9900    103.9600     49.9100      0.1300    139.8600   \n",
      "25%       17.3100     27.3100     77.3100    117.2400     83.1100      1.6600    189.6600   \n",
      "50%       18.0000     28.0000     78.0000    119.9900     89.9800      2.0000    199.9650   \n",
      "75%       18.6700     28.6700     78.6700    122.6800     96.7100      2.3400    210.0600   \n",
      "max       21.7400     31.7400     81.7400    134.9700    127.4200      3.8700    256.1200   \n",
      "\n",
      "           Sens-8      Sens-9     Sens-10       Label  \n",
      "count  12100.0000  12100.0000  12100.0000  12100.0000  \n",
      "mean      44.0383     72.0574    110.0942      0.9230  \n",
      "std        7.9944     11.9916     19.9872      0.2666  \n",
      "min       11.9300     23.8900     29.8100      0.0000  \n",
      "25%       38.7900     64.1875     96.9700      1.0000  \n",
      "50%       44.0400     72.0600    110.0950      1.0000  \n",
      "75%       49.3300     80.0000    123.3300      1.0000  \n",
      "max       86.9200    136.3700    217.2900      1.0000  \n"
     ]
    }
   ],
   "source": [
    "# Ausgabe df.describe() mit 4 Nachkomma Stellen\n",
    "set_option('precision', 4)\n",
    "print(datensatz.describe())"
   ]
  },
  {
   "cell_type": "code",
   "execution_count": 7,
   "metadata": {},
   "outputs": [
    {
     "name": "stdout",
     "output_type": "stream",
     "text": [
      "Label\n",
      "0      932\n",
      "1    11168\n",
      "dtype: int64\n"
     ]
    }
   ],
   "source": [
    "# Ausgabe der Klassen Verteilung in der Spalte 60\n",
    "print(datensatz.groupby('Label').size())\n"
   ]
  },
  {
   "cell_type": "markdown",
   "metadata": {},
   "source": [
    "<h3>Visualisierung der Daten</h3>"
   ]
  },
  {
   "cell_type": "code",
   "execution_count": 8,
   "metadata": {},
   "outputs": [
    {
     "data": {
      "image/png": "[encoded data removed]",
      "text/plain": [
       "<matplotlib.figure.Figure at 0xe910358>"
      ]
     },
     "metadata": {},
     "output_type": "display_data"
    }
   ],
   "source": [
    "# Ausgabe Histogramm\n",
    "pyplot.rcParams[\"figure.figsize\"] = (15,12)\n",
    "datensatz.hist()\n",
    "pyplot.show()"
   ]
  },
  {
   "cell_type": "markdown",
   "metadata": {},
   "source": [
    "<h3>Standardisierung der Daten</h3>"
   ]
  },
  {
   "cell_type": "markdown",
   "metadata": {},
   "source": [
    "Standardisierung ist eine nützliche Technik, um Attribute mit einer beliebigen Gauss-Normalverteilung N( , ) in eine Standard-Gaußsche Verteilung N(0,1) mit einem Mittelwert von 0 und einer Standardabweichung von 1 zu transformieren. Die Standardisierung ist am besten geeignet für Algorithmen, die eine Gaußsche Verteilung in den Eingangsvariablen annehmen und besser mit skalierten Daten arbeiten, wie z.B. Lineare Regression, Logistische Regression und Lineare Diskriminanzanalyse. Wir können Daten mit scikit-learn mit der StandardScaler-Klasse standardisieren."
   ]
  },
  {
   "cell_type": "code",
   "execution_count": 27,
   "metadata": {},
   "outputs": [
    {
     "name": "stdout",
     "output_type": "stream",
     "text": [
      "[[-2.673 -2.673 -2.673 -2.675 -2.676 -2.686 -2.676 -2.545 -2.546 -2.546]\n",
      " [-1.232 -1.232 -1.232 -1.23  -1.23  -1.234 -1.23   0.431  0.431  0.431]\n",
      " [ 0.615  0.615  0.615  0.615  0.615  0.615  0.615  0.343  0.342  0.343]\n",
      " [ 0.516  0.516  0.516  0.516  0.517  0.516  0.517 -0.295 -0.295 -0.295]\n",
      " [ 0.923  0.923  0.923  0.928  0.927  0.934  0.927 -1.179 -1.179 -1.179]\n",
      " [-0.716 -0.716 -0.716 -0.716 -0.715 -0.717 -0.715  0.334  0.335  0.335]\n",
      " [ 0.089  0.089  0.089  0.086  0.087  0.078  0.086 -0.17  -0.17  -0.169]\n",
      " [ 0.993  0.993  0.993  0.993  0.993  0.993  0.993 -1.607 -1.608 -1.608]\n",
      " [-0.219 -0.219 -0.219 -0.222 -0.22  -0.22  -0.22  -0.03  -0.029 -0.029]\n",
      " [-0.169 -0.169 -0.169 -0.172 -0.172 -0.18  -0.173  0.459  0.46   0.46 ]]\n"
     ]
    }
   ],
   "source": [
    "# Standardisierung der Daten (Mittelwert = 0 , Standardabweichung = 1)\n",
    "# mit from sklearn.preprocessing import StandardScaler wurde die Klasse in Zelle 1 bereits geladen\n",
    "#Laden des Moduls set_printoptions\n",
    "from numpy import set_printoptions\n",
    "# Übergabe der Werte in datensatz an ein array\n",
    "array = datensatz.values\n",
    "# Aufteilen des arrays in abhängige Variable Y und unabhängige Variable X\n",
    "X = array[:,0:10]\n",
    "Y = array[:,10]\n",
    "scaler = StandardScaler().fit(X)\n",
    "rescaledX = scaler.transform(X)\n",
    "# Ausgabe einer Kurzfassung der Daten 0:10\n",
    "set_printoptions(precision=3)\n",
    "print(rescaledX[0:10,:])"
   ]
  },
  {
   "cell_type": "markdown",
   "metadata": {},
   "source": [
    "<h3>Normalisierung der Daten</h3>"
   ]
  },
  {
   "cell_type": "markdown",
   "metadata": {},
   "source": [
    "Die Normalisierung in scikit-learn bezieht sich auf die Skalierung jeder Beobachtung (Zeile) auf eine Länge von 1 (eine Einheitsnorm oder ein Vektor mit der Länge von 1 in der linearen Algebra). Diese Vorverarbeitungsmethode kann für spärliche Datensätze (viele Nullen) mit Attributen unterschiedlicher Größenordnung nützlich sein, wenn Algorithmen verwendet werden, die Eingabewerte gewichten, wie Neuronale Netze und Algorithmen mit Entfernungsmessungen wie k-Nearest Neighbors. Wir können Daten in Python in scikit-learn mit der Normalizer class normalisieren."
   ]
  },
  {
   "cell_type": "code",
   "execution_count": 29,
   "metadata": {},
   "outputs": [
    {
     "name": "stdout",
     "output_type": "stream",
     "text": [
      "[[ 0.066  0.109  0.325  0.471  0.272  0.003  0.689  0.102  0.179  0.255]\n",
      " [ 0.059  0.094  0.269  0.403  0.272  0.005  0.636  0.166  0.271  0.416]\n",
      " [ 0.06   0.092  0.252  0.393  0.309  0.007  0.672  0.15   0.244  0.375]\n",
      " [ 0.061  0.094  0.259  0.403  0.314  0.007  0.686  0.138  0.226  0.344]\n",
      " [ 0.063  0.096  0.262  0.411  0.33   0.008  0.712  0.115  0.193  0.288]\n",
      " [ 0.059  0.094  0.265  0.402  0.284  0.006  0.649  0.16   0.261  0.401]\n",
      " [ 0.061  0.094  0.262  0.404  0.305  0.007  0.676  0.143  0.235  0.359]\n",
      " [ 0.064  0.097  0.265  0.416  0.335  0.008  0.721  0.105  0.177  0.261]\n",
      " [ 0.06   0.094  0.264  0.404  0.298  0.006  0.668  0.149  0.243  0.372]\n",
      " [ 0.059  0.092  0.258  0.396  0.293  0.006  0.656  0.158  0.258  0.396]]\n"
     ]
    }
   ],
   "source": [
    "# Normalisierung der Daten (Vektorlänge 1)\n",
    "# Laden des Moduls Normalizer\n",
    "from sklearn.preprocessing import Normalizer\n",
    "#Übergabe der Werte in datensatz an ein array2\n",
    "array2 = datensatz.values\n",
    "# Aufteilen des arrays in abhängige Variable Y und unabhängige Variable X\n",
    "X = array2[:,0:10]\n",
    "Y = array2[:,10]\n",
    "scaler = Normalizer().fit(X)\n",
    "normalizedX = scaler.transform(X)\n",
    "# Ausgabe einer Kurzfassung der Daten 0:10\n",
    "set_printoptions(precision=3)\n",
    "print(normalizedX[0:10,:])"
   ]
  },
  {
   "cell_type": "markdown",
   "metadata": {},
   "source": [
    "<h3>Binärisierung der Daten</h3>"
   ]
  },
  {
   "cell_type": "markdown",
   "metadata": {},
   "source": [
    "Wir können die Daten mit einer binären Schwelle (threshold) transformieren. Alle Werte oberhalb der Schwelle werden mit 1 und alle gleich oder kleiner mit 0 gekennzeichnet. Dies wird als Binärisierung der Daten. Es kann nützlich sein, wenn wir scharfe Trennungen haben wollen. Es ist auch im Feature Engineering nützlich, wenn neue Festures mit großer Bedeutung hinzugefügt werden sollen. Wir können neue binäre Attribute in Python in scikit-learn mit der Binarizer class erstellen.\n"
   ]
  },
  {
   "cell_type": "code",
   "execution_count": 30,
   "metadata": {},
   "outputs": [
    {
     "name": "stdout",
     "output_type": "stream",
     "text": [
      "[[ 0.  0.  1.  1.  1.  0.  1.  0.  0.  1.]\n",
      " [ 0.  0.  1.  1.  1.  0.  1.  0.  1.  1.]\n",
      " [ 0.  0.  1.  1.  1.  0.  1.  0.  1.  1.]\n",
      " [ 0.  0.  1.  1.  1.  0.  1.  0.  1.  1.]\n",
      " [ 0.  0.  1.  1.  1.  0.  1.  0.  1.  1.]\n",
      " [ 0.  0.  1.  1.  1.  0.  1.  0.  1.  1.]\n",
      " [ 0.  0.  1.  1.  1.  0.  1.  0.  1.  1.]\n",
      " [ 0.  0.  1.  1.  1.  0.  1.  0.  1.  1.]\n",
      " [ 0.  0.  1.  1.  1.  0.  1.  0.  1.  1.]\n",
      " [ 0.  0.  1.  1.  1.  0.  1.  0.  1.  1.]]\n"
     ]
    }
   ],
   "source": [
    "# Binärisierung der Daten \n",
    "# Laden des Moduls Binarizer aus sklearn.preprocessing\n",
    "from sklearn.preprocessing import Binarizer\n",
    "# Übergabe der Werte in datensatz an ein array3\n",
    "array3 = datensatz.values\n",
    "# Aufteilen des arrays in abhängige Variable Y und unabhängige Variable X\n",
    "X = array3[:,0:10]\n",
    "Y = array3[:,10]\n",
    "# Einstellen des threshold() für den Binarizer. Wir wählen 50\n",
    "binarizer = Binarizer(threshold=50.0).fit(X)\n",
    "binaryX = binarizer.transform(X)\n",
    "# Ausgabe einer Kurzfassung der Daten 0:10\n",
    "set_printoptions(precision=3)\n",
    "print(binaryX[0:10,:])"
   ]
  },
  {
   "cell_type": "markdown",
   "metadata": {},
   "source": [
    "<h3>Skalierung der Daten</h3>"
   ]
  },
  {
   "cell_type": "markdown",
   "metadata": {},
   "source": [
    "Wenn die Daten aus Attributen mit unterschiedlichen Größenordnungen bestehen, soe wie hier im Datensatz der Sensordaten, können sich viele Algorithmen des maschinellen Lernens durch die Neuskalierung der Attribute im Ergebnis verbessern. Oft wird dies als Normalisierung bezeichnet. Die Attribute werden dann in den Bereich zwischen 0 und 1 skaliert. Dies ist nützlich zum Beispiel für Optimierungsalgorithmen, die im Kern von maschinellen Lernalgorithmen wie dem Gradientenabstieg (gradient descent) verwendet werden. Dies ist auch nützlich bei Algorithmen, wie Regression und Neuronale Netze, die Eingaben gewichten und Algorithmen, die Entfernungsmessungen verwenden, wie zum Beipiel k-Nearest Neighbors. Wir können die Daten in scikit-learn mit der MinMaxScaler-Klasse neu skalieren."
   ]
  },
  {
   "cell_type": "code",
   "execution_count": 32,
   "metadata": {},
   "outputs": [
    {
     "name": "stdout",
     "output_type": "stream",
     "text": [
      "[[ 0.17  0.17  0.17  0.17  0.17  0.14  0.17  0.16  0.16  0.16]\n",
      " [ 0.36  0.36  0.36  0.36  0.36  0.33  0.36  0.47  0.47  0.47]\n",
      " [ 0.6   0.6   0.6   0.6   0.6   0.58  0.6   0.46  0.46  0.46]\n",
      " [ 0.58  0.58  0.58  0.58  0.58  0.57  0.58  0.4   0.4   0.4 ]\n",
      " [ 0.64  0.64  0.64  0.64  0.64  0.63  0.64  0.3   0.3   0.3 ]\n",
      " [ 0.42  0.42  0.42  0.42  0.42  0.4   0.42  0.46  0.46  0.46]\n",
      " [ 0.53  0.53  0.53  0.53  0.53  0.51  0.53  0.41  0.41  0.41]\n",
      " [ 0.65  0.65  0.65  0.65  0.65  0.63  0.65  0.26  0.26  0.26]\n",
      " [ 0.49  0.49  0.49  0.49  0.49  0.47  0.49  0.42  0.43  0.43]\n",
      " [ 0.5   0.5   0.5   0.5   0.49  0.48  0.49  0.48  0.48  0.48]]\n"
     ]
    }
   ],
   "source": [
    "# Skalierung der Daten \n",
    "# Laden des Moduls MinMaxScaler aus sklearn.preprocessing\n",
    "from sklearn.preprocessing import MinMaxScaler\n",
    "# Übergabe der Werte in datensatz an ein array4\n",
    "array4 = datensatz.values\n",
    "# Aufteilen des arrays in abhängige Variable Y und unabhängige Variable X\n",
    "X = array4[:,0:10]\n",
    "Y = array4[:,10]\n",
    "# Einstellen der feature_range() im MinMaxScaler\n",
    "scaler = MinMaxScaler(feature_range=(0, 1))\n",
    "rescaledX = scaler.fit_transform(X)\n",
    "# Ausgabe einer Kurzfassung der Daten 0:10 mit precision=2\n",
    "set_printoptions(precision=2)\n",
    "print(rescaledX[0:10,:])"
   ]
  },
  {
   "cell_type": "markdown",
   "metadata": {},
   "source": [
    "<h3>Weiteres Beispiel</h3>"
   ]
  },
  {
   "cell_type": "code",
   "execution_count": 34,
   "metadata": {},
   "outputs": [
    {
     "name": "stdout",
     "output_type": "stream",
     "text": [
      "[[ 0.64   0.848  0.15   0.907 -0.693  0.204  0.468  1.426]\n",
      " [-0.845 -1.123 -0.161  0.531 -0.693 -0.684 -0.365 -0.191]\n",
      " [ 1.234  1.944 -0.264 -1.288 -0.693 -1.103  0.604 -0.106]\n",
      " [-0.845 -0.998 -0.161  0.155  0.123 -0.494 -0.921 -1.042]\n",
      " [-1.142  0.504 -1.505  0.907  0.766  1.41   5.485 -0.02 ]\n",
      " [ 0.343 -0.153  0.253 -1.288 -0.693 -0.811 -0.818 -0.276]\n",
      " [-0.251 -1.342 -0.988  0.719  0.071 -0.126 -0.676 -0.616]\n",
      " [ 1.828 -0.184 -3.573 -1.288 -0.693  0.42  -1.02  -0.361]\n",
      " [-0.548  2.382  0.046  1.535  4.022 -0.189 -0.948  1.681]\n",
      " [ 1.234  0.128  1.39  -1.288 -0.693 -4.06  -0.724  1.766]]\n"
     ]
    }
   ],
   "source": [
    "# Standardisierung der Daten (Mittelwert = 0 , Standardabweichung = 1)\n",
    "from sklearn.preprocessing import StandardScaler\n",
    "from pandas import read_csv\n",
    "from numpy import set_printoptions\n",
    "# Übergabe des Dateinamens an die Variable Dateiname\n",
    "dateiname = 'pima-indians-diabetes.data.csv'\n",
    "# Festlegen der Spalten Namen für den DataFrame\n",
    "namen = ['preg', 'plas', 'pres', 'skin', 'test', 'mass', 'pedi', 'age', 'class']\n",
    "# Einlesen der Daten in einen panda DataFrame mit read_csv()\n",
    "df = read_csv(dateiname, names=namen)\n",
    "# Übergabe der Werte in df an ein array5\n",
    "array5 = df.values\n",
    "# Aufteilen des arrays in abhängige Variable Y und unabhängige Variable X - hier steht die Klasse in Spalte 9\n",
    "X = array5[:,0:8]\n",
    "Y = array5[:,8]\n",
    "scaler = StandardScaler().fit(X)\n",
    "rescaledX = scaler.transform(X)\n",
    "# summarize transformed data\n",
    "set_printoptions(precision=3)\n",
    "print(rescaledX[0:10,:])"
   ]
  },
  {
   "cell_type": "code",
   "execution_count": null,
   "metadata": {
    "collapsed": true
   },
   "outputs": [],
   "source": []
  },
  {
   "cell_type": "markdown",
   "metadata": {},
   "source": [
    "<h2>Weiterführende Links:</h2>"
   ]
  },
  {
   "cell_type": "markdown",
   "metadata": {},
   "source": [
    "<ul>\n",
    "<li> https://www.stuttgart.ihk.de\n",
    "</ul>"
   ]
  },
  {
   "cell_type": "markdown",
   "metadata": {},
   "source": [
    "<h2>Weiterführende Literatur:</h2>"
   ]
  },
  {
   "cell_type": "markdown",
   "metadata": {},
   "source": [
    "<ul>\n",
    "<li> https://www.stuttgart.ihk.de\n",
    "</ul>"
   ]
  },
  {
   "cell_type": "markdown",
   "metadata": {},
   "source": [
    "<b>Ansprechpartner IHK-Region Stuttgart:</b><br>\n",
    "Dipl. Wirtsch-Ing. R. Rank"
   ]
  },
  {
   "cell_type": "code",
   "execution_count": null,
   "metadata": {
    "collapsed": true
   },
   "outputs": [],
   "source": []
  }
 ],
 "metadata": {
  "kernelspec": {
   "display_name": "Python [conda root]",
   "language": "python",
   "name": "conda-root-py"
  },
  "language_info": {
   "codemirror_mode": {
    "name": "ipython",
    "version": 2
   },
   "file_extension": ".py",
   "mimetype": "text/x-python",
   "name": "python",
   "nbconvert_exporter": "python",
   "pygments_lexer": "ipython2",
   "version": "2.7.13"
  }
 },
 "nbformat": 4,
 "nbformat_minor": 2
}
